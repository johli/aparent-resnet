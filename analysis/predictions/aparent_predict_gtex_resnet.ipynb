{
 "cells": [
  {
   "cell_type": "code",
   "execution_count": 1,
   "metadata": {
    "scrolled": true
   },
   "outputs": [
    {
     "name": "stderr",
     "output_type": "stream",
     "text": [
      "Using TensorFlow backend.\n"
     ]
    }
   ],
   "source": [
    "from __future__ import print_function\n",
    "import keras\n",
    "from keras.models import Sequential, Model, load_model\n",
    "\n",
    "import tensorflow as tf\n",
    "\n",
    "import pandas as pd\n",
    "\n",
    "import os\n",
    "import pickle\n",
    "import numpy as np\n",
    "\n",
    "import scipy.sparse as sp\n",
    "import scipy.io as spio\n",
    "\n",
    "import isolearn.io as isoio\n",
    "import isolearn.keras as iso\n"
   ]
  },
  {
   "cell_type": "code",
   "execution_count": 2,
   "metadata": {},
   "outputs": [],
   "source": [
    "#Load sequence data\n",
    "\n",
    "df = pd.read_csv('../../data/prepared_data/apa_gtex_data/polyadb_merged_lead_SNPs.csv', sep='\\t')\n"
   ]
  },
  {
   "cell_type": "code",
   "execution_count": 11,
   "metadata": {},
   "outputs": [],
   "source": [
    "#Create data features\n",
    "\n",
    "encoder = iso.OneHotEncoder(205)\n",
    "\n",
    "l_fake = np.zeros((len(df), 13))\n",
    "l_fake[:, 11] = 1.\n",
    "\n",
    "ref_onehots = np.concatenate([encoder.encode(row['wide_seq_ext'][175-70:175-70+205])[None, None, :, :] for _, row in df.iterrows()], axis=0)\n",
    "var_onehots = np.concatenate([encoder.encode(row['wide_seq_ext_var'][175-70:175-70+205])[None, None, :, :] for _, row in df.iterrows()], axis=0)\n",
    "\n",
    "#Pad\n",
    "n_pad = 32 - len(df) % 32 if len(df) % 32 != 0 else 0\n",
    "\n",
    "l_fake = np.concatenate([l_fake, np.zeros((n_pad, 13))], axis=0)\n",
    "ref_onehots = np.concatenate([ref_onehots, np.zeros((n_pad, 1, 205, 4))], axis=0)\n",
    "var_onehots = np.concatenate([var_onehots, np.zeros((n_pad, 1, 205, 4))], axis=0)\n"
   ]
  },
  {
   "cell_type": "code",
   "execution_count": 12,
   "metadata": {},
   "outputs": [
    {
     "name": "stderr",
     "output_type": "stream",
     "text": [
      "/home/jlinder2/anaconda3/envs/tensorflow/lib/python3.6/site-packages/keras/engine/saving.py:292: UserWarning: No training configuration found in save file: the model was *not* compiled. Compile it manually.\n",
      "  warnings.warn('No training configuration found in save file: '\n"
     ]
    }
   ],
   "source": [
    "#Load APARENT Resnet\n",
    "\n",
    "model_name = 'aparent_all_libs_resnet_no_clinvar_wt_ep_5'\n",
    "\n",
    "save_dir = os.path.join(os.getcwd(), '../../../aparent-resnet/saved_models')\n",
    "model_path = os.path.join(save_dir, model_name + '.h5')\n",
    "\n",
    "aparent_model = load_model(model_path)"
   ]
  },
  {
   "cell_type": "code",
   "execution_count": 17,
   "metadata": {
    "scrolled": true
   },
   "outputs": [
    {
     "name": "stdout",
     "output_type": "stream",
     "text": [
      "5952/5952 [==============================] - 40s 7ms/step\n",
      "5952/5952 [==============================] - 42s 7ms/step\n"
     ]
    }
   ],
   "source": [
    "#Predict\n",
    "\n",
    "_, ref_cut_pred = aparent_model.predict(x=[ref_onehots, l_fake], batch_size=32, verbose=True)\n",
    "_, var_cut_pred = aparent_model.predict(x=[var_onehots, l_fake], batch_size=32, verbose=True)\n",
    "\n",
    "#Calculate isoform logits\n",
    "if n_pad > 0 :\n",
    "    ref_cut_pred = ref_cut_pred[:-n_pad, :]\n",
    "    var_cut_pred = var_cut_pred[:-n_pad, :]\n",
    "\n",
    "isoform_start = 0\n",
    "isoform_end = 205\n",
    "\n",
    "ref_iso_pred = np.sum(ref_cut_pred[:, isoform_start:isoform_end], axis=1)\n",
    "var_iso_pred = np.sum(var_cut_pred[:, isoform_start:isoform_end], axis=1)\n",
    "\n",
    "delta_logodds = np.log(var_iso_pred / (1. - var_iso_pred)) - np.log(ref_iso_pred / (1. - ref_iso_pred))\n"
   ]
  },
  {
   "cell_type": "code",
   "execution_count": 18,
   "metadata": {},
   "outputs": [],
   "source": [
    "#Copy the dataframe and store isoform predictions\n",
    "\n",
    "pred_df = df.copy().reset_index(drop=True)\n",
    "\n",
    "pred_df['delta_isoform_logodds'] = delta_logodds\n"
   ]
  },
  {
   "cell_type": "code",
   "execution_count": 19,
   "metadata": {},
   "outputs": [],
   "source": [
    "#Dump prediction dataframe and cut probability matrix\n",
    "\n",
    "isoio.dump({'pred_df' : pred_df}, 'apa_gtex_data/' + model_name + '_predictions')"
   ]
  },
  {
   "cell_type": "code",
   "execution_count": null,
   "metadata": {},
   "outputs": [],
   "source": []
  }
 ],
 "metadata": {
  "kernelspec": {
   "display_name": "Python [conda env:tensorflow]",
   "language": "python",
   "name": "conda-env-tensorflow-py"
  },
  "language_info": {
   "codemirror_mode": {
    "name": "ipython",
    "version": 3
   },
   "file_extension": ".py",
   "mimetype": "text/x-python",
   "name": "python",
   "nbconvert_exporter": "python",
   "pygments_lexer": "ipython3",
   "version": "3.6.8"
  }
 },
 "nbformat": 4,
 "nbformat_minor": 2
}
