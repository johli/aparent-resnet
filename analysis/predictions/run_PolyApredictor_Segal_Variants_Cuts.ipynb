{
 "cells": [
  {
   "cell_type": "code",
   "execution_count": 1,
   "metadata": {},
   "outputs": [],
   "source": [
    "from __future__ import division\n",
    "import pandas as pd\n",
    "import numpy as np\n",
    "import seaborn as sns\n",
    "import matplotlib.pyplot as plt\n",
    "\n",
    "def one_hot_encoding_1D(sequences):\n",
    "    \"\"\"Perform one hot encoding on DNA sequences.\n",
    "    sequences is a list of DNA sequences.\n",
    "    Returns a numpy array of the shape (number_of_sequences, max_len, 4).\n",
    "    This is compatible as input for 1D CNN.\"\"\"\n",
    "    from keras.preprocessing.text import Tokenizer\n",
    "    from keras.utils import to_categorical\n",
    "    tokenizer = Tokenizer(char_level=True)\n",
    "    tokenizer.fit_on_texts(['ACGT'])\n",
    "    sequence_of_int = tokenizer.texts_to_sequences(sequences)\n",
    "    one_hot_encoded = to_categorical(sequence_of_int)\n",
    "    one_hot_encoded = one_hot_encoded[..., 1:]\n",
    "    one_hot_reshaped = one_hot_encoded.reshape((len(sequences), 250, 4))\n",
    "    return one_hot_reshaped\n",
    "\n",
    "import sys\n",
    "import os\n",
    "\n",
    "def cleavage_model(params):\n",
    "    from keras import layers\n",
    "    from keras import models\n",
    "    from keras.optimizers import Adam\n",
    "    from keras.regularizers import l1_l2\n",
    "    num_filters = params['num_filters']\n",
    "    num_filters2 = params['num_filters2']\n",
    "    kernel_size = params['kernel_size']\n",
    "    kernel_size2 = params['kernel_size2']\n",
    "    l1_lambda = params['l1_lambda']\n",
    "    l2_lambda = params['l2_lambda']\n",
    "    act_l1_lambda = params['act_l1_lambda']\n",
    "    lr = params['lr']\n",
    "    model = models.Sequential()\n",
    "    model.add(layers.Conv1D(num_filters, kernel_size, input_shape=(250, 4), activation='relu',\n",
    "                            kernel_regularizer=l1_l2(l1=l1_lambda, l2=l2_lambda), name='1st_Conv1D'))\n",
    "    model.add(layers.MaxPooling1D(2, strides=1, name='1st_MaxPooling1D'))\n",
    "    model.add(layers.Dropout(0.5, name='1st_Dropout'))\n",
    "    model.add(layers.Conv1D(num_filters2, kernel_size2, activation='relu',\n",
    "                            kernel_regularizer=l1_l2(l1=l1_lambda, l2=l2_lambda), name='2nd_Conv1D'))\n",
    "    model.add(layers.MaxPooling1D(2, strides=1, name='2nd_MaxPooling1D'))\n",
    "    model.add(layers.Dropout(0.5, name='2nd_Dropout'))\n",
    "    model.add(layers.Flatten(name='Flatten'))\n",
    "    model.add(layers.Dense(4096, activation='relu', kernel_regularizer=l1_l2(l1=l1_lambda, l2=l2_lambda), name='Dense'))\n",
    "    model.add(layers.Dense(189, activation='relu', kernel_regularizer=l1_l2(l1=l1_lambda, l2=l2_lambda),\n",
    "                           activity_regularizer=l1_l2(l1=act_l1_lambda, l2=0), name='Output'))\n",
    "    model.compile(Adam(lr=lr), 'poisson')\n",
    "    return model\n"
   ]
  },
  {
   "cell_type": "code",
   "execution_count": 3,
   "metadata": {},
   "outputs": [],
   "source": [
    "#Load dataframe of sequences to predict APA for\n",
    "\n",
    "df = pd.read_csv(\"segal_variants.tab\", sep='\\t')\n"
   ]
  },
  {
   "cell_type": "code",
   "execution_count": 5,
   "metadata": {},
   "outputs": [
    {
     "name": "stdout",
     "output_type": "stream",
     "text": [
      "WARNING:tensorflow:From /home/ubuntu/anaconda3/envs/tensorflow_p36/lib/python3.6/site-packages/tensorflow/python/framework/op_def_library.py:263: colocate_with (from tensorflow.python.framework.ops) is deprecated and will be removed in a future version.\n",
      "Instructions for updating:\n",
      "Colocations handled automatically by placer.\n",
      "WARNING:tensorflow:From /home/ubuntu/anaconda3/envs/tensorflow_p36/lib/python3.6/site-packages/keras/backend/tensorflow_backend.py:3445: calling dropout (from tensorflow.python.ops.nn_ops) with keep_prob is deprecated and will be removed in a future version.\n",
      "Instructions for updating:\n",
      "Please use `rate` instead of `keep_prob`. Rate should be set to `rate = 1 - keep_prob`.\n"
     ]
    }
   ],
   "source": [
    "#Execute pA prediction model\n",
    "\n",
    "one_hots = one_hot_encoding_1D([row['Sequence'] for _, row in df.iterrows()])\n",
    "\n",
    "params = {\n",
    "    'act_l1_lambda': 1e-06,\n",
    "    'batch_size': 512,\n",
    "    'epochs': 100,\n",
    "    'kernel_size': 12,\n",
    "    'kernel_size2': 8,\n",
    "    'l1_lambda': 0.0001,\n",
    "    'l2_lambda': 0.0001,\n",
    "    'lr': 0.0015,\n",
    "    'num_filters': 128,\n",
    "    'num_filters2': 64\n",
    "}\n",
    "\n",
    "model = cleavage_model(params)\n",
    "model.load_weights('SavedModels/saved_cnn_cleavage_model.h5')\n",
    "\n",
    "y_pred = model.predict(x=[one_hots], batch_size=32)\n"
   ]
  },
  {
   "cell_type": "code",
   "execution_count": 9,
   "metadata": {},
   "outputs": [],
   "source": [
    "#Re-save prediction df\n",
    "\n",
    "np.save('segal_variants_predictions_df_PolyApredictor_cuts.npy', y_pred)\n",
    "\n",
    "df.to_csv(\"segal_variants_predictions_df_PolyApredictor_cuts.csv\", sep='\\t', index=False)\n"
   ]
  },
  {
   "cell_type": "code",
   "execution_count": null,
   "metadata": {},
   "outputs": [],
   "source": []
  }
 ],
 "metadata": {
  "kernelspec": {
   "display_name": "Environment (conda_tensorflow_p36)",
   "language": "python",
   "name": "conda_tensorflow_p36"
  },
  "language_info": {
   "codemirror_mode": {
    "name": "ipython",
    "version": 3
   },
   "file_extension": ".py",
   "mimetype": "text/x-python",
   "name": "python",
   "nbconvert_exporter": "python",
   "pygments_lexer": "ipython3",
   "version": "3.6.5"
  }
 },
 "nbformat": 4,
 "nbformat_minor": 2
}
