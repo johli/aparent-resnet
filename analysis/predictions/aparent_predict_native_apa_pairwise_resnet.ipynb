{
 "cells": [
  {
   "cell_type": "code",
   "execution_count": 1,
   "metadata": {
    "scrolled": true
   },
   "outputs": [
    {
     "name": "stderr",
     "output_type": "stream",
     "text": [
      "Using TensorFlow backend.\n"
     ]
    }
   ],
   "source": [
    "from __future__ import print_function\n",
    "import keras\n",
    "from keras.models import Sequential, Model, load_model\n",
    "\n",
    "import tensorflow as tf\n",
    "\n",
    "import pandas as pd\n",
    "\n",
    "import os\n",
    "import pickle\n",
    "import numpy as np\n",
    "\n",
    "import scipy.sparse as sp\n",
    "import scipy.io as spio\n",
    "\n",
    "import isolearn.io as isoio\n",
    "import isolearn.keras as iso\n"
   ]
  },
  {
   "cell_type": "code",
   "execution_count": 2,
   "metadata": {},
   "outputs": [],
   "source": [
    "#Load sequence data\n",
    "\n",
    "df = pd.read_csv('../../../aparent/data/prepared_data/apa_leslie_derti_apadb_pair_data/apa_leslie_derti_apadb_pair_data_df_pair.csv', sep='\\t')\n"
   ]
  },
  {
   "cell_type": "code",
   "execution_count": 3,
   "metadata": {},
   "outputs": [
    {
     "name": "stdout",
     "output_type": "stream",
     "text": [
      "WARNING:tensorflow:From /home/jlinder2/anaconda3/envs/tensorflow/lib/python3.6/site-packages/tensorflow/python/framework/op_def_library.py:263: colocate_with (from tensorflow.python.framework.ops) is deprecated and will be removed in a future version.\n",
      "Instructions for updating:\n",
      "Colocations handled automatically by placer.\n",
      "WARNING:tensorflow:From /home/jlinder2/anaconda3/envs/tensorflow/lib/python3.6/site-packages/keras/backend/tensorflow_backend.py:3445: calling dropout (from tensorflow.python.ops.nn_ops) with keep_prob is deprecated and will be removed in a future version.\n",
      "Instructions for updating:\n",
      "Please use `rate` instead of `keep_prob`. Rate should be set to `rate = 1 - keep_prob`.\n"
     ]
    },
    {
     "name": "stderr",
     "output_type": "stream",
     "text": [
      "/home/jlinder2/anaconda3/envs/tensorflow/lib/python3.6/site-packages/keras/engine/saving.py:292: UserWarning: No training configuration found in save file: the model was *not* compiled. Compile it manually.\n",
      "  warnings.warn('No training configuration found in save file: '\n"
     ]
    }
   ],
   "source": [
    "#Load APARENT Resnet\n",
    "\n",
    "model_name = 'aparent_all_libs_resnet_no_clinvar_wt_ep_5'\n",
    "\n",
    "save_dir = os.path.join(os.getcwd(), '../../../aparent-resnet/saved_models')\n",
    "model_path = os.path.join(save_dir, model_name + '.h5')\n",
    "\n",
    "aparent_model = load_model(model_path)"
   ]
  },
  {
   "cell_type": "code",
   "execution_count": 6,
   "metadata": {
    "scrolled": true
   },
   "outputs": [
    {
     "name": "stdout",
     "output_type": "stream",
     "text": [
      "24704/24704 [==============================] - 237s 10ms/step\n",
      "24704/24704 [==============================] - 235s 10ms/step\n"
     ]
    }
   ],
   "source": [
    "#Score all sequences with APARENT (use sum of cuts to capture OR-like logic)\n",
    "\n",
    "max_n_pas = 10\n",
    "\n",
    "encoder = iso.OneHotEncoder(205)\n",
    "\n",
    "x_prox = np.concatenate([encoder.encode(row['wide_seq_ext_prox'][175-70:175-70+205])[None, None, :, :] for _, row in df.iterrows()], axis=0)\n",
    "x_dist = np.concatenate([encoder.encode(row['wide_seq_ext_dist'][175-70:175-70+205])[None, None, :, :] for _, row in df.iterrows()], axis=0)\n",
    "\n",
    "fake_lib = np.zeros((x_prox.shape[0], 13))\n",
    "fake_lib[:, 11] = 1.\n",
    "\n",
    "#Pad\n",
    "n_pad = 32 - x_prox.shape[0] % 32 if x_prox.shape[0] % 32 != 0 else 0\n",
    "\n",
    "fake_lib = np.concatenate([fake_lib, np.zeros((n_pad, 13))], axis=0)\n",
    "x_prox = np.concatenate([x_prox, np.zeros((n_pad, 1, 205, 4))], axis=0)\n",
    "x_dist = np.concatenate([x_dist, np.zeros((n_pad, 1, 205, 4))], axis=0)\n",
    "\n",
    "_, pred_cuts_prox = aparent_model.predict(x=[x_prox, fake_lib], batch_size=32, verbose=1)\n",
    "_, pred_cuts_dist = aparent_model.predict(x=[x_dist, fake_lib], batch_size=32, verbose=1)\n",
    "\n",
    "if n_pad > 0 :\n",
    "    pred_cuts_prox = pred_cuts_prox[:-n_pad, :]\n",
    "    pred_cuts_dist = pred_cuts_dist[:-n_pad, :]\n"
   ]
  },
  {
   "cell_type": "code",
   "execution_count": 8,
   "metadata": {},
   "outputs": [],
   "source": [
    "\n",
    "isoform_start = 77\n",
    "isoform_end = 127\n",
    "\n",
    "pred_iso_prox = np.sum(pred_cuts_prox[:, isoform_start:isoform_end], axis=1)\n",
    "score_prox = np.log(pred_iso_prox / (1. - pred_iso_prox))\n",
    "\n",
    "pred_iso_dist = np.sum(pred_cuts_dist[:, isoform_start:isoform_end], axis=1)\n",
    "score_dist = np.log(pred_iso_dist / (1. - pred_iso_dist))\n",
    "\n",
    "isoform_start = 0\n",
    "isoform_end = 205\n",
    "\n",
    "pred_iso_prox_all_cuts = np.sum(pred_cuts_prox[:, isoform_start:isoform_end], axis=1)\n",
    "score_prox_all_cuts = np.log(pred_iso_prox_all_cuts / (1. - pred_iso_prox_all_cuts))\n",
    "\n",
    "pred_iso_dist_all_cuts = np.sum(pred_cuts_dist[:, isoform_start:isoform_end], axis=1)\n",
    "score_dist_all_cuts = np.log(pred_iso_dist_all_cuts / (1. - pred_iso_dist_all_cuts))\n",
    "\n",
    "score_prox_apadb_region = []\n",
    "score_dist_apadb_region = []\n",
    "\n",
    "i = 0\n",
    "for _, row in df.iterrows() :\n",
    "    \n",
    "    strand = row['strand']\n",
    "    \n",
    "    cut_start_prox = 0\n",
    "    cut_end_prox = 205\n",
    "    cut_start_dist = 0\n",
    "    cut_end_dist = 205\n",
    "    \n",
    "    if strand == '+' :\n",
    "        cut_start_prox = row['cut_start_prox'] - row['pas_pos_prox'] + 70\n",
    "        cut_end_prox = row['cut_end_prox'] - row['pas_pos_prox'] + 70\n",
    "        cut_start_dist = row['cut_start_dist'] - row['pas_pos_dist'] + 70\n",
    "        cut_end_dist = row['cut_end_dist'] - row['pas_pos_dist'] + 70\n",
    "    else :\n",
    "        cut_start_prox = row['pas_pos_prox'] - row['cut_end_prox'] + 76\n",
    "        cut_end_prox = row['pas_pos_prox'] - row['cut_start_prox'] + 76\n",
    "        cut_start_dist = row['pas_pos_dist'] - row['cut_end_dist'] + 76\n",
    "        cut_end_dist = row['pas_pos_dist'] - row['cut_start_dist'] + 76\n",
    "    \n",
    "    pred_iso_p = np.sum(pred_cuts_prox[i, cut_start_prox:cut_end_prox])\n",
    "    score_p = np.log(pred_iso_p / (1. - pred_iso_p))\n",
    "\n",
    "    pred_iso_d = np.sum(pred_cuts_dist[i, cut_start_dist:cut_end_dist])\n",
    "    score_d = np.log(pred_iso_d / (1. - pred_iso_d))\n",
    "    \n",
    "    score_prox_apadb_region.append(score_p)\n",
    "    score_dist_apadb_region.append(score_d)\n",
    "    \n",
    "    i += 1\n",
    "\n",
    "score_prox_apadb_region = np.array(score_prox_apadb_region)\n",
    "score_dist_apadb_region = np.array(score_dist_apadb_region)\n"
   ]
  },
  {
   "cell_type": "code",
   "execution_count": 9,
   "metadata": {},
   "outputs": [],
   "source": [
    "#Copy the dataframe and store isoform predictions\n",
    "\n",
    "pred_df = df.copy().reset_index(drop=True)\n",
    "\n",
    "pred_df['score_prox'] = score_prox\n",
    "pred_df['score_dist'] = score_dist\n",
    "pred_df['score_prox_all_cuts'] = score_prox_all_cuts\n",
    "pred_df['score_dist_all_cuts'] = score_dist_all_cuts\n",
    "pred_df['score_prox_apadb_region'] = score_prox_apadb_region\n",
    "pred_df['score_dist_apadb_region'] = score_dist_apadb_region\n"
   ]
  },
  {
   "cell_type": "code",
   "execution_count": 10,
   "metadata": {},
   "outputs": [],
   "source": [
    "#Dump prediction dataframe and cut probability matrix\n",
    "\n",
    "isoio.dump({'pred_df' : pred_df}, 'apa_leslie_derti_apadb_pair_data/' + model_name + '_predictions')"
   ]
  },
  {
   "cell_type": "code",
   "execution_count": null,
   "metadata": {},
   "outputs": [],
   "source": []
  }
 ],
 "metadata": {
  "kernelspec": {
   "display_name": "Python [conda env:tensorflow]",
   "language": "python",
   "name": "conda-env-tensorflow-py"
  },
  "language_info": {
   "codemirror_mode": {
    "name": "ipython",
    "version": 3
   },
   "file_extension": ".py",
   "mimetype": "text/x-python",
   "name": "python",
   "nbconvert_exporter": "python",
   "pygments_lexer": "ipython3",
   "version": "3.6.8"
  }
 },
 "nbformat": 4,
 "nbformat_minor": 2
}
