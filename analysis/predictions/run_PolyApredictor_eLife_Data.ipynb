{
 "cells": [
  {
   "cell_type": "code",
   "execution_count": 1,
   "metadata": {},
   "outputs": [],
   "source": [
    "from __future__ import division\n",
    "import pandas as pd\n",
    "import numpy as np\n",
    "import seaborn as sns\n",
    "import matplotlib.pyplot as plt\n",
    "\n",
    "def one_hot_encoding_1D(sequences):\n",
    "    \"\"\"Perform one hot encoding on DNA sequences.\n",
    "    sequences is a list of DNA sequences.\n",
    "    Returns a numpy array of the shape (number_of_sequences, max_len, 4).\n",
    "    This is compatible as input for 1D CNN.\"\"\"\n",
    "    from keras.preprocessing.text import Tokenizer\n",
    "    from keras.utils import to_categorical\n",
    "    tokenizer = Tokenizer(char_level=True)\n",
    "    tokenizer.fit_on_texts(['ACGT'])\n",
    "    sequence_of_int = tokenizer.texts_to_sequences(sequences)\n",
    "    one_hot_encoded = to_categorical(sequence_of_int)\n",
    "    one_hot_encoded = one_hot_encoded[..., 1:]\n",
    "    one_hot_reshaped = one_hot_encoded.reshape((len(sequences), 250, 4))\n",
    "    return one_hot_reshaped\n",
    "\n",
    "import sys\n",
    "import os\n",
    "\n",
    "def expression_model(params):\n",
    "    from keras import layers\n",
    "    from keras import models\n",
    "    from keras.optimizers import Adam\n",
    "    from keras.regularizers import l1_l2\n",
    "    num_filters = params['num_filters']\n",
    "    num_filters2 = params['num_filters2']\n",
    "    kernel_size = params['kernel_size']\n",
    "    kernel_size2 = params['kernel_size2']\n",
    "    l1_lambda = params['l1_lambda']\n",
    "    l2_lambda = params['l2_lambda']\n",
    "    lr = params['lr']\n",
    "    model = models.Sequential()\n",
    "    model.add(layers.Conv1D(num_filters, kernel_size, input_shape=(250, 4), activation='relu',\n",
    "                            kernel_regularizer=l1_l2(l1=l1_lambda, l2=l2_lambda), name='1st_Conv1D'))\n",
    "    model.add(layers.MaxPooling1D(2, strides=1, name='1st_MaxPooling1D'))\n",
    "    model.add(layers.Dropout(0.5, name='1st_Dropout'))\n",
    "    model.add(layers.Conv1D(num_filters2, kernel_size2, activation='relu',\n",
    "                            kernel_regularizer=l1_l2(l1=l1_lambda, l2=l2_lambda), name='2nd_Conv1D'))\n",
    "    model.add(layers.MaxPooling1D(2, strides=1, name='2nd_MaxPooling1D'))\n",
    "    model.add(layers.Dropout(0.5, name='2nd_Dropout'))\n",
    "    model.add(layers.Flatten(name='Flatten'))\n",
    "    model.add(layers.Dense(1, kernel_regularizer=l1_l2(l1=l1_lambda, l2=l2_lambda), name='Output'))\n",
    "    model.compile(Adam(lr=lr), 'mse')\n",
    "    return model\n"
   ]
  },
  {
   "cell_type": "code",
   "execution_count": 2,
   "metadata": {
    "scrolled": true
   },
   "outputs": [],
   "source": [
    "#Load dataframe of sequences to predict APA for\n",
    "\n",
    "df = pd.read_csv('polyadb_elife_SNPs.csv', sep='\\t')\n"
   ]
  },
  {
   "cell_type": "code",
   "execution_count": 3,
   "metadata": {},
   "outputs": [],
   "source": [
    "\n",
    "df['seq_ref'] = df['wide_seq_ext'].str.slice(175-70-30-25, 175-70+205+15-25)\n",
    "df['seq_var'] = df['wide_seq_ext_var'].str.slice(175-70-30-25, 175-70+205+15-25)\n"
   ]
  },
  {
   "cell_type": "code",
   "execution_count": 4,
   "metadata": {},
   "outputs": [
    {
     "name": "stderr",
     "output_type": "stream",
     "text": [
      "Using TensorFlow backend.\n"
     ]
    },
    {
     "name": "stdout",
     "output_type": "stream",
     "text": [
      "WARNING:tensorflow:From /home/ubuntu/anaconda3/envs/tensorflow_p36/lib/python3.6/site-packages/tensorflow/python/framework/op_def_library.py:263: colocate_with (from tensorflow.python.framework.ops) is deprecated and will be removed in a future version.\n",
      "Instructions for updating:\n",
      "Colocations handled automatically by placer.\n",
      "WARNING:tensorflow:From /home/ubuntu/anaconda3/envs/tensorflow_p36/lib/python3.6/site-packages/keras/backend/tensorflow_backend.py:3445: calling dropout (from tensorflow.python.ops.nn_ops) with keep_prob is deprecated and will be removed in a future version.\n",
      "Instructions for updating:\n",
      "Please use `rate` instead of `keep_prob`. Rate should be set to `rate = 1 - keep_prob`.\n"
     ]
    }
   ],
   "source": [
    "#Execute pA prediction model\n",
    "\n",
    "one_hots_ref = one_hot_encoding_1D([row['seq_ref'] for _, row in df.iterrows()])\n",
    "one_hots_var = one_hot_encoding_1D([row['seq_var'] for _, row in df.iterrows()])\n",
    "\n",
    "params = {\n",
    "    'batch_size': 256,\n",
    "    'epochs': 75,\n",
    "    'kernel_size': 8,\n",
    "    'kernel_size2': 6,\n",
    "    'l1_lambda': 0.0001,\n",
    "    'l2_lambda': 0.0001,\n",
    "    'lr': 0.0015,\n",
    "    'num_filters': 64,\n",
    "    'num_filters2': 32\n",
    "}\n",
    "\n",
    "model = expression_model(params)\n",
    "model.load_weights('SavedModels/saved_cnn_expression_model.h5')\n",
    "\n",
    "y_pred_ref = model.predict(x=[one_hots_ref], batch_size=32)\n",
    "y_pred_var = model.predict(x=[one_hots_var], batch_size=32)\n"
   ]
  },
  {
   "cell_type": "code",
   "execution_count": 5,
   "metadata": {},
   "outputs": [
    {
     "data": {
      "image/png": "[encoded data removed]",
      "text/plain": [
       "<Figure size 432x288 with 1 Axes>"
      ]
     },
     "metadata": {},
     "output_type": "display_data"
    }
   ],
   "source": [
    "import matplotlib.pyplot as plt\n",
    "\n",
    "f = plt.figure()\n",
    "\n",
    "plt.hist(y_pred_ref[:, 0], bins=20, alpha=0.5)\n",
    "plt.hist(y_pred_var[:, 0], bins=20, alpha=0.5)\n",
    "\n",
    "plt.show()\n"
   ]
  },
  {
   "cell_type": "code",
   "execution_count": 6,
   "metadata": {},
   "outputs": [],
   "source": [
    "#Store predictions in df\n",
    "\n",
    "delta_logodds = y_pred_var - y_pred_ref\n",
    "\n",
    "df['delta_isoform_logodds'] = delta_logodds[:, 0]\n"
   ]
  },
  {
   "cell_type": "code",
   "execution_count": 7,
   "metadata": {},
   "outputs": [],
   "source": [
    "#Re-save prediction df\n",
    "\n",
    "df.to_csv(\"polyadb_elife_SNPs_polyapred_shifted.csv\", sep='\\t', index=False)\n"
   ]
  },
  {
   "cell_type": "code",
   "execution_count": null,
   "metadata": {},
   "outputs": [],
   "source": []
  }
 ],
 "metadata": {
  "kernelspec": {
   "display_name": "Environment (conda_tensorflow_p36)",
   "language": "python",
   "name": "conda_tensorflow_p36"
  },
  "language_info": {
   "codemirror_mode": {
    "name": "ipython",
    "version": 3
   },
   "file_extension": ".py",
   "mimetype": "text/x-python",
   "name": "python",
   "nbconvert_exporter": "python",
   "pygments_lexer": "ipython3",
   "version": "3.6.5"
  }
 },
 "nbformat": 4,
 "nbformat_minor": 2
}
