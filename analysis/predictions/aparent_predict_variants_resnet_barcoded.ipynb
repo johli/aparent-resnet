{
 "cells": [
  {
   "cell_type": "code",
   "execution_count": 1,
   "metadata": {
    "scrolled": true
   },
   "outputs": [
    {
     "name": "stderr",
     "output_type": "stream",
     "text": [
      "Using TensorFlow backend.\n"
     ]
    }
   ],
   "source": [
    "from __future__ import print_function\n",
    "import keras\n",
    "from keras.models import Sequential, Model, load_model\n",
    "\n",
    "import tensorflow as tf\n",
    "\n",
    "import pandas as pd\n",
    "\n",
    "import os\n",
    "import pickle\n",
    "import numpy as np\n",
    "\n",
    "import scipy.sparse as sp\n",
    "import scipy.io as spio\n",
    "\n",
    "import isolearn.io as isoio\n",
    "import isolearn.keras as iso\n",
    "\n",
    "from aparent.data.aparent_data_array import load_data\n"
   ]
  },
  {
   "cell_type": "code",
   "execution_count": 2,
   "metadata": {},
   "outputs": [
    {
     "name": "stdout",
     "output_type": "stream",
     "text": [
      "Designed MPRA size = 186066\n",
      "Training set size = 0\n",
      "Validation set size = 0\n",
      "Test set size = 186066\n"
     ]
    }
   ],
   "source": [
    "#Load designed MPRA data (not collapsed over barcodes)\n",
    "\n",
    "file_path = '../../data/prepared_data/apa_array_data/'\n",
    "array_gens = load_data(batch_size=1, file_path=file_path)\n"
   ]
  },
  {
   "cell_type": "code",
   "execution_count": 3,
   "metadata": {},
   "outputs": [],
   "source": [
    "#Retrieve sequence one hots\n",
    "\n",
    "x = np.concatenate([array_gens['all'][i][0][0] for i in range(len(array_gens['all']))], axis=0)\n"
   ]
  },
  {
   "cell_type": "code",
   "execution_count": 4,
   "metadata": {},
   "outputs": [
    {
     "name": "stdout",
     "output_type": "stream",
     "text": [
      "WARNING:tensorflow:From /home/jlinder2/anaconda3/envs/tensorflow/lib/python3.6/site-packages/tensorflow/python/framework/op_def_library.py:263: colocate_with (from tensorflow.python.framework.ops) is deprecated and will be removed in a future version.\n",
      "Instructions for updating:\n",
      "Colocations handled automatically by placer.\n",
      "WARNING:tensorflow:From /home/jlinder2/anaconda3/envs/tensorflow/lib/python3.6/site-packages/keras/backend/tensorflow_backend.py:3445: calling dropout (from tensorflow.python.ops.nn_ops) with keep_prob is deprecated and will be removed in a future version.\n",
      "Instructions for updating:\n",
      "Please use `rate` instead of `keep_prob`. Rate should be set to `rate = 1 - keep_prob`.\n"
     ]
    },
    {
     "name": "stderr",
     "output_type": "stream",
     "text": [
      "/home/jlinder2/anaconda3/envs/tensorflow/lib/python3.6/site-packages/keras/engine/saving.py:292: UserWarning: No training configuration found in save file: the model was *not* compiled. Compile it manually.\n",
      "  warnings.warn('No training configuration found in save file: '\n"
     ]
    }
   ],
   "source": [
    "#Load APARENT Resnet\n",
    "\n",
    "model_name = 'aparent_all_libs_resnet_no_clinvar_wt_ep_5'\n",
    "\n",
    "save_dir = os.path.join(os.getcwd(), '../../saved_models')\n",
    "model_path = os.path.join(save_dir, model_name + '.h5')\n",
    "\n",
    "aparent_model = load_model(model_path)"
   ]
  },
  {
   "cell_type": "code",
   "execution_count": 5,
   "metadata": {},
   "outputs": [],
   "source": [
    "#Pad x\n",
    "\n",
    "remainder = x.shape[0] % 32\n",
    "to_fill = 32 - remainder\n",
    "\n",
    "x = np.concatenate([x, np.zeros((to_fill, 1, 205, 4))], axis=0)\n"
   ]
  },
  {
   "cell_type": "code",
   "execution_count": 6,
   "metadata": {
    "scrolled": true
   },
   "outputs": [
    {
     "name": "stdout",
     "output_type": "stream",
     "text": [
      "186080/186080 [==============================] - 1328s 7ms/step\n"
     ]
    }
   ],
   "source": [
    "#Predict\n",
    "\n",
    "l = np.zeros((x.shape[0], 13))\n",
    "l[:, 11] = 1.\n",
    "\n",
    "iso_pred, cut_pred = aparent_model.predict(x=[x, l], batch_size=32, verbose=True)\n",
    "\n",
    "#Calculate isoform logits\n",
    "logodds_pred = np.ravel(np.log(iso_pred / (1. - iso_pred)))\n"
   ]
  },
  {
   "cell_type": "code",
   "execution_count": 7,
   "metadata": {},
   "outputs": [],
   "source": [
    "#Remove padded examples\n",
    "\n",
    "iso_pred = iso_pred[:-to_fill, ...]\n",
    "cut_pred = cut_pred[:-to_fill, ...]\n",
    "logodds_pred = logodds_pred[:-to_fill, ...]\n"
   ]
  },
  {
   "cell_type": "code",
   "execution_count": 8,
   "metadata": {},
   "outputs": [],
   "source": [
    "#Copy the test set dataframe and store isoform predictions\n",
    "\n",
    "array_df = array_gens['all'].sources['df'].reset_index().copy()\n",
    "\n",
    "array_df['iso_pred'] = iso_pred\n",
    "array_df['logodds_pred'] = logodds_pred\n",
    "\n",
    "array_df = array_df[['master_seq', 'seq', 'iso_pred', 'logodds_pred']]\n"
   ]
  },
  {
   "cell_type": "code",
   "execution_count": 9,
   "metadata": {},
   "outputs": [],
   "source": [
    "#Dump prediction dataframe and cut probability matrix\n",
    "\n",
    "isoio.dump({'array_df' : array_df, 'cut_prob' : sp.csr_matrix(cut_pred)}, 'apa_array_data_legacy/' + model_name + '_predictions_seq')"
   ]
  },
  {
   "cell_type": "code",
   "execution_count": null,
   "metadata": {},
   "outputs": [],
   "source": []
  }
 ],
 "metadata": {
  "kernelspec": {
   "display_name": "Python [conda env:tensorflow]",
   "language": "python",
   "name": "conda-env-tensorflow-py"
  },
  "language_info": {
   "codemirror_mode": {
    "name": "ipython",
    "version": 3
   },
   "file_extension": ".py",
   "mimetype": "text/x-python",
   "name": "python",
   "nbconvert_exporter": "python",
   "pygments_lexer": "ipython3",
   "version": "3.6.8"
  }
 },
 "nbformat": 4,
 "nbformat_minor": 2
}
