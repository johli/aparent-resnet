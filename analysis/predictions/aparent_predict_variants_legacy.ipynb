{
 "cells": [
  {
   "cell_type": "code",
   "execution_count": 1,
   "metadata": {},
   "outputs": [
    {
     "name": "stderr",
     "output_type": "stream",
     "text": [
      "Using TensorFlow backend.\n"
     ]
    }
   ],
   "source": [
    "from __future__ import print_function\n",
    "import keras\n",
    "from keras.models import Sequential, Model, load_model\n",
    "\n",
    "import tensorflow as tf\n",
    "\n",
    "import pandas as pd\n",
    "\n",
    "import os\n",
    "import pickle\n",
    "import numpy as np\n",
    "\n",
    "import scipy.sparse as sp\n",
    "import scipy.io as spio\n",
    "\n",
    "import isolearn.io as isoio\n",
    "import isolearn.keras as iso\n",
    "\n",
    "from aparent.data.aparent_data_array_legacy import load_data\n"
   ]
  },
  {
   "cell_type": "code",
   "execution_count": 2,
   "metadata": {},
   "outputs": [
    {
     "name": "stdout",
     "output_type": "stream",
     "text": [
      "Designed MPRA size = 39833\n",
      "Training set size = 0\n",
      "Validation set size = 0\n",
      "Test set size = 39833\n"
     ]
    }
   ],
   "source": [
    "#Load designed MPRA data (collapsed over barcodes)\n",
    "\n",
    "file_path = '../../data/prepared_data/apa_array_data/'\n",
    "array_gens = load_data(batch_size=1, file_path=file_path)\n"
   ]
  },
  {
   "cell_type": "code",
   "execution_count": 3,
   "metadata": {},
   "outputs": [
    {
     "name": "stdout",
     "output_type": "stream",
     "text": [
      "WARNING:tensorflow:From /home/johli/anaconda3/envs/aparent/lib/python3.6/site-packages/tensorflow/python/framework/op_def_library.py:263: colocate_with (from tensorflow.python.framework.ops) is deprecated and will be removed in a future version.\n",
      "Instructions for updating:\n",
      "Colocations handled automatically by placer.\n",
      "WARNING:tensorflow:From /home/johli/anaconda3/envs/aparent/lib/python3.6/site-packages/keras/backend/tensorflow_backend.py:3445: calling dropout (from tensorflow.python.ops.nn_ops) with keep_prob is deprecated and will be removed in a future version.\n",
      "Instructions for updating:\n",
      "Please use `rate` instead of `keep_prob`. Rate should be set to `rate = 1 - keep_prob`.\n"
     ]
    },
    {
     "name": "stderr",
     "output_type": "stream",
     "text": [
      "/home/johli/anaconda3/envs/aparent/lib/python3.6/site-packages/keras/engine/saving.py:292: UserWarning: No training configuration found in save file: the model was *not* compiled. Compile it manually.\n",
      "  warnings.warn('No training configuration found in save file: '\n"
     ]
    }
   ],
   "source": [
    "#Load legacy APARENT model (lifted from theano)\n",
    "\n",
    "model_name = 'aparent_theano_legacy_30_31_34_pasaligned'\n",
    "\n",
    "save_dir = os.path.join(os.getcwd(), '../../saved_models/legacy_models')\n",
    "model_path = os.path.join(save_dir, model_name + '.h5')\n",
    "\n",
    "aparent_model = load_model(model_path)"
   ]
  },
  {
   "cell_type": "code",
   "execution_count": 4,
   "metadata": {},
   "outputs": [],
   "source": [
    "#Predict from test data generator\n",
    "\n",
    "iso_pred_test, cut_pred_test = aparent_model.predict_generator(array_gens['all'], workers=4, use_multiprocessing=True)\n",
    "\n",
    "#Calculate isoform logits\n",
    "logodds_pred_test = np.ravel(np.log(iso_pred_test / (1. - iso_pred_test)))\n"
   ]
  },
  {
   "cell_type": "code",
   "execution_count": 5,
   "metadata": {},
   "outputs": [],
   "source": [
    "#Copy the test set dataframe and store isoform predictions\n",
    "\n",
    "array_df = array_gens['all'].sources['df'].reset_index().copy()\n",
    "\n",
    "array_df['iso_pred'] = iso_pred_test\n",
    "array_df['logodds_pred'] = logodds_pred_test\n",
    "\n",
    "array_df = array_df[['master_seq', 'iso_pred', 'logodds_pred']]\n"
   ]
  },
  {
   "cell_type": "code",
   "execution_count": 6,
   "metadata": {},
   "outputs": [],
   "source": [
    "#Dump prediction dataframe and cut probability matrix\n",
    "\n",
    "isoio.dump({'array_df' : array_df, 'cut_prob' : sp.csr_matrix(cut_pred_test)}, 'apa_array_data_legacy/' + model_name + '_predictions_master_seq')"
   ]
  },
  {
   "cell_type": "code",
   "execution_count": null,
   "metadata": {},
   "outputs": [],
   "source": []
  }
 ],
 "metadata": {
  "kernelspec": {
   "display_name": "Python [conda env:aparent]",
   "language": "python",
   "name": "conda-env-aparent-py"
  },
  "language_info": {
   "codemirror_mode": {
    "name": "ipython",
    "version": 3
   },
   "file_extension": ".py",
   "mimetype": "text/x-python",
   "name": "python",
   "nbconvert_exporter": "python",
   "pygments_lexer": "ipython3",
   "version": "3.6.7"
  }
 },
 "nbformat": 4,
 "nbformat_minor": 2
}
