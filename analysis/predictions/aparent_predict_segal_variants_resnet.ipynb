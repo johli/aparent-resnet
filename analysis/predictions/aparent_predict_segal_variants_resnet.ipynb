{
 "cells": [
  {
   "cell_type": "code",
   "execution_count": 1,
   "metadata": {
    "scrolled": true
   },
   "outputs": [
    {
     "name": "stderr",
     "output_type": "stream",
     "text": [
      "Using TensorFlow backend.\n"
     ]
    }
   ],
   "source": [
    "from __future__ import print_function\n",
    "import keras\n",
    "from keras.models import Sequential, Model, load_model\n",
    "\n",
    "import tensorflow as tf\n",
    "\n",
    "import pandas as pd\n",
    "\n",
    "import os\n",
    "import pickle\n",
    "import numpy as np\n",
    "\n",
    "import scipy.sparse as sp\n",
    "import scipy.io as spio\n",
    "\n",
    "import isolearn.io as isoio\n",
    "import isolearn.keras as isol\n"
   ]
  },
  {
   "cell_type": "code",
   "execution_count": 6,
   "metadata": {},
   "outputs": [],
   "source": [
    "#Load sequence data\n",
    "\n",
    "df = pd.read_csv('../../data/native_data/segal_variants.tab', sep='\\t')\n"
   ]
  },
  {
   "cell_type": "code",
   "execution_count": 9,
   "metadata": {},
   "outputs": [],
   "source": [
    "#Create data features\n",
    "\n",
    "encoder = isol.OneHotEncoder(250)\n",
    "\n",
    "x = np.concatenate([encoder.encode(row['Sequence'])[None, None, :, :] for _, row in df.iterrows()], axis=0)\n"
   ]
  },
  {
   "cell_type": "code",
   "execution_count": 15,
   "metadata": {},
   "outputs": [],
   "source": [
    "#Pad to even batch size\n",
    "\n",
    "remainder = x.shape[0] % 32\n",
    "to_fill = 32 - remainder\n",
    "\n",
    "x = np.concatenate([x, np.zeros((to_fill, 1, 250, 4))], axis=0)\n"
   ]
  },
  {
   "cell_type": "code",
   "execution_count": 50,
   "metadata": {},
   "outputs": [],
   "source": [
    "\n",
    "def predict_variable_len(aparent_model, onehots, sequence_stride=10) :\n",
    "    cut_pred_padded_slices = []\n",
    "    cut_pred_padded_masks = []\n",
    "    \n",
    "    l_fake = np.zeros((onehots.shape[0], 13))\n",
    "    l_fake[:, 11] = 1.\n",
    "    \n",
    "    zeros = np.zeros((onehots.shape[0], 1, 205, 4))\n",
    "    \n",
    "    n = onehots.shape[0]\n",
    "    \n",
    "    start_pos = 0\n",
    "    end_pos = 205\n",
    "    while True :\n",
    "\n",
    "        onehot_slice = None\n",
    "        effective_len = 0\n",
    "\n",
    "        if end_pos <= onehots.shape[2] :\n",
    "            onehot_slice = onehots[:, :, start_pos: end_pos, :]\n",
    "            effective_len = 205\n",
    "        else :\n",
    "            onehot_slice = np.concatenate([onehots[:, :, start_pos:, :], zeros], axis=2)[:, :, :205, :]\n",
    "            effective_len = onehots[:, :, start_pos:, :].shape[2]\n",
    "\n",
    "        _, cut_pred = aparent_model.predict(x=[onehot_slice, l_fake], batch_size=32, verbose=True)\n",
    "\n",
    "        padded_slice = np.concatenate([\n",
    "            np.zeros((n, start_pos)),\n",
    "            cut_pred[:, :effective_len],\n",
    "            np.zeros((n, onehots.shape[2] - start_pos - effective_len)),\n",
    "            cut_pred[:, 205:206]\n",
    "        ], axis=1)\n",
    "\n",
    "        padded_mask = np.concatenate([\n",
    "            np.zeros((n, start_pos)),\n",
    "            np.ones((n, effective_len)),\n",
    "            np.zeros((n, onehots.shape[2] - start_pos - effective_len)),\n",
    "            np.ones((n, 1))\n",
    "        ], axis=1)[:, :onehots.shape[2]+1]\n",
    "        \n",
    "        cut_pred_padded_slices.append(np.expand_dims(padded_slice, axis=1))\n",
    "        cut_pred_padded_masks.append(np.expand_dims(padded_mask, axis=1))\n",
    "\n",
    "        if end_pos >= onehots.shape[2] :\n",
    "            break\n",
    "\n",
    "        start_pos += sequence_stride\n",
    "        end_pos += sequence_stride\n",
    "\n",
    "    cut_slices = np.concatenate(cut_pred_padded_slices, axis=1)[:, :, :-1]\n",
    "    cut_masks = np.concatenate(cut_pred_padded_masks, axis=1)[:, :, :-1]\n",
    "\n",
    "    avg_cut_pred = np.sum(cut_slices, axis=1) / np.sum(cut_masks, axis=1)\n",
    "    \n",
    "    return avg_cut_pred\n"
   ]
  },
  {
   "cell_type": "code",
   "execution_count": 51,
   "metadata": {
    "scrolled": true
   },
   "outputs": [
    {
     "name": "stderr",
     "output_type": "stream",
     "text": [
      "/home/jlinder2/anaconda3/envs/tensorflow/lib/python3.6/site-packages/keras/engine/saving.py:292: UserWarning: No training configuration found in save file: the model was *not* compiled. Compile it manually.\n",
      "  warnings.warn('No training configuration found in save file: '\n"
     ]
    }
   ],
   "source": [
    "#Load APARENT Resnet\n",
    "\n",
    "model_name = 'aparent_all_libs_resnet_no_clinvar_wt_ep_5'\n",
    "\n",
    "save_dir = os.path.join(os.getcwd(), '../../saved_models')\n",
    "model_path = os.path.join(save_dir, model_name + '.h5')\n",
    "\n",
    "aparent_model = load_model(model_path)"
   ]
  },
  {
   "cell_type": "code",
   "execution_count": 52,
   "metadata": {
    "scrolled": true
   },
   "outputs": [
    {
     "name": "stdout",
     "output_type": "stream",
     "text": [
      "12352/12352 [==============================] - 87s 7ms/step\n",
      "12352/12352 [==============================] - 86s 7ms/step\n",
      "12352/12352 [==============================] - 86s 7ms/step\n",
      "12352/12352 [==============================] - 86s 7ms/step\n",
      "12352/12352 [==============================] - 86s 7ms/step\n",
      "12352/12352 [==============================] - 86s 7ms/step\n"
     ]
    }
   ],
   "source": [
    "#Predict APA on sequences\n",
    "\n",
    "cut_pred = predict_variable_len(aparent_model, x, sequence_stride=10)\n"
   ]
  },
  {
   "cell_type": "code",
   "execution_count": 53,
   "metadata": {},
   "outputs": [],
   "source": [
    "#Copy the dataframe and store isoform predictions\n",
    "\n",
    "pred_df = df.copy().reset_index(drop=True)\n",
    "\n",
    "pred_df = pred_df[['Sequence', 'Expression', 'ID']]\n"
   ]
  },
  {
   "cell_type": "code",
   "execution_count": 54,
   "metadata": {},
   "outputs": [],
   "source": [
    "#Dump prediction dataframe and cut probability matrix\n",
    "\n",
    "isoio.dump({'pred_df' : pred_df, 'cut_pred' : sp.csr_matrix(cut_pred)}, 'apa_segal_data/' + model_name + '_predictions')"
   ]
  },
  {
   "cell_type": "code",
   "execution_count": null,
   "metadata": {},
   "outputs": [],
   "source": []
  }
 ],
 "metadata": {
  "kernelspec": {
   "display_name": "Python [conda env:tensorflow]",
   "language": "python",
   "name": "conda-env-tensorflow-py"
  },
  "language_info": {
   "codemirror_mode": {
    "name": "ipython",
    "version": 3
   },
   "file_extension": ".py",
   "mimetype": "text/x-python",
   "name": "python",
   "nbconvert_exporter": "python",
   "pygments_lexer": "ipython3",
   "version": "3.6.8"
  }
 },
 "nbformat": 4,
 "nbformat_minor": 2
}
