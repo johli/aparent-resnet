{
 "cells": [
  {
   "cell_type": "code",
   "execution_count": 1,
   "metadata": {},
   "outputs": [
    {
     "name": "stderr",
     "output_type": "stream",
     "text": [
      "Using TensorFlow backend.\n"
     ]
    }
   ],
   "source": [
    "import os\n",
    "import pandas as pd\n",
    "import numpy as np\n",
    "from collections import defaultdict\n",
    "from itertools import combinations\n",
    "from itertools import chain\n",
    "from collections import namedtuple\n",
    "import pickle\n",
    "import os.path\n",
    "\n",
    "import sys\n",
    "import numpy as np\n",
    "import math\n",
    "import random\n",
    "\n",
    "from keras.preprocessing import sequence\n",
    "from keras.models import Model\n",
    "from keras.layers import Bidirectional, Input, concatenate, add\n",
    "from keras.layers.core import Dense, Dropout, Flatten\n",
    "from keras.layers.convolutional import Conv1D\n",
    "from keras.layers.pooling import MaxPooling1D, AveragePooling1D\n",
    "from keras.layers.recurrent import LSTM\n",
    "from keras.callbacks import ModelCheckpoint, EarlyStopping\n",
    "from keras.layers.advanced_activations import PReLU\n",
    "from sklearn.metrics import average_precision_score, roc_auc_score\n"
   ]
  },
  {
   "cell_type": "code",
   "execution_count": 2,
   "metadata": {},
   "outputs": [],
   "source": [
    "def oneHotEncodingForSeq(rawSeqList):\n",
    "    if len(rawSeqList) != 0:\n",
    "        encodedSeq = np.zeros((len(rawSeqList), len(rawSeqList[0]), 5))\n",
    "        for i in range(len(rawSeqList)):\n",
    "            sequence = rawSeqList[i]\n",
    "            j = 0\n",
    "            for s in sequence:\n",
    "                if s == 'A' or s == 'a':\n",
    "                    encodedSeq[i][j] = [1,0,0,0,0]\n",
    "                elif s == 'T' or s == 't':\n",
    "                    encodedSeq[i][j] = [0,1,0,0,0]\n",
    "                elif s == 'C' or s == 'c':\n",
    "                    encodedSeq[i][j] = [0,0,1,0,0]\n",
    "                elif s == 'G' or s == 'g':\n",
    "                    encodedSeq[i][j] = [0,0,0,1,0]\n",
    "                elif s == 'N' or s == 'n':\n",
    "                    encodedSeq[i][j] = [0,0,0,0,1]\n",
    "                j = j + 1\n",
    "        return encodedSeq\n",
    "    else:\n",
    "        return 0\n",
    "\n",
    "def oneHotEncodingForSS(rawStructureList):\n",
    "    if len(rawStructureList) != 0:\n",
    "        encodedStructure = np.zeros((len(rawStructureList), len(rawStructureList[0]), 7))\n",
    "        for i in range(len(rawStructureList)):\n",
    "            structure = rawStructureList[i]\n",
    "            j = 0\n",
    "            for s in structure:\n",
    "                if s == 'U':\n",
    "                    encodedStructure[i][j] = [1,0,0,0,0,0,0]\n",
    "                elif s == 'E':\n",
    "                    encodedStructure[i][j] = [0,1,0,0,0,0,0]\n",
    "                elif s == 'L':\n",
    "                    encodedStructure[i][j] = [0,0,1,0,0,0,0]\n",
    "                elif s == 'R':\n",
    "                    encodedStructure[i][j] = [0,0,0,1,0,0,0]\n",
    "                elif s == 'H':\n",
    "                    encodedStructure[i][j] = [0,0,0,0,1,0,0]\n",
    "                elif s == 'M':\n",
    "                    encodedStructure[i][j] = [0,0,0,0,0,1,0]\n",
    "                elif s == 'I':\n",
    "                    encodedStructure[i][j] = [0,0,0,0,0,0,1]\n",
    "                j = j + 1\n",
    "        return encodedStructure\n",
    "    else:\n",
    "        return 0\n",
    "\n",
    "def matchingLabelBetweenSeqAndStructure(seqLabelList, structureLabelList, kindOfData):\n",
    "    print>>sys.stderr, 'Checking label similarity between sequence and structure of ' + kindOfData + ' data'\n",
    "    for index in range(len(seqLabelList)):\n",
    "        if seqLabelList[index] != structureLabelList[index]:\n",
    "            print>>sys.stderr, 'ERROR: label mismatch between sequence and structure'\n",
    "\n",
    "def sequenceModel(seqInput):\n",
    "    seqCov = Conv1D(filters=512,\n",
    "        kernel_size=8,\n",
    "        padding = \"valid\",\n",
    "        input_shape =(200, 5),\n",
    "        activation=\"relu\",\n",
    "        strides=1)(seqInput) \n",
    "\n",
    "    seqPool = MaxPooling1D(pool_size = 3, strides = 3)(seqCov)\n",
    "    seqDout1 = Dropout(rate = 0.7)(seqPool)\n",
    "    seqBiLstm = Bidirectional(LSTM(units = 128, return_sequences = True))(seqDout1)\n",
    "    seqDout2 = Dropout(rate = 0.7)(seqBiLstm)\n",
    "    seqFlat = Flatten()(seqDout2)\n",
    "    seqDen2 = Dense(256, kernel_initializer='glorot_uniform', activation = 'relu')(seqFlat)\n",
    "    seqDout4 = Dropout(rate = 0.7)(seqDen2)\n",
    "\n",
    "    return seqDout4\n",
    "\n",
    "def structureSubModel(ssInput):\n",
    "    ssConv = Conv1D(filters=256,\n",
    "                    kernel_size=12,\n",
    "            padding = \"valid\",\n",
    "            activation=\"relu\",\n",
    "            strides=1)(ssInput)\n",
    "    ssPool = AveragePooling1D(pool_size = 5, strides = 5)(ssConv)\n",
    "    ssDout1 = Dropout(rate=0.7)(ssPool)\n",
    "    seqBiLstm = Bidirectional(LSTM(units = 128, return_sequences = True))(ssDout1)\n",
    "    seqDout2 = Dropout(rate = 0.7)(seqBiLstm)\n",
    "    ssFlat = Flatten()(seqDout2)\n",
    "    ssDen1 = Dense(256, kernel_initializer='glorot_uniform', activation = 'relu')(ssFlat)\n",
    "    ssDout2 = Dropout(rate=0.7)(ssDen1)\n",
    "\n",
    "    return ssDout2\n"
   ]
  },
  {
   "cell_type": "code",
   "execution_count": 3,
   "metadata": {},
   "outputs": [
    {
     "name": "stdout",
     "output_type": "stream",
     "text": [
      "WARNING:tensorflow:From /home/ubuntu/anaconda3/envs/tensorflow_p36/lib/python3.6/site-packages/tensorflow/python/framework/op_def_library.py:263: colocate_with (from tensorflow.python.framework.ops) is deprecated and will be removed in a future version.\n",
      "Instructions for updating:\n",
      "Colocations handled automatically by placer.\n",
      "WARNING:tensorflow:From /home/ubuntu/anaconda3/envs/tensorflow_p36/lib/python3.6/site-packages/keras/backend/tensorflow_backend.py:3445: calling dropout (from tensorflow.python.ops.nn_ops) with keep_prob is deprecated and will be removed in a future version.\n",
      "Instructions for updating:\n",
      "Please use `rate` instead of `keep_prob`. Rate should be set to `rate = 1 - keep_prob`.\n"
     ]
    }
   ],
   "source": [
    "\n",
    "def get_predict_func() :\n",
    "    \n",
    "    structureSeqLength = 200\n",
    "    \n",
    "    # Building deep learning model\n",
    "    training_net = []\n",
    "    # deep learning sub-model for sequence\n",
    "    seqInput = Input(shape = (200, 5))\n",
    "    seqModel = sequenceModel(seqInput)\n",
    "    training_net.append(seqModel)\n",
    "\n",
    "    # deep learning sub-model for structure\n",
    "    ss_training_net = []\n",
    "    ssInput1 = Input(shape = (structureSeqLength, 7))\n",
    "    ssInput2 = Input(shape = (structureSeqLength, 7))\n",
    "    ssInput3 = Input(shape = (structureSeqLength, 7))\n",
    "\n",
    "    ss_training_net.append(structureSubModel(ssInput1))\n",
    "    ss_training_net.append(structureSubModel(ssInput2))\n",
    "    ss_training_net.append(structureSubModel(ssInput3))\n",
    "\n",
    "    ss_merged_model = add(ss_training_net)\n",
    "    ss_den1 = Dense(256, kernel_initializer = 'glorot_uniform', activation = 'relu')(ss_merged_model)\n",
    "    ss_dout1 = Dropout(rate = 0.7)(ss_den1)\n",
    "    training_net.append(ss_dout1)\n",
    "    merged_model = concatenate(training_net)\n",
    "\n",
    "    den1 = Dense(256, kernel_initializer = 'glorot_uniform', activation = 'relu')(merged_model)\n",
    "    dout1 = Dropout(rate = 0.7)(den1)\n",
    "\n",
    "    den2 = Dense(128, kernel_initializer = 'glorot_uniform', activation = 'relu')(dout1)\n",
    "    dout2 = Dropout(rate = 0.7)(den2)\n",
    "    den3 = Dense(64, activation = 'relu')(dout2)\n",
    "    den4 = Dense(1, activation = 'sigmoid')(den3)\n",
    "    model = Model(inputs = [seqInput, ssInput1, ssInput2, ssInput3], outputs = den4)\n",
    "\n",
    "    model.compile(loss='binary_crossentropy', optimizer='nadam', metrics=['accuracy'])\n",
    "\n",
    "    model.load_weights('DeepPASTA_polyA_site_learned.hdf5')\n",
    "    \n",
    "    def _predict(testingSequenceList, testingStructureList1, testingStructureList2, testingStructureList3) :\n",
    "        \n",
    "        encodedTestingSeq = oneHotEncodingForSeq(testingSequenceList)\n",
    "        encodedTestingStructure1 = oneHotEncodingForSS(testingStructureList1)\n",
    "        encodedTestingStructure2 = oneHotEncodingForSS(testingStructureList2)\n",
    "        encodedTestingStructure3 = oneHotEncodingForSS(testingStructureList3)\n",
    "\n",
    "        testingData = []\n",
    "        testingData.append(encodedTestingSeq)\n",
    "        testingData.append(encodedTestingStructure1)\n",
    "        testingData.append(encodedTestingStructure2)\n",
    "        testingData.append(encodedTestingStructure3)\n",
    "\n",
    "        preds = model.predict(testingData, batch_size = 2042, verbose = 0)\n",
    "\n",
    "        return preds\n",
    "    \n",
    "    return _predict\n",
    "\n",
    "predict_func = get_predict_func()\n"
   ]
  },
  {
   "cell_type": "code",
   "execution_count": 4,
   "metadata": {},
   "outputs": [],
   "source": [
    "#Load dataframe of sequences to predict APA for\n",
    "\n",
    "df = pd.read_csv('../PolyApredictors/apa_leslie_derti_apadb_pair_data_df_pair.csv', sep='\\t')\n"
   ]
  },
  {
   "cell_type": "code",
   "execution_count": 5,
   "metadata": {},
   "outputs": [],
   "source": [
    "#Pad sequences to fit DeepPASTA input format\n",
    "\n",
    "df['seq_p'] = df['wide_seq_ext_prox'].str.slice(175-70, 175-70+205-5)\n",
    "df['seq_d'] = df['wide_seq_ext_dist'].str.slice(175-70, 175-70+205-5)\n"
   ]
  },
  {
   "cell_type": "code",
   "execution_count": 6,
   "metadata": {},
   "outputs": [
    {
     "name": "stdout",
     "output_type": "stream",
     "text": [
      "Starting program ...\n",
      "Output from RNAshapes: temp_shapes1_site_pred.txt\n",
      "Output filename: temp_shapes2_site_pred.txt\n",
      "Starting program ...\n",
      "Number of suboptimal structures considered: 3\n",
      "Output from RNAshapes: temp_shapes2_site_pred.txt\n",
      "Output filename: temp_shapes3_site_pred.txt\n",
      "Starting program ...\n",
      "Number of structure: 3\n",
      "Output from RNAshapes to assign structure: temp_shapes3_site_pred.txt\n",
      "Output file name: temp_shapes4_site_pred_p.txt\n"
     ]
    }
   ],
   "source": [
    "#Generate RNA structures\n",
    "\n",
    "with open(\"test1_site_pred_p.fa\", \"wt\") as temp_f :\n",
    "    i = 0\n",
    "    for _, row in df.iterrows() :\n",
    "        temp_f.write(\">seq\" + str(i) + \"\\n\" + row['seq_p'] + \"\\n\")\n",
    "        i += 1\n",
    "\n",
    "!./generating_secondary_structure_from_sequence/RNAshapes -f ./test1_site_pred_p.fa -s -c 5 -t 1 -w 100 -W 100 -O 'D{%s\\n}' > temp_shapes1_site_pred.txt\n",
    "!python2 ./generating_secondary_structure_from_sequence/combining_substructure.py -i temp_shapes1_site_pred.txt -o temp_shapes2_site_pred.txt\n",
    "!python2 ./generating_secondary_structure_from_sequence/filtering_number_of_ss.py -n 3 -i temp_shapes2_site_pred.txt -o temp_shapes3_site_pred.txt\n",
    "!python2 ./generating_secondary_structure_from_sequence/shape_assign_per_nucleotide.py -c 3 -i temp_shapes3_site_pred.txt -o temp_shapes4_site_pred_p.txt\n",
    "\n",
    "structs_prox_1_p = []\n",
    "structs_prox_2_p = []\n",
    "structs_prox_3_p = []\n",
    "with open(\"temp_shapes4_site_pred_p.txt\", \"rt\") as temp_f :\n",
    "    i = 0\n",
    "    for line in temp_f.readlines() :\n",
    "        if i % 4 == 1 :\n",
    "            struct_prox = line.strip()\n",
    "            structs_prox_1_p.append(struct_prox)\n",
    "        if i % 4 == 2 :\n",
    "            struct_prox = line.strip()\n",
    "            structs_prox_2_p.append(struct_prox)\n",
    "        if i % 4 == 3 :\n",
    "            struct_prox = line.strip()\n",
    "            structs_prox_3_p.append(struct_prox)\n",
    "        i += 1\n"
   ]
  },
  {
   "cell_type": "code",
   "execution_count": 7,
   "metadata": {},
   "outputs": [
    {
     "name": "stdout",
     "output_type": "stream",
     "text": [
      "Starting program ...\n",
      "Output from RNAshapes: temp_shapes1_site_pred.txt\n",
      "Output filename: temp_shapes2_site_pred.txt\n",
      "Starting program ...\n",
      "Number of suboptimal structures considered: 3\n",
      "Output from RNAshapes: temp_shapes2_site_pred.txt\n",
      "Output filename: temp_shapes3_site_pred.txt\n",
      "Starting program ...\n",
      "Number of structure: 3\n",
      "Output from RNAshapes to assign structure: temp_shapes3_site_pred.txt\n",
      "Output file name: temp_shapes4_site_pred_d.txt\n"
     ]
    }
   ],
   "source": [
    "#Generate RNA structures\n",
    "\n",
    "with open(\"test1_site_pred_d.fa\", \"wt\") as temp_f :\n",
    "    i = 0\n",
    "    for _, row in df.iterrows() :\n",
    "        temp_f.write(\">seq\" + str(i) + \"\\n\" + row['seq_d'] + \"\\n\")\n",
    "        i += 1\n",
    "\n",
    "!./generating_secondary_structure_from_sequence/RNAshapes -f ./test1_site_pred_d.fa -s -c 5 -t 1 -w 100 -W 100 -O 'D{%s\\n}' > temp_shapes1_site_pred.txt\n",
    "!python2 ./generating_secondary_structure_from_sequence/combining_substructure.py -i temp_shapes1_site_pred.txt -o temp_shapes2_site_pred.txt\n",
    "!python2 ./generating_secondary_structure_from_sequence/filtering_number_of_ss.py -n 3 -i temp_shapes2_site_pred.txt -o temp_shapes3_site_pred.txt\n",
    "!python2 ./generating_secondary_structure_from_sequence/shape_assign_per_nucleotide.py -c 3 -i temp_shapes3_site_pred.txt -o temp_shapes4_site_pred_d.txt\n",
    "\n",
    "structs_dist_1_d = []\n",
    "structs_dist_2_d = []\n",
    "structs_dist_3_d = []\n",
    "with open(\"temp_shapes4_site_pred_d.txt\", \"rt\") as temp_f :\n",
    "    i = 0\n",
    "    for line in temp_f.readlines() :\n",
    "        if i % 4 == 1 :\n",
    "            struct_dist = line.strip()\n",
    "            structs_dist_1_d.append(struct_dist)\n",
    "        if i % 4 == 2 :\n",
    "            struct_dist = line.strip()\n",
    "            structs_dist_2_d.append(struct_dist)\n",
    "        if i % 4 == 3 :\n",
    "            struct_dist = line.strip()\n",
    "            structs_dist_3_d.append(struct_dist)\n",
    "        i += 1\n"
   ]
  },
  {
   "cell_type": "code",
   "execution_count": 10,
   "metadata": {},
   "outputs": [],
   "source": [
    "#Execute all pA site prediction model\n",
    "\n",
    "testingSequenceList_p = [row['seq_p'] for _, row in df.iterrows()]\n",
    "testingStructList1_p = structs_prox_1_p\n",
    "testingStructList2_p = structs_prox_2_p\n",
    "testingStructList3_p = structs_prox_3_p\n",
    "\n",
    "y_pred_p = predict_func(testingSequenceList_p, testingStructList1_p, testingStructList2_p, testingStructList3_p)[:, 0][:, None]\n",
    "y_pred_p = np.clip(y_pred_p, 1e-6, 1. - 1e-6)\n",
    "score_prox = np.log(y_pred_p / (1. - y_pred_p))\n",
    "\n",
    "testingSequenceList_d = [row['seq_d'] for _, row in df.iterrows()]\n",
    "testingStructList1_d = structs_dist_1_d\n",
    "testingStructList2_d = structs_dist_2_d\n",
    "testingStructList3_d = structs_dist_3_d\n",
    "\n",
    "y_pred_d = predict_func(testingSequenceList_d, testingStructList1_d, testingStructList2_d, testingStructList3_d)[:, 0][:, None]\n",
    "y_pred_d = np.clip(y_pred_d, 1e-6, 1. - 1e-6)\n",
    "score_dist = np.log(y_pred_d / (1. - y_pred_d))\n"
   ]
  },
  {
   "cell_type": "code",
   "execution_count": 14,
   "metadata": {},
   "outputs": [
    {
     "data": {
      "image/png": "[encoded data removed]",
      "text/plain": [
       "<Figure size 432x288 with 1 Axes>"
      ]
     },
     "metadata": {},
     "output_type": "display_data"
    }
   ],
   "source": [
    "import matplotlib.pyplot as plt\n",
    "\n",
    "f = plt.figure()\n",
    "\n",
    "plt.hist(score_prox[:, 0], bins=50, alpha=0.5)\n",
    "plt.hist(score_dist[:, 0], bins=50, alpha=0.5)\n",
    "\n",
    "plt.show()\n"
   ]
  },
  {
   "cell_type": "code",
   "execution_count": 12,
   "metadata": {},
   "outputs": [],
   "source": [
    "\n",
    "df['score_prox'] = score_prox[:, 0]\n",
    "df['score_dist'] = score_dist[:, 0]\n"
   ]
  },
  {
   "cell_type": "code",
   "execution_count": 13,
   "metadata": {},
   "outputs": [],
   "source": [
    "#Re-save prediction df\n",
    "\n",
    "df[['gene_id', 'seq_prox', 'seq_dist', 'score_prox', 'score_dist']].to_csv(\"apa_leslie_derti_apadb_pair_data_df_pair_deeppasta_site_predictor.csv\", sep='\\t', index=False)\n"
   ]
  },
  {
   "cell_type": "code",
   "execution_count": null,
   "metadata": {},
   "outputs": [],
   "source": []
  }
 ],
 "metadata": {
  "kernelspec": {
   "display_name": "Environment (conda_tensorflow_p36)",
   "language": "python",
   "name": "conda_tensorflow_p36"
  },
  "language_info": {
   "codemirror_mode": {
    "name": "ipython",
    "version": 3
   },
   "file_extension": ".py",
   "mimetype": "text/x-python",
   "name": "python",
   "nbconvert_exporter": "python",
   "pygments_lexer": "ipython3",
   "version": "3.6.5"
  }
 },
 "nbformat": 4,
 "nbformat_minor": 2
}
