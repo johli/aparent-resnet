{
 "cells": [
  {
   "cell_type": "code",
   "execution_count": 1,
   "metadata": {},
   "outputs": [],
   "source": [
    "import os\n",
    "os.environ['CUDA_VISIBLE_DEVICES']=\"0\"\n",
    "import pandas as pd\n",
    "import numpy as np\n",
    "from collections import defaultdict\n",
    "from itertools import combinations\n",
    "from itertools import chain\n",
    "from collections import namedtuple\n",
    "import pickle\n",
    "import os.path\n",
    "import shutil\n",
    "import inspect \n",
    "from glob import glob\n",
    "import torch\n",
    "import torch.nn as nn\n",
    "import torch.nn.functional as F\n",
    "import torch.optim as optim\n",
    "import torch.utils\n",
    "import torch.utils.data\n",
    "\n",
    "from pytorch_utils import *\n",
    "from pas_utils import *\n"
   ]
  },
  {
   "cell_type": "code",
   "execution_count": 2,
   "metadata": {},
   "outputs": [],
   "source": [
    "MODEL_DIR=\"./pytorch_models\"\n",
    "PROCESSED_DIR=\"./APA_ML/processed\"\n",
    "\n",
    "params={\n",
    "    \"batch_size\":32,\n",
    "    \"lr\":1e-3,\n",
    "    \"beta\":1e-3,\n",
    "    \"net_type\":\"Multi-Conv-Net\",    \n",
    "    \"conv1d_kernel_size\":12,\n",
    "\n",
    "    \"conv1d_out_dim_1\":40,\n",
    "    \"pool_size_1\":3,\n",
    "    \"conv1d_out_dim_2\":40,\n",
    "    \"pool_size_2\":4,\n",
    "\n",
    "    \"linear1_dim\":200,\n",
    "    \"seq_len\":455,\n",
    "    \"lstm_output_size\":100,\n",
    "    \"device\":\"cuda\" if torch.cuda.is_available() else \"cpu\",\n",
    "    \"parental_model_file\":os.path.join(MODEL_DIR,\"parental_model_bl-multi.pt\"),\n",
    "    \"f1_model_file\":os.path.join(MODEL_DIR,\"f1_model_from_bl-multi.pt\"),\n",
    "    \"dropout_rate\":0.7,\n",
    "    \"fold\":5\n",
    "}"
   ]
  },
  {
   "cell_type": "code",
   "execution_count": 3,
   "metadata": {},
   "outputs": [
    {
     "data": {
      "text/plain": [
       "APAModel(\n",
       "  (conv1d_1): Conv1d(4, 40, kernel_size=(12,), stride=(1,))\n",
       "  (batchnorm_1): BatchNorm1d(40, eps=1e-05, momentum=0.1, affine=True, track_running_stats=True)\n",
       "  (conv1d_2): Conv1d(40, 40, kernel_size=(12,), stride=(1,))\n",
       "  (batchnorm_2): BatchNorm1d(40, eps=1e-05, momentum=0.1, affine=True, track_running_stats=True)\n",
       "  (linear1): Linear(in_features=1360, out_features=200, bias=True)\n",
       "  (lstm): LSTM(200, 50, batch_first=True, bidirectional=True)\n",
       "  (dropout): Dropout(p=0.7, inplace=False)\n",
       "  (linear2): Linear(in_features=100, out_features=1, bias=True)\n",
       ")"
      ]
     },
     "execution_count": 3,
     "metadata": {},
     "output_type": "execute_result"
    }
   ],
   "source": [
    "\n",
    "# create model\n",
    "model=APAModel(params)\n",
    "model.to(params[\"device\"])\n"
   ]
  },
  {
   "cell_type": "code",
   "execution_count": 4,
   "metadata": {},
   "outputs": [
    {
     "name": "stdout",
     "output_type": "stream",
     "text": [
      "reload the best model and test\n"
     ]
    },
    {
     "data": {
      "text/plain": [
       "<All keys matched successfully>"
      ]
     },
     "execution_count": 4,
     "metadata": {},
     "output_type": "execute_result"
    }
   ],
   "source": [
    "\n",
    "print(\"reload the best model and test\")\n",
    "model.load_state_dict(torch.load(params[\"parental_model_file\"]))\n"
   ]
  },
  {
   "cell_type": "code",
   "execution_count": 5,
   "metadata": {},
   "outputs": [],
   "source": [
    "\n",
    "def predict(logits, pas_numbers):\n",
    "    for i in range(len(pas_numbers)):\n",
    "        logits[i, pas_numbers[i]:] = -1e32\n",
    "    softmax = F.softmax(logits, -1)\n",
    "    return softmax\n",
    "\n",
    "def model_predict(model, data_set, params, softmax=True, up_to_pas_number=1):\n",
    "    with torch.no_grad():\n",
    "        model.eval()\n",
    "        #data_set.set_shuffle(False)\n",
    "        predictions = []\n",
    "        for local_batch, local_pas_numbers in data_set:\n",
    "            local_batch = (local_batch).to(params[\"device\"])\n",
    "            local_pas_numbers = (local_pas_numbers).to(params[\"device\"])\n",
    "            local_outputs = model(local_batch, local_pas_numbers)\n",
    "            if softmax:\n",
    "                local_pred = predict(local_outputs, local_pas_numbers)\n",
    "            else:\n",
    "                local_pred = local_outputs\n",
    "            for i in range(len(local_pas_numbers)):\n",
    "                predictions.append(local_pred[i][:up_to_pas_number].tolist())\n",
    "\n",
    "        predictions = np.array(predictions)\n",
    "        return predictions\n"
   ]
  },
  {
   "cell_type": "code",
   "execution_count": 8,
   "metadata": {},
   "outputs": [],
   "source": [
    "#Load dataframe of sequences to predict APA for\n",
    "\n",
    "df = pd.read_csv('../PolyApredictors/leslie_derti_apadb_features_pas_3_utr3.csv', sep='\\t')\n"
   ]
  },
  {
   "cell_type": "code",
   "execution_count": 9,
   "metadata": {},
   "outputs": [
    {
     "name": "stdout",
     "output_type": "stream",
     "text": [
      "Predicting for PAS #0...\n",
      "Predicting for PAS #1...\n",
      "Predicting for PAS #2...\n",
      "Predicting for PAS #3...\n",
      "Predicting for PAS #4...\n",
      "Predicting for PAS #5...\n",
      "Predicting for PAS #6...\n",
      "Predicting for PAS #7...\n",
      "Predicting for PAS #8...\n",
      "Predicting for PAS #9...\n"
     ]
    }
   ],
   "source": [
    "\n",
    "m = np.zeros((len(df), max_n_pas))\n",
    "\n",
    "for k in range(max_n_pas) :\n",
    "    \n",
    "    print(\"Predicting for PAS #\" + str(k) + \"...\")\n",
    "    \n",
    "    m[:, k] = np.array(~df['wide_seq_ext_' + str(k)].isnull(), dtype=np.int)\n",
    "    \n",
    "    df.loc[df['wide_seq_ext_' + str(k)].isnull(), 'wide_seq_ext_' + str(k)] = 'A' * 356\n"
   ]
  },
  {
   "cell_type": "code",
   "execution_count": 10,
   "metadata": {},
   "outputs": [],
   "source": [
    "#Create sequence feature encodings of required shape\n",
    "\n",
    "max_n_pas = 10\n",
    "\n",
    "xs = []\n",
    "for _, row in df.iterrows() :\n",
    "    \n",
    "    up_pad = \"TTTTTATGCTGATAGAAGCA\"\n",
    "    dn_pad = \"ACTCAAAGTGTTTCTAGGGGTTAAAAAGGTCCCATCCAGAGAGGATAGAGGCAGTGGTCTTCTGTCCCACCACCTGAGA\"\n",
    "    \n",
    "    x_row = []\n",
    "    for k in range(max_n_pas) :\n",
    "        \n",
    "        seq_r = up_pad + row['wide_seq_ext_' + str(k)].replace(\"X\", \"O\") + dn_pad\n",
    "        \n",
    "        x_row.append(np.expand_dims(np.expand_dims(dna_one_hot(seq_r), axis=0), axis=0))\n",
    "\n",
    "    x = np.concatenate(x_row, axis=1)\n",
    "    \n",
    "    xs.append(x)\n",
    "\n",
    "x = np.concatenate(xs, axis=0)\n",
    "\n",
    "n_signals = max_n_pas\n",
    "\n",
    "s = np.tile(np.array([n_signals], dtype=np.int), (x.shape[0],))\n",
    "\n",
    "data_set = [[\n",
    "    torch.FloatTensor(x),\n",
    "    torch.LongTensor(s)\n",
    "]]\n"
   ]
  },
  {
   "cell_type": "code",
   "execution_count": 13,
   "metadata": {},
   "outputs": [],
   "source": [
    "#Make proximal isoform predictions\n",
    "\n",
    "y_pred = model_predict(model, data_set, params, softmax=True, up_to_pas_number=max_n_pas)\n",
    "logodds_pred = model_predict(model, data_set, params, softmax=False, up_to_pas_number=max_n_pas)\n"
   ]
  },
  {
   "cell_type": "code",
   "execution_count": 18,
   "metadata": {},
   "outputs": [],
   "source": [
    "#Store predictions\n",
    "\n",
    "np.save('leslie_derti_apadb_features_pas_3_utr3_deerect_apa_native_usages', y_pred)\n",
    "np.save('leslie_derti_apadb_features_pas_3_utr3_deerect_apa_native_scores', logodds_pred)\n"
   ]
  },
  {
   "cell_type": "code",
   "execution_count": null,
   "metadata": {},
   "outputs": [],
   "source": []
  }
 ],
 "metadata": {
  "kernelspec": {
   "display_name": "Environment (conda_pytorch_p36_fresh)",
   "language": "python",
   "name": "conda_pytorch_p36_fresh"
  },
  "language_info": {
   "codemirror_mode": {
    "name": "ipython",
    "version": 3
   },
   "file_extension": ".py",
   "mimetype": "text/x-python",
   "name": "python",
   "nbconvert_exporter": "python",
   "pygments_lexer": "ipython3",
   "version": "3.6.9"
  }
 },
 "nbformat": 4,
 "nbformat_minor": 2
}
