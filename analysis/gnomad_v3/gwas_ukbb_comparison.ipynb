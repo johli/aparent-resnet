{
 "cells": [
  {
   "cell_type": "code",
   "execution_count": 1,
   "metadata": {},
   "outputs": [
    {
     "name": "stderr",
     "output_type": "stream",
     "text": [
      "Using TensorFlow backend.\n"
     ]
    }
   ],
   "source": [
    "from __future__ import print_function\n",
    "import keras\n",
    "from keras.models import Sequential, Model, load_model\n",
    "from keras import backend as K\n",
    "\n",
    "import tensorflow as tf\n",
    "\n",
    "import os\n",
    "import pandas as pd\n",
    "\n",
    "import numpy as np\n",
    "\n",
    "import matplotlib.pyplot as plt\n",
    "import matplotlib.cm as cm\n",
    "\n",
    "#import aparent.visualization as vis\n",
    "\n",
    "#from aparent_predictor import *\n"
   ]
  },
  {
   "cell_type": "code",
   "execution_count": 2,
   "metadata": {},
   "outputs": [],
   "source": [
    "#Store variant prediction dataframe\n",
    "\n",
    "variant_df = pd.read_csv('aparent_resnet_variant_predictions_polyadb_no_sequences_no_cutoff.csv', sep='\\t')\n"
   ]
  },
  {
   "cell_type": "code",
   "execution_count": 3,
   "metadata": {},
   "outputs": [
    {
     "name": "stdout",
     "output_type": "stream",
     "text": [
      "len(polyadb_df) = 175451\n"
     ]
    }
   ],
   "source": [
    "#Load APADB Data and filter on targeted genes\n",
    "\n",
    "#genes = ['RUNX1', 'CEBPA', 'GATA2', 'ANKRD26', 'DDX41', 'ETV6', 'PTEN', 'BRCA1', 'BRCA2', 'TP53', 'APC', 'ATM', 'PALB2', 'MSH2', 'MLH1', 'MSH6', 'PMS2', 'MUTYH']\n",
    "\n",
    "polyadb_df = pd.read_csv('polyadb_processed.csv', sep=',')\n",
    "\n",
    "#polyadb_df = polyadb_df.loc[polyadb_df['gene'].isin(genes)].reset_index(drop=True).copy()\n",
    "polyadb_df = polyadb_df.loc[((~polyadb_df['gene'].isnull()) & (polyadb_df['gene'] != 'na')) & (polyadb_df['pas'] != -1)].reset_index(drop=True).copy()\n",
    "\n",
    "print('len(polyadb_df) = ' + str(len(polyadb_df)))\n"
   ]
  },
  {
   "cell_type": "code",
   "execution_count": 4,
   "metadata": {},
   "outputs": [],
   "source": [
    "#Process PolyaDB data\n",
    "\n",
    "polyadb_df_minus = polyadb_df.query(\"strand == '-'\").copy().reset_index(drop=True)\n",
    "polyadb_df_plus = polyadb_df.query(\"strand == '+'\").copy().reset_index(drop=True)\n",
    "\n",
    "polyadb_df_minus = polyadb_df_minus.sort_values(by='pas_pos', ascending=False).copy().reset_index(drop=True)\n",
    "polyadb_df_plus = polyadb_df_plus.sort_values(by='pas_pos', ascending=True).copy().reset_index(drop=True)\n",
    "\n",
    "new_gene_id_list_plus = []\n",
    "sitenum_list_plus = []\n",
    "gene_id_dict = {}\n",
    "for _, row in polyadb_df_plus.iterrows() :\n",
    "\n",
    "    gene = row['gene']\n",
    "\n",
    "    if gene not in gene_id_dict :\n",
    "        gene_id_dict[gene] = 0\n",
    "\n",
    "    gene_id_dict[gene] += 1\n",
    "\n",
    "    new_gene_id_list_plus.append(gene + \".\" + str(gene_id_dict[gene]))\n",
    "    sitenum_list_plus.append(gene_id_dict[gene])\n",
    "\n",
    "polyadb_df_plus['gene_id'] = new_gene_id_list_plus\n",
    "polyadb_df_plus['sitenum'] = sitenum_list_plus\n",
    "\n",
    "new_gene_id_list_minus = []\n",
    "sitenum_list_minus = []\n",
    "gene_id_dict = {}\n",
    "for _, row in polyadb_df_minus.iterrows() :\n",
    "\n",
    "    gene = row['gene']\n",
    "\n",
    "    if gene not in gene_id_dict :\n",
    "        gene_id_dict[gene] = 0\n",
    "\n",
    "    gene_id_dict[gene] += 1\n",
    "\n",
    "    new_gene_id_list_minus.append(gene + \".\" + str(gene_id_dict[gene]))\n",
    "    sitenum_list_minus.append(gene_id_dict[gene])\n",
    "\n",
    "polyadb_df_minus['gene_id'] = new_gene_id_list_minus\n",
    "polyadb_df_minus['sitenum'] = sitenum_list_minus\n",
    "\n",
    "polyadb_df = pd.concat([polyadb_df_plus, polyadb_df_minus])\n",
    "\n",
    "polyadb_df = polyadb_df.sort_values(by=['gene', 'sitenum'], ascending=True).reset_index(drop=True).copy()"
   ]
  },
  {
   "cell_type": "code",
   "execution_count": 5,
   "metadata": {},
   "outputs": [],
   "source": [
    "#Get variant positions in hg38 coordinates\n",
    "\n",
    "polyadb_bed_hg19 = pd.read_csv(\"polyadb_coordinates_hg19.bed\", sep='\\t', header=None, names=['chrom', 'pas_pos_hg19', 'end', 'gene', 'gene_id', 'strand'])\n",
    "polyadb_bed_hg38 = pd.read_csv(\"polyadb_coordinates_hg38.bed\", sep='\\t', header=None, names=['chrom', 'pas_pos_hg38', 'end', 'gene', 'gene_id', 'strand'])\n",
    "\n",
    "polyadb_bed_hg38 = polyadb_bed_hg38.join(polyadb_bed_hg19[['gene_id', 'pas_pos_hg19']].set_index('gene_id'), on='gene_id', how='inner').copy().reset_index(drop=True)\n",
    "\n",
    "polyadb_bed_hg38['padb_join_id'] = polyadb_bed_hg38['chrom'] + \"_\" + polyadb_bed_hg38['pas_pos_hg19'].astype(str) + \"_\" + polyadb_bed_hg38['gene']\n",
    "polyadb_df['padb_join_id'] = polyadb_df['chrom'] + \"_\" + polyadb_df['pas_pos'].astype(str) + \"_\" + polyadb_df['gene']\n",
    "\n",
    "polyadb_df = polyadb_df.join(polyadb_bed_hg38[['padb_join_id', 'pas_pos_hg38']].set_index(\"padb_join_id\"), on='padb_join_id', how='inner').copy().reset_index(drop=True)\n",
    "\n",
    "#polyadb_df = polyadb_df.query(\"site_type == '3_most_exon'\")\n",
    "\n",
    "polyadb_df = polyadb_df.drop_duplicates(subset=['gene_id'], keep='first').copy().reset_index(drop=True)\n",
    "\n",
    "variant_df = variant_df.join(polyadb_df[['gene_id', 'pas_pos', 'pas_pos_hg38']].set_index(\"gene_id\"), on='gene_id', how='inner').copy().reset_index(drop=True)\n",
    "\n",
    "variant_df['var_position_hg38'] = variant_df['var_position'] - variant_df['pas_pos'] + variant_df['pas_pos_hg38']\n"
   ]
  },
  {
   "cell_type": "code",
   "execution_count": 4,
   "metadata": {},
   "outputs": [],
   "source": [
    "#Store hg19 interval of PAS sites to intersect UKBB data against\n",
    "\n",
    "polyadb_df['start'] = polyadb_df['pas_pos'] - 150\n",
    "polyadb_df['end'] = polyadb_df['pas_pos'] + 150\n",
    "\n",
    "polyadb_bed = polyadb_df[['chrom', 'start', 'end', 'gene', 'gene_id', 'strand']].query(\"chrom != 'chrX' and chrom != 'chrY'\").copy().reset_index(drop=True)\n",
    "\n",
    "polyadb_bed['sort_chrom'] = polyadb_bed['chrom'].apply(lambda x: x[3:]).astype(int)\n",
    "polyadb_bed['sort_start'] = polyadb_bed['start'].astype(int)\n",
    "\n",
    "polyadb_bed = polyadb_bed.sort_values(by=['sort_chrom', 'sort_start'], ascending=True).copy().reset_index(drop=True)\n",
    "\n",
    "polyadb_bed = polyadb_bed[['chrom', 'start', 'end', 'gene', 'gene_id', 'strand']].copy().reset_index(drop=True)\n",
    "\n",
    "polyadb_bed.to_csv(\"polyadb_interval_coordinates_hg19.sorted.bed\", sep='\\t', header=False, index=False)\n"
   ]
  },
  {
   "cell_type": "code",
   "execution_count": 5,
   "metadata": {},
   "outputs": [],
   "source": [
    "#Intersect UKBB data against PolyADB\n",
    "\n",
    "!bedtools intersect -sorted -a polyadb_interval_coordinates_hg19.sorted.bed -b UKBB_94_traits/UKBB_94traits_release1_regions.bed.gz -wb > UKBB_94_traits/UKBB_94traits_release1_regions_intersect.bed\n"
   ]
  },
  {
   "cell_type": "code",
   "execution_count": 6,
   "metadata": {},
   "outputs": [
    {
     "name": "stdout",
     "output_type": "stream",
     "text": [
      "len(ukbb_df) = 5377879\n"
     ]
    }
   ],
   "source": [
    "#Get UKBB fine-mapping data\n",
    "\n",
    "column_names = [\n",
    "    'chromosome',\n",
    "    'start',\n",
    "    'end',\n",
    "    'variant',\n",
    "    'rsid',\n",
    "    'allele1',\n",
    "    'allele2',\n",
    "    'minorallele',\n",
    "    'cohort',\n",
    "    'model_marginal',\n",
    "    'method',\n",
    "    'trait',\n",
    "    'region',\n",
    "    'maf',\n",
    "    'beta_marginal',\n",
    "    'se_marginal',\n",
    "    'chisq_marginal',\n",
    "    'pip',\n",
    "    'cs_id',\n",
    "    'beta_posterior',\n",
    "    'sd_posterior',\n",
    "    'LD_HWE',\n",
    "    'LD_SV',\n",
    "]\n",
    "\n",
    "ukbb_df = pd.read_csv(\"UKBB_94_traits/UKBB_94traits_release1.bed.gz\", sep='\\t', compression='gzip', names=column_names)\n",
    "\n",
    "print(\"len(ukbb_df) = \" + str(len(ukbb_df)))\n"
   ]
  },
  {
   "cell_type": "code",
   "execution_count": 7,
   "metadata": {},
   "outputs": [
    {
     "name": "stdout",
     "output_type": "stream",
     "text": [
      "len(all_ukbb_df) = 3450965\n"
     ]
    }
   ],
   "source": [
    "#Get UKKB non-causal variants\n",
    "\n",
    "column_names = [\n",
    "    'chromosome',\n",
    "    'start',\n",
    "    'end',\n",
    "    'cohort',\n",
    "    'trait',\n",
    "    'region',\n",
    "    'variant',\n",
    "    'success_finemap',\n",
    "    'success_susie',\n",
    "]\n",
    "\n",
    "all_ukbb_df = pd.read_csv(\"UKBB_94_traits/UKBB_94traits_release1_regions_intersect.bed\", sep='\\t', names=column_names)\n",
    "\n",
    "#Apply filters\n",
    "all_ukbb_df = all_ukbb_df.query(\"success_finemap == True and success_susie == True\").drop_duplicates(subset=['variant', 'trait', 'cohort'], keep='first').copy().reset_index(drop=True)\n",
    "\n",
    "print(\"len(all_ukbb_df) = \" + str(len(all_ukbb_df)))\n"
   ]
  },
  {
   "cell_type": "code",
   "execution_count": 9,
   "metadata": {},
   "outputs": [],
   "source": [
    "#Extract non-causal variants\n",
    "\n",
    "all_ukbb_df = all_ukbb_df[['chromosome', 'start', 'end', 'cohort', 'trait', 'region', 'variant']]\n",
    "\n",
    "all_ukbb_df = all_ukbb_df.join(ukbb_df[['variant', 'pip']].set_index(\"variant\"), on='variant', how='left')\n",
    "noncausal_ukbb_df = all_ukbb_df.loc[all_ukbb_df['pip'].isnull()].copy().reset_index(drop=True)\n",
    "noncausal_ukbb_df['pip'] = 0.\n"
   ]
  },
  {
   "cell_type": "code",
   "execution_count": 8,
   "metadata": {},
   "outputs": [
    {
     "data": {
      "text/plain": [
       "'\\nvariant_df_gwas_noncausal = variant_df.join(noncausal_ukbb_df[[\"variant\", \\'trait\\', \\'pip\\']].set_index(\"variant\"), on=\\'ukbb_join_id\\', how=\\'inner\\').copy().reset_index(drop=True)\\n\\nvariant_df_gwas_noncausal.to_csv(\"aparent_resnet_variant_predictions_polyadb_no_sequences_ukbb_noncausal_no_cutoff.csv\", sep=\\'\\t\\', index=False)\\n'"
      ]
     },
     "execution_count": 8,
     "metadata": {},
     "output_type": "execute_result"
    }
   ],
   "source": [
    "#Map variants to predictions\n",
    "\n",
    "variant_df['ukbb_join_id'] = variant_df['chrom'] + \":\" + variant_df['var_position'].astype(str) + \":\" + variant_df['ref_nucleotide'] + \":\" + variant_df['var_nucleotide']\n",
    "\n",
    "variant_df_gwas = variant_df.join(ukbb_df[[\"variant\", 'rsid', 'trait', 'maf', 'pip', 'cs_id', 'beta_marginal', 'se_marginal', 'chisq_marginal', 'beta_posterior', 'sd_posterior']].set_index(\"variant\"), on='ukbb_join_id', how='inner').copy().reset_index(drop=True)\n",
    "\n",
    "variant_df_gwas.to_csv(\"aparent_resnet_variant_predictions_polyadb_no_sequences_ukbb_no_cutoff_w_chisq.csv\", sep='\\t', index=False)\n",
    "\n",
    "#Map non-causal variants to predictions\n",
    "\n",
    "variant_df_gwas_noncausal = variant_df.join(noncausal_ukbb_df[[\"variant\", 'trait', 'pip']].set_index(\"variant\"), on='ukbb_join_id', how='inner').copy().reset_index(drop=True)\n",
    "\n",
    "variant_df_gwas_noncausal.to_csv(\"aparent_resnet_variant_predictions_polyadb_no_sequences_ukbb_noncausal_no_cutoff.csv\", sep='\\t', index=False)\n"
   ]
  },
  {
   "cell_type": "code",
   "execution_count": 9,
   "metadata": {},
   "outputs": [],
   "source": [
    "\n",
    "variant_df_gwas = pd.read_csv(\"aparent_resnet_variant_predictions_polyadb_no_sequences_ukbb_no_cutoff_w_chisq.csv\", sep='\\t')\n",
    "variant_df_gwas_noncausal = pd.read_csv(\"aparent_resnet_variant_predictions_polyadb_no_sequences_ukbb_noncausal_no_cutoff.csv\", sep='\\t')\n"
   ]
  },
  {
   "cell_type": "code",
   "execution_count": 10,
   "metadata": {},
   "outputs": [],
   "source": [
    "#Drop duplicates for partially overlapping annotated PASs\n",
    "\n",
    "variant_df_gwas['rsID'] = variant_df_gwas['rsid'].astype(str)\n",
    "\n",
    "variant_df_gwas['delta_logodds_77_127_abs'] = np.abs(variant_df_gwas['delta_logodds_77_127'])\n",
    "\n",
    "variant_df_gwas['rel_var_position'] = -1\n",
    "variant_df_gwas.loc[variant_df_gwas['strand'] == '+', 'rel_var_position'] = variant_df_gwas['var_position'] - (variant_df_gwas['pas_pos'] - 70 + 1)\n",
    "variant_df_gwas.loc[variant_df_gwas['strand'] == '-', 'rel_var_position'] = ((variant_df_gwas['pas_pos'] - (205 - 70)) + 205) - variant_df_gwas['var_position']\n",
    "\n",
    "variant_df_gwas['target_rel_var_position'] = np.abs(90 - variant_df_gwas['rel_var_position'])\n",
    "variant_df_gwas['delta_logodds_77_127_abs'] = -variant_df_gwas['delta_logodds_77_127_abs']\n",
    "variant_df_gwas = variant_df_gwas.sort_values(by=['target_rel_var_position', 'delta_logodds_77_127_abs'], ascending=True).drop_duplicates(subset=['ukbb_join_id', 'trait'], keep='first').copy().reset_index(drop=True)\n"
   ]
  },
  {
   "cell_type": "code",
   "execution_count": 11,
   "metadata": {},
   "outputs": [
    {
     "name": "stdout",
     "output_type": "stream",
     "text": [
      "len(variant_df_gwas_lead) = 17426\n"
     ]
    }
   ],
   "source": [
    "#Aggregate summary statistic for unique SNPs (by rsID)\n",
    "\n",
    "variant_df_gwas_lead = variant_df_gwas.copy().sort_values(by='pip', ascending=False).drop_duplicates(\"ukbb_join_id\").copy().reset_index(drop=True)\n",
    "\n",
    "print(\"len(variant_df_gwas_lead) = \" + str(len(variant_df_gwas_lead)))\n"
   ]
  },
  {
   "cell_type": "code",
   "execution_count": 12,
   "metadata": {},
   "outputs": [],
   "source": [
    "#Filter on 3' UTR SNPs only\n",
    "\n",
    "variant_df_gwas = variant_df_gwas.query(\"site_type == '3_most_exon'\").copy().reset_index(drop=True)\n",
    "variant_df_gwas_lead = variant_df_gwas_lead.query(\"site_type == '3_most_exon'\").copy().reset_index(drop=True)\n"
   ]
  },
  {
   "cell_type": "code",
   "execution_count": 26,
   "metadata": {},
   "outputs": [
    {
     "name": "stdout",
     "output_type": "stream",
     "text": [
      "n = 9190\n",
      "n (>= 1.4-fold) = 1153\n",
      "\n",
      "n = 41 (PP >= 0.9)\n",
      "n (>= 1.4-fold) = 13 (PP >= 0.9)\n"
     ]
    },
    {
     "data": {
      "image/png": "[encoded data removed]",
      "text/plain": [
       "<Figure size 288x288 with 1 Axes>"
      ]
     },
     "metadata": {},
     "output_type": "display_data"
    }
   ],
   "source": [
    "\n",
    "f = plt.figure(figsize=(4, 4))\n",
    "\n",
    "variant_df_gwas_lead['delta_logodds_77_127_abs'] = np.abs(variant_df_gwas_lead['delta_logodds_77_127'])\n",
    "\n",
    "variant_df_gwas_lead_non_signi = variant_df_gwas_lead.query(\"pip < 0.9\")\n",
    "variant_df_gwas_lead_signi = variant_df_gwas_lead.query(\"pip >= 0.9\")\n",
    "\n",
    "print(\"n = \" + str(len(variant_df_gwas_lead)))\n",
    "print(\"n (>= 1.4-fold) = \" + str(len(variant_df_gwas_lead.query(\"delta_logodds_77_127_abs >= 0.336\"))))\n",
    "\n",
    "print(\"\")\n",
    "print(\"n = \" + str(len(variant_df_gwas_lead_signi)) + \" (PP >= 0.9)\")\n",
    "print(\"n (>= 1.4-fold) = \" + str(len(variant_df_gwas_lead_signi.query(\"delta_logodds_77_127_abs >= 0.336\"))) + \" (PP >= 0.9)\")\n",
    "\n",
    "plt.scatter(variant_df_gwas_lead_non_signi['delta_logodds_77_127_abs'] / np.log(2.), variant_df_gwas_lead_non_signi['chisq_marginal'], color='darkgreen', s=15, alpha=0.95)\n",
    "\n",
    "plt.scatter(variant_df_gwas_lead_signi.query(\"delta_logodds_77_127_abs < 0.336\")['delta_logodds_77_127_abs'] / np.log(2.), variant_df_gwas_lead_signi.query(\"delta_logodds_77_127_abs < 0.336\")['chisq_marginal'], color='red', s=15, alpha=0.95)\n",
    "plt.scatter(variant_df_gwas_lead_signi.query(\"delta_logodds_77_127_abs >= 0.336\")['delta_logodds_77_127_abs'] / np.log(2.), variant_df_gwas_lead_signi.query(\"delta_logodds_77_127_abs >= 0.336\")['chisq_marginal'], color='red', s=35, marker=\"^\", alpha=0.95)\n",
    "\n",
    "plt.axvline(x=np.log2(1.4), linestyle='--', linewidth=2, color='black')\n",
    "\n",
    "plt.xlim(-0.1, 6.0)\n",
    "plt.ylim(-25, 1000)\n",
    "\n",
    "plt.xticks([0, 1, 2, 3, 4, 5, 6], ['Ref', '2-fold', '4-fold', '8-fold', '16-fold', '32-fold', '64-fold'], fontsize=12, rotation=45)\n",
    "plt.yticks(fontsize=12, rotation=45)\n",
    "\n",
    "plt.savefig(\"ukbb_aparent_resnet_scatter_utr3_only_pp_09_v2.png\", transparent=True, dpi=300)\n",
    "plt.savefig(\"ukbb_aparent_resnet_scatter_utr3_only_pp_09_v2.eps\")\n",
    "\n",
    "plt.tight_layout()\n",
    "\n",
    "plt.show()\n"
   ]
  },
  {
   "cell_type": "code",
   "execution_count": 27,
   "metadata": {},
   "outputs": [
    {
     "name": "stdout",
     "output_type": "stream",
     "text": [
      "n = 9190\n",
      "n (>= 1.4-fold) = 1153\n",
      "\n",
      "n = 26 (PP >= 0.5)\n",
      "n (>= 1.4-fold) = 2 (PP >= 0.5)\n",
      "\n",
      "n = 41 (PP >= 0.9)\n",
      "n (>= 1.4-fold) = 13 (PP >= 0.9)\n"
     ]
    },
    {
     "data": {
      "image/png": "[encoded data removed]",
      "text/plain": [
       "<Figure size 288x288 with 1 Axes>"
      ]
     },
     "metadata": {},
     "output_type": "display_data"
    }
   ],
   "source": [
    "\n",
    "f = plt.figure(figsize=(4, 4))\n",
    "\n",
    "variant_df_gwas_lead['delta_logodds_77_127_abs'] = np.abs(variant_df_gwas_lead['delta_logodds_77_127'])\n",
    "\n",
    "variant_df_gwas_lead_non_signi = variant_df_gwas_lead.query(\"pip < 0.5\")\n",
    "variant_df_gwas_lead_semi_signi = variant_df_gwas_lead.query(\"pip >= 0.5 and pip < 0.9\")\n",
    "variant_df_gwas_lead_signi = variant_df_gwas_lead.query(\"pip >= 0.9\")\n",
    "\n",
    "print(\"n = \" + str(len(variant_df_gwas_lead)))\n",
    "print(\"n (>= 1.4-fold) = \" + str(len(variant_df_gwas_lead.query(\"delta_logodds_77_127_abs >= 0.336\"))))\n",
    "\n",
    "print(\"\")\n",
    "print(\"n = \" + str(len(variant_df_gwas_lead_semi_signi)) + \" (PP >= 0.5)\")\n",
    "print(\"n (>= 1.4-fold) = \" + str(len(variant_df_gwas_lead_semi_signi.query(\"delta_logodds_77_127_abs >= 0.336\"))) + \" (PP >= 0.5)\")\n",
    "\n",
    "print(\"\")\n",
    "print(\"n = \" + str(len(variant_df_gwas_lead_signi)) + \" (PP >= 0.9)\")\n",
    "print(\"n (>= 1.4-fold) = \" + str(len(variant_df_gwas_lead_signi.query(\"delta_logodds_77_127_abs >= 0.336\"))) + \" (PP >= 0.9)\")\n",
    "\n",
    "plt.scatter(variant_df_gwas_lead_non_signi['delta_logodds_77_127_abs'] / np.log(2.), variant_df_gwas_lead_non_signi['chisq_marginal'], color='darkgreen', s=15, alpha=0.95)\n",
    "\n",
    "plt.scatter(variant_df_gwas_lead_semi_signi.query(\"delta_logodds_77_127_abs < 0.336\")['delta_logodds_77_127_abs'] / np.log(2.), variant_df_gwas_lead_semi_signi.query(\"delta_logodds_77_127_abs < 0.336\")['chisq_marginal'], color='blue', s=15, alpha=0.95)\n",
    "plt.scatter(variant_df_gwas_lead_semi_signi.query(\"delta_logodds_77_127_abs >= 0.336\")['delta_logodds_77_127_abs'] / np.log(2.), variant_df_gwas_lead_semi_signi.query(\"delta_logodds_77_127_abs >= 0.336\")['chisq_marginal'], color='blue', s=35, marker=\"^\", alpha=0.95)\n",
    "\n",
    "plt.scatter(variant_df_gwas_lead_signi.query(\"delta_logodds_77_127_abs < 0.336\")['delta_logodds_77_127_abs'] / np.log(2.), variant_df_gwas_lead_signi.query(\"delta_logodds_77_127_abs < 0.336\")['chisq_marginal'], color='red', s=15, alpha=0.95)\n",
    "plt.scatter(variant_df_gwas_lead_signi.query(\"delta_logodds_77_127_abs >= 0.336\")['delta_logodds_77_127_abs'] / np.log(2.), variant_df_gwas_lead_signi.query(\"delta_logodds_77_127_abs >= 0.336\")['chisq_marginal'], color='red', s=35, marker=\"^\", alpha=0.95)\n",
    "\n",
    "plt.axvline(x=np.log2(1.4), linestyle='--', linewidth=2, color='black')\n",
    "\n",
    "plt.xlim(-0.1, 6.0)\n",
    "plt.ylim(-25, 1000)\n",
    "\n",
    "plt.xticks([0, 1, 2, 3, 4, 5, 6], ['Ref', '2-fold', '4-fold', '8-fold', '16-fold', '32-fold', '64-fold'], fontsize=12, rotation=45)\n",
    "plt.yticks(fontsize=12, rotation=45)\n",
    "\n",
    "plt.savefig(\"ukbb_aparent_resnet_scatter_utr3_only_pp_05_09_v2.png\", transparent=True, dpi=300)\n",
    "plt.savefig(\"ukbb_aparent_resnet_scatter_utr3_only_pp_05_09_v2.eps\")\n",
    "\n",
    "plt.tight_layout()\n",
    "\n",
    "plt.show()\n"
   ]
  },
  {
   "cell_type": "code",
   "execution_count": 28,
   "metadata": {},
   "outputs": [],
   "source": [
    "#Load trait metadata\n",
    "\n",
    "ukbb_meta_df = pd.read_csv(\"UKBB_94_traits/UKBB_94traits_release1.traits\", sep='\\t')\n"
   ]
  },
  {
   "cell_type": "code",
   "execution_count": 29,
   "metadata": {},
   "outputs": [],
   "source": [
    "#Get SNPs with PP >= 0.5 and PP >= 0.9\n",
    "\n",
    "variant_df_gwas_semi_signi = variant_df_gwas.query(\"pip >= 0.5 and pip < 0.9\").copy()\n",
    "variant_df_gwas_lead_semi_signi = variant_df_gwas_lead_semi_signi.query(\"pip >= 0.5 and pip < 0.9\").copy()\n",
    "\n",
    "variant_df_gwas_semi_signi = variant_df_gwas_semi_signi.join(ukbb_meta_df[['trait', 'description']].set_index(\"trait\"), on='trait', how='inner').copy().reset_index(drop=True)\n",
    "variant_df_gwas_lead_semi_signi = variant_df_gwas_lead_semi_signi.join(ukbb_meta_df[['trait', 'description']].set_index(\"trait\"), on='trait', how='inner').copy().reset_index(drop=True)\n",
    "\n",
    "variant_df_gwas_signi = variant_df_gwas.query(\"pip >= 0.9\").copy()\n",
    "variant_df_gwas_lead_signi = variant_df_gwas_lead_signi.query(\"pip >= 0.9\").copy()\n",
    "\n",
    "variant_df_gwas_signi = variant_df_gwas_signi.join(ukbb_meta_df[['trait', 'description']].set_index(\"trait\"), on='trait', how='inner').copy().reset_index(drop=True)\n",
    "variant_df_gwas_lead_signi = variant_df_gwas_lead_signi.join(ukbb_meta_df[['trait', 'description']].set_index(\"trait\"), on='trait', how='inner').copy().reset_index(drop=True)\n",
    "\n",
    "variant_df_gwas_lead_semi_signi['delta_logodds_77_127_abs_log_2'] = 2**(variant_df_gwas_lead_semi_signi['delta_logodds_77_127_abs'] / np.log(2.))\n",
    "variant_df_gwas_lead_signi['delta_logodds_77_127_abs_log_2'] = 2**(variant_df_gwas_lead_signi['delta_logodds_77_127_abs'] / np.log(2.))\n"
   ]
  },
  {
   "cell_type": "code",
   "execution_count": 30,
   "metadata": {},
   "outputs": [],
   "source": [
    "#Get variant ids\n",
    "\n",
    "rs_ids = set(variant_df_gwas['rsID'].unique().tolist())\n",
    "\n",
    "rs_ids_semi_signi = set(variant_df_gwas_semi_signi['rsID'].unique().tolist())\n",
    "rs_ids_lead_semi_signi = set(variant_df_gwas_lead_semi_signi['rsID'].unique().tolist())\n",
    "\n",
    "rs_ids_signi = set(variant_df_gwas_signi['rsID'].unique().tolist())\n",
    "rs_ids_lead_signi = set(variant_df_gwas_lead_signi['rsID'].unique().tolist())\n"
   ]
  },
  {
   "cell_type": "code",
   "execution_count": 31,
   "metadata": {
    "scrolled": true
   },
   "outputs": [
    {
     "name": "stdout",
     "output_type": "stream",
     "text": [
      "--- SNPs from credible set w. PP >= 0.9 ---\n",
      "rs3211995      : True\n",
      " - delta_logodds_77_127 = 3.0457\n",
      " - delta_logodds_77_127_abs_log_2 = 21.0241\n",
      " -- Mean arterial pressure, statistic = 37.9865, PP = 0.996894\n",
      " -- Systolic blood pressure, statistic = 43.1158, PP = 0.995952\n",
      "\n",
      "rs78378222     : True\n",
      " - delta_logodds_77_127 = -2.3624\n",
      " - delta_logodds_77_127_abs_log_2 = 10.6162\n",
      " -- Adult height, statistic = 118.362, PP = 1.0\n",
      " -- Mean corpuscular hemoglobin, statistic = 100.5, PP = 1.0\n",
      " -- Mean corpuscular volume, statistic = 88.3365, PP = 1.0\n",
      " -- Red blood cell count, statistic = 97.3022, PP = 1.0\n",
      " -- Apolipoprotein A, statistic = 40.8586, PP = 0.926956\n",
      " -- Diastolic blood pressure, statistic = 43.0585, PP = 1.0\n",
      " -- Loss of Y, statistic = 296.598, PP = 1.0\n",
      " -- Body weight, statistic = 77.2636, PP = 1.0\n",
      " -- Hematocrit, statistic = 23.3951, PP = 0.902121\n",
      " -- Pluse pressure, statistic = 90.6262, PP = 1.0\n",
      "\n",
      "rs6796         : True\n",
      " - delta_logodds_77_127 = -2.2975\n",
      " - delta_logodds_77_127_abs_log_2 = 9.9491\n",
      " -- Monocyte count, statistic = 273.915, PP = 0.999998\n",
      "\n",
      "rs76020419     : True\n",
      " - delta_logodds_77_127 = 1.4474\n",
      " - delta_logodds_77_127_abs_log_2 = 4.252\n",
      " -- Diastolic blood pressure, statistic = 29.4173, PP = 0.98914\n",
      "\n",
      "rs3208787      : True\n",
      " - delta_logodds_77_127 = -1.254\n",
      " - delta_logodds_77_127_abs_log_2 = 3.5043\n",
      " -- Mean corpuscular hemoglobin, statistic = 33.9289, PP = 0.94508\n",
      " -- Red blood cell count, statistic = 65.042, PP = 1.0\n",
      "\n",
      "rs35979828     : True\n",
      " - delta_logodds_77_127 = -1.0283\n",
      " - delta_logodds_77_127_abs_log_2 = 2.7962\n",
      " -- Hemoglobin A1c, statistic = 40.9369, PP = 0.999966\n",
      " -- Mean corpuscular hemoglobin, statistic = 76.1084, PP = 1.0\n",
      " -- Mean corpuscular volume, statistic = 151.055, PP = 1.0\n",
      " -- Red blood cell count, statistic = 65.6807, PP = 1.0\n",
      " -- Eosinophil count, statistic = 67.447, PP = 1.0\n",
      " -- Loss of Y, statistic = 87.508, PP = 1.0\n",
      " -- Monocyte count, statistic = 67.3078, PP = 1.0\n",
      " -- Platelet count, statistic = 181.556, PP = 0.945909\n",
      "\n",
      "rs884205       : True\n",
      " - delta_logodds_77_127 = -0.798\n",
      " - delta_logodds_77_127_abs_log_2 = 2.2211\n",
      " -- Alkaline phosphatase, statistic = 254.701, PP = 1.0\n",
      " -- Estimated heel bone mineral density, statistic = 93.8172, PP = 1.0\n",
      "\n",
      "rs1815009      : True\n",
      " - delta_logodds_77_127 = 0.5175\n",
      " - delta_logodds_77_127_abs_log_2 = 1.6778\n",
      " -- Insulin-like growth factor 1, statistic = 63.3597, PP = 0.995106\n",
      "\n",
      "rs11666245     : True\n",
      " - delta_logodds_77_127 = 0.5158\n",
      " - delta_logodds_77_127_abs_log_2 = 1.6749\n",
      " -- C-reactive protein, statistic = 51.5876, PP = 0.977589\n",
      "\n",
      "rs1055253      : True\n",
      " - delta_logodds_77_127 = 0.4956\n",
      " - delta_logodds_77_127_abs_log_2 = 1.6414\n",
      " -- Red blood cell count, statistic = 46.9531, PP = 0.925224\n",
      "\n",
      "rs141870697    : True\n",
      " - delta_logodds_77_127 = 0.471\n",
      " - delta_logodds_77_127_abs_log_2 = 1.6016\n",
      " -- FEV1/FVC ratio, statistic = 47.2386, PP = 0.918507\n",
      "\n",
      "rs7078         : True\n",
      " - delta_logodds_77_127 = -0.4102\n",
      " - delta_logodds_77_127_abs_log_2 = 1.5071\n",
      " -- Estimated heel bone mineral density, statistic = 71.9146, PP = 1.0\n",
      "\n",
      "rs17352041     : True\n",
      " - delta_logodds_77_127 = -0.4011\n",
      " - delta_logodds_77_127_abs_log_2 = 1.4934\n",
      " -- Adult height, statistic = 35.0065, PP = 0.999975\n",
      "\n"
     ]
    }
   ],
   "source": [
    "#Top candidates from CasualDB with PP >= 0.9 (cutoff immediately after known pathogenic variant rs1799963)\n",
    "\n",
    "cand_rs_ids = variant_df_gwas_lead_signi.sort_values(by='delta_logodds_77_127_abs_log_2', ascending=False).query(\"delta_logodds_77_127_abs_log_2 >= 1.4\")['rsID'].values.tolist()\n",
    "\n",
    "print(\"--- SNPs from credible set w. PP >= 0.9 ---\")\n",
    "\n",
    "for cand_rs_id in cand_rs_ids :\n",
    "    print((cand_rs_id + \" \" * 15)[:15] + \": \" + str((cand_rs_id in rs_ids_signi)))\n",
    "    \n",
    "    if cand_rs_id in rs_ids_signi :\n",
    "        print(\" - delta_logodds_77_127 = \" + str(round(variant_df_gwas_lead_signi.query(\"rsID == '\" + cand_rs_id + \"'\").iloc[0]['delta_logodds_77_127'], 4)))\n",
    "        print(\" - delta_logodds_77_127_abs_log_2 = \" + str(round(2**(np.abs(variant_df_gwas_lead_signi.query(\"rsID == '\" + cand_rs_id + \"'\").iloc[0]['delta_logodds_77_127']) / np.log(2.)), 4)))\n",
    "        \n",
    "        subset_df = variant_df_gwas_signi.query(\"rsID == '\" + cand_rs_id + \"'\")\n",
    "        for _, row in subset_df.iterrows() :\n",
    "            print(\" -- \" + row['description'] + \", statistic = \" + str(row['chisq_marginal']) + \", PP = \" + str(row['pip']))\n",
    "\n",
    "        print(\"\")\n"
   ]
  },
  {
   "cell_type": "code",
   "execution_count": 32,
   "metadata": {},
   "outputs": [
    {
     "name": "stdout",
     "output_type": "stream",
     "text": [
      "--- SNPs from credible set w. PP >= 0.5 ---\n",
      "rs1064939      : True\n",
      " - delta_logodds_77_127 = 0.9162\n",
      " - delta_logodds_77_127_abs_log_2 = 2.4999\n",
      " -- Body mass index, statistic = 41.7335, PP = 0.894186\n",
      "\n",
      "rs45463895     : True\n",
      " - delta_logodds_77_127 = -0.3893\n",
      " - delta_logodds_77_127_abs_log_2 = 1.4759\n",
      " -- Monocyte count, statistic = 11.1444, PP = 0.679254\n",
      "\n"
     ]
    }
   ],
   "source": [
    "#Top candidates from CasualDB with PP >= 0.5 (cutoff immediately after known pathogenic variant rs1799963)\n",
    "\n",
    "cand_rs_ids = variant_df_gwas_lead_semi_signi.sort_values(by='delta_logodds_77_127_abs_log_2', ascending=False).query(\"delta_logodds_77_127_abs_log_2 >= 1.4\")['rsID'].values.tolist()\n",
    "\n",
    "print(\"--- SNPs from credible set w. PP >= 0.5 ---\")\n",
    "\n",
    "for cand_rs_id in cand_rs_ids :\n",
    "    print((cand_rs_id + \" \" * 15)[:15] + \": \" + str((cand_rs_id in rs_ids_semi_signi)))\n",
    "    \n",
    "    if cand_rs_id in rs_ids_semi_signi :\n",
    "        print(\" - delta_logodds_77_127 = \" + str(round(variant_df_gwas_lead_semi_signi.query(\"rsID == '\" + cand_rs_id + \"'\").iloc[0]['delta_logodds_77_127'], 4)))\n",
    "        print(\" - delta_logodds_77_127_abs_log_2 = \" + str(round(2**(np.abs(variant_df_gwas_lead_semi_signi.query(\"rsID == '\" + cand_rs_id + \"'\").iloc[0]['delta_logodds_77_127']) / np.log(2.)), 4)))\n",
    "        \n",
    "        subset_df = variant_df_gwas_semi_signi.query(\"rsID == '\" + cand_rs_id + \"'\")\n",
    "        for _, row in subset_df.iterrows() :\n",
    "            print(\" -- \" + row['description'] + \", statistic = \" + str(row['chisq_marginal']) + \", PP = \" + str(row['pip']))\n",
    "\n",
    "        print(\"\")\n"
   ]
  },
  {
   "cell_type": "code",
   "execution_count": null,
   "metadata": {},
   "outputs": [],
   "source": []
  }
 ],
 "metadata": {
  "kernelspec": {
   "display_name": "Environment (conda_tensorflow_p36)",
   "language": "python",
   "name": "conda_tensorflow_p36"
  },
  "language_info": {
   "codemirror_mode": {
    "name": "ipython",
    "version": 3
   },
   "file_extension": ".py",
   "mimetype": "text/x-python",
   "name": "python",
   "nbconvert_exporter": "python",
   "pygments_lexer": "ipython3",
   "version": "3.6.5"
  }
 },
 "nbformat": 4,
 "nbformat_minor": 2
}
