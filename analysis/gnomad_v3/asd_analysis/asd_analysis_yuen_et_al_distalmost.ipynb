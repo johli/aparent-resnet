{
 "cells": [
  {
   "cell_type": "code",
   "execution_count": 1,
   "metadata": {},
   "outputs": [
    {
     "name": "stderr",
     "output_type": "stream",
     "text": [
      "Using TensorFlow backend.\n"
     ]
    }
   ],
   "source": [
    "from __future__ import print_function\n",
    "import keras\n",
    "from keras.models import Sequential, Model, load_model\n",
    "from keras import backend as K\n",
    "\n",
    "import tensorflow as tf\n",
    "\n",
    "import os\n",
    "import pandas as pd\n",
    "\n",
    "import numpy as np\n",
    "\n",
    "import matplotlib.pyplot as plt\n",
    "import matplotlib.cm as cm\n",
    "\n",
    "#import aparent.visualization as vis\n",
    "\n",
    "#from aparent_predictor import *\n"
   ]
  },
  {
   "cell_type": "code",
   "execution_count": 2,
   "metadata": {},
   "outputs": [],
   "source": [
    "#Store variant prediction dataframe\n",
    "\n",
    "variant_df = pd.read_csv('aparent_resnet_variant_predictions_polyadb_no_sequences_no_cutoff.csv', sep='\\t')\n"
   ]
  },
  {
   "cell_type": "code",
   "execution_count": 3,
   "metadata": {},
   "outputs": [
    {
     "name": "stdout",
     "output_type": "stream",
     "text": [
      "len(polyadb_df) = 175451\n"
     ]
    }
   ],
   "source": [
    "#Load APADB Data and filter on targeted genes\n",
    "\n",
    "#genes = ['RUNX1', 'CEBPA', 'GATA2', 'ANKRD26', 'DDX41', 'ETV6', 'PTEN', 'BRCA1', 'BRCA2', 'TP53', 'APC', 'ATM', 'PALB2', 'MSH2', 'MLH1', 'MSH6', 'PMS2', 'MUTYH']\n",
    "\n",
    "polyadb_df = pd.read_csv('polyadb_processed.csv', sep=',')\n",
    "\n",
    "#polyadb_df = polyadb_df.loc[polyadb_df['gene'].isin(genes)].reset_index(drop=True).copy()\n",
    "polyadb_df = polyadb_df.loc[((~polyadb_df['gene'].isnull()) & (polyadb_df['gene'] != 'na')) & (polyadb_df['pas'] != -1)].reset_index(drop=True).copy()\n",
    "\n",
    "print('len(polyadb_df) = ' + str(len(polyadb_df)))\n"
   ]
  },
  {
   "cell_type": "code",
   "execution_count": 4,
   "metadata": {},
   "outputs": [],
   "source": [
    "#Process PolyaDB data\n",
    "\n",
    "polyadb_df_minus = polyadb_df.query(\"strand == '-'\").copy().reset_index(drop=True)\n",
    "polyadb_df_plus = polyadb_df.query(\"strand == '+'\").copy().reset_index(drop=True)\n",
    "\n",
    "polyadb_df_minus = polyadb_df_minus.sort_values(by='pas_pos', ascending=False).copy().reset_index(drop=True)\n",
    "polyadb_df_plus = polyadb_df_plus.sort_values(by='pas_pos', ascending=True).copy().reset_index(drop=True)\n",
    "\n",
    "new_gene_id_list_plus = []\n",
    "sitenum_list_plus = []\n",
    "gene_id_dict = {}\n",
    "for _, row in polyadb_df_plus.iterrows() :\n",
    "\n",
    "    gene = row['gene']\n",
    "\n",
    "    if gene not in gene_id_dict :\n",
    "        gene_id_dict[gene] = 0\n",
    "\n",
    "    gene_id_dict[gene] += 1\n",
    "\n",
    "    new_gene_id_list_plus.append(gene + \".\" + str(gene_id_dict[gene]))\n",
    "    sitenum_list_plus.append(gene_id_dict[gene])\n",
    "\n",
    "polyadb_df_plus['gene_id'] = new_gene_id_list_plus\n",
    "polyadb_df_plus['sitenum'] = sitenum_list_plus\n",
    "\n",
    "new_gene_id_list_minus = []\n",
    "sitenum_list_minus = []\n",
    "gene_id_dict = {}\n",
    "for _, row in polyadb_df_minus.iterrows() :\n",
    "\n",
    "    gene = row['gene']\n",
    "\n",
    "    if gene not in gene_id_dict :\n",
    "        gene_id_dict[gene] = 0\n",
    "\n",
    "    gene_id_dict[gene] += 1\n",
    "\n",
    "    new_gene_id_list_minus.append(gene + \".\" + str(gene_id_dict[gene]))\n",
    "    sitenum_list_minus.append(gene_id_dict[gene])\n",
    "\n",
    "polyadb_df_minus['gene_id'] = new_gene_id_list_minus\n",
    "polyadb_df_minus['sitenum'] = sitenum_list_minus\n",
    "\n",
    "polyadb_df = pd.concat([polyadb_df_plus, polyadb_df_minus])\n",
    "\n",
    "polyadb_df = polyadb_df.sort_values(by=['gene', 'sitenum'], ascending=True).reset_index(drop=True).copy()"
   ]
  },
  {
   "cell_type": "code",
   "execution_count": 5,
   "metadata": {},
   "outputs": [],
   "source": [
    "#Get variant positions in hg38 coordinates\n",
    "\n",
    "polyadb_bed_hg19 = pd.read_csv(\"polyadb_coordinates_utr3_hg19.bed\", sep='\\t', header=None, names=['chrom', 'pas_pos_hg19', 'end', 'gene', 'gene_id', 'strand'])\n",
    "polyadb_bed_hg38 = pd.read_csv(\"polyadb_coordinates_utr3_hg38.bed\", sep='\\t', header=None, names=['chrom', 'pas_pos_hg38', 'end', 'gene', 'gene_id', 'strand'])\n",
    "\n",
    "polyadb_bed_hg38 = polyadb_bed_hg38.join(polyadb_bed_hg19[['gene_id', 'pas_pos_hg19']].set_index('gene_id'), on='gene_id', how='inner').copy().reset_index(drop=True)\n",
    "\n",
    "polyadb_bed_hg38['padb_join_id'] = polyadb_bed_hg38['chrom'] + \"_\" + polyadb_bed_hg38['pas_pos_hg19'].astype(str) + \"_\" + polyadb_bed_hg38['gene']\n",
    "polyadb_df['padb_join_id'] = polyadb_df['chrom'] + \"_\" + polyadb_df['pas_pos'].astype(str) + \"_\" + polyadb_df['gene']\n",
    "\n",
    "polyadb_df = polyadb_df.join(polyadb_bed_hg38[['padb_join_id', 'pas_pos_hg38']].set_index(\"padb_join_id\"), on='padb_join_id', how='inner').copy().reset_index(drop=True)\n",
    "\n",
    "polyadb_df = polyadb_df.query(\"site_type == '3_most_exon'\")\n",
    "\n",
    "polyadb_df = polyadb_df.drop_duplicates(subset=['gene_id'], keep='first').copy().reset_index(drop=True)\n",
    "\n",
    "variant_df = variant_df.join(polyadb_df[['gene_id', 'pas_pos', 'pas_pos_hg38', 'sitenum', 'num_sites', 'pas']].set_index(\"gene_id\"), on='gene_id', how='inner').copy().reset_index(drop=True)\n",
    "\n",
    "variant_df['var_position_hg38'] = variant_df['var_position'] - variant_df['pas_pos'] + variant_df['pas_pos_hg38']\n"
   ]
  },
  {
   "cell_type": "code",
   "execution_count": 6,
   "metadata": {},
   "outputs": [],
   "source": [
    "\n",
    "variant_df_gnomad = pd.read_csv(\"aparent_resnet_variant_predictions_polyadb_no_sequences_gnomad_no_cutoff_shifted.csv\", sep='\\t')\n",
    "\n",
    "polyadb_df = polyadb_df.drop_duplicates(subset=['gene_id'], keep='first').copy().reset_index(drop=True)\n",
    "variant_df_gnomad = variant_df_gnomad.join(polyadb_df[['gene_id', 'pas']].set_index(\"gene_id\"), on='gene_id', how='inner').copy().reset_index(drop=True)\n"
   ]
  },
  {
   "cell_type": "code",
   "execution_count": 7,
   "metadata": {},
   "outputs": [],
   "source": [
    "\n",
    "variant_df_gnomad['rel_var_position'] = -1\n",
    "variant_df_gnomad.loc[variant_df_gnomad['strand'] == '+', 'rel_var_position'] = variant_df_gnomad['var_position'] - (variant_df_gnomad['pas_pos'] - 70 + 1)\n",
    "variant_df_gnomad.loc[variant_df_gnomad['strand'] == '-', 'rel_var_position'] = ((variant_df_gnomad['pas_pos'] - (205 - 70)) + 205) - variant_df_gnomad['var_position']\n"
   ]
  },
  {
   "cell_type": "code",
   "execution_count": 8,
   "metadata": {},
   "outputs": [],
   "source": [
    "\n",
    "variant_df['rel_var_position'] = -1\n",
    "variant_df.loc[variant_df['strand'] == '+', 'rel_var_position'] = variant_df['var_position'] - (variant_df['pas_pos'] - 70 + 1)\n",
    "variant_df.loc[variant_df['strand'] == '-', 'rel_var_position'] = ((variant_df['pas_pos'] - (205 - 70)) + 205) - variant_df['var_position']\n"
   ]
  },
  {
   "cell_type": "code",
   "execution_count": 9,
   "metadata": {},
   "outputs": [],
   "source": [
    "\n",
    "variant_df_gnomad['alt_usage'] = 1. / (1. + 1. / ((np.clip(variant_df_gnomad['native_usage'], 1e-7, 1. - 1e-7) / (1. - np.clip(variant_df_gnomad['native_usage'], 1e-7, 1. - 1e-7))) * np.exp(variant_df_gnomad['delta_logodds_0_205'])))\n",
    "variant_df_gnomad['delta_usage'] = variant_df_gnomad['alt_usage'] - variant_df_gnomad['native_usage']\n"
   ]
  },
  {
   "cell_type": "code",
   "execution_count": 10,
   "metadata": {},
   "outputs": [],
   "source": [
    "\n",
    "variant_df['alt_usage'] = 1. / (1. + 1. / ((np.clip(variant_df['native_usage'], 1e-7, 1. - 1e-7) / (1. - np.clip(variant_df['native_usage'], 1e-7, 1. - 1e-7))) * np.exp(variant_df['delta_logodds_0_205'])))\n",
    "variant_df['delta_usage'] = variant_df['alt_usage'] - variant_df['native_usage']\n"
   ]
  },
  {
   "cell_type": "code",
   "execution_count": 11,
   "metadata": {},
   "outputs": [],
   "source": [
    "\n",
    "variant_df_gnomad['alt_usage_77_127'] = 1. / (1. + 1. / ((np.clip(variant_df_gnomad['native_usage'], 1e-7, 1. - 1e-7) / (1. - np.clip(variant_df_gnomad['native_usage'], 1e-7, 1. - 1e-7))) * np.exp(variant_df_gnomad['delta_logodds_77_127'])))\n",
    "variant_df_gnomad['delta_usage_77_127'] = variant_df_gnomad['alt_usage_77_127'] - variant_df_gnomad['native_usage']\n"
   ]
  },
  {
   "cell_type": "code",
   "execution_count": 12,
   "metadata": {},
   "outputs": [],
   "source": [
    "\n",
    "variant_df['alt_usage_77_127'] = 1. / (1. + 1. / ((np.clip(variant_df['native_usage'], 1e-7, 1. - 1e-7) / (1. - np.clip(variant_df['native_usage'], 1e-7, 1. - 1e-7))) * np.exp(variant_df['delta_logodds_77_127'])))\n",
    "variant_df['delta_usage_77_127'] = variant_df['alt_usage_77_127'] - variant_df['native_usage']\n"
   ]
  },
  {
   "cell_type": "code",
   "execution_count": 13,
   "metadata": {
    "scrolled": true
   },
   "outputs": [],
   "source": [
    "#Load ASD cohort data\n",
    "\n",
    "asd_df = pd.read_csv(\"asd_dnms.csv\", sep=',')[['Chromosome', 'Start', 'Reference', 'Allel', 'Function']]\n",
    "\n",
    "asd_df = asd_df.rename(columns={\n",
    "    'Chromosome' : 'Chrom',\n",
    "    'Start' : 'Pos',\n",
    "    'Reference' : 'Ref',\n",
    "    'Allel' : 'Alt',\n",
    "    'Function' : 'Consequence',\n",
    "})\n",
    "\n",
    "asd_df['join_id_hg19'] = asd_df['Chrom'] + \"_\" + asd_df['Pos'].astype(str) + \"_\" + asd_df['Alt'].astype(str)\n",
    "variant_df['join_id_hg19'] = variant_df['chrom'] + \"_\" + variant_df['var_position'].astype(str) + \"_\" + variant_df['var_nucleotide'].astype(str)\n",
    "variant_df['join_id'] = variant_df['chrom'] + \"_\" + variant_df['var_position_hg38'].astype(str) + \"_\" + variant_df['var_nucleotide'].astype(str)\n",
    "\n",
    "asd_df = asd_df.join(variant_df.set_index(\"join_id_hg19\"), on='join_id_hg19', how='inner').copy().reset_index(drop=True)\n",
    "asd_df = asd_df.join(variant_df_gnomad[['gnomad_join_id', 'AF', 'AC', 'AN']].set_index(\"gnomad_join_id\"), on='join_id', how='left').copy().reset_index(drop=True)\n"
   ]
  },
  {
   "cell_type": "code",
   "execution_count": 14,
   "metadata": {},
   "outputs": [],
   "source": [
    "#Compute aggregate-level PAS statistics\n",
    "\n",
    "singleton_agg_df = variant_df_gnomad.query(\"AC == 1\").groupby(\"gene_id\").agg({\n",
    "    \"delta_logodds_77_127\" : [\"min\", \"max\", \"median\", \"count\"],\n",
    "    \"delta_logodds_0_205\" : [\"min\", \"max\", \"median\", \"count\"],\n",
    "    \"delta_usage_77_127\" : [\"min\", \"max\", \"median\", \"count\"],\n",
    "    \"delta_usage\" : [\"min\", \"max\", \"median\", \"count\"],\n",
    "}).copy().reset_index()\n",
    "\n",
    "singleton_agg_df.columns = ['_'.join(col).strip() + \"_singleton\" for col in singleton_agg_df.columns.values]\n",
    "\n",
    "af_0_0001_agg_df = variant_df_gnomad.query(\"(AC > 1) and AF >= 0.0001\").groupby(\"gene_id\").agg({\n",
    "    \"delta_logodds_77_127\" : [\"min\", \"max\", \"median\", \"count\"],\n",
    "    \"delta_logodds_0_205\" : [\"min\", \"max\", \"median\", \"count\"],\n",
    "    \"delta_usage_77_127\" : [\"min\", \"max\", \"median\", \"count\"],\n",
    "    \"delta_usage\" : [\"min\", \"max\", \"median\", \"count\"],\n",
    "}).copy().reset_index()\n",
    "\n",
    "af_0_0001_agg_df.columns = ['_'.join(col).strip() + \"_0_0001\" for col in af_0_0001_agg_df.columns.values]\n",
    "\n",
    "af_0_001_agg_df = variant_df_gnomad.query(\"(AC > 1) and AF >= 0.001\").groupby(\"gene_id\").agg({\n",
    "    \"delta_logodds_77_127\" : [\"min\", \"max\", \"median\", \"count\"],\n",
    "    \"delta_logodds_0_205\" : [\"min\", \"max\", \"median\", \"count\"],\n",
    "    \"delta_usage_77_127\" : [\"min\", \"max\", \"median\", \"count\"],\n",
    "    \"delta_usage\" : [\"min\", \"max\", \"median\", \"count\"],\n",
    "}).copy().reset_index()\n",
    "\n",
    "af_0_001_agg_df.columns = ['_'.join(col).strip() + \"_0_001\" for col in af_0_001_agg_df.columns.values]\n",
    "\n",
    "af_0_01_agg_df = variant_df_gnomad.query(\"(AC > 1) and AF >= 0.01\").groupby(\"gene_id\").agg({\n",
    "    \"delta_logodds_77_127\" : [\"min\", \"max\", \"median\", \"count\"],\n",
    "    \"delta_logodds_0_205\" : [\"min\", \"max\", \"median\", \"count\"],\n",
    "    \"delta_usage_77_127\" : [\"min\", \"max\", \"median\", \"count\"],\n",
    "    \"delta_usage\" : [\"min\", \"max\", \"median\", \"count\"],\n",
    "}).copy().reset_index()\n",
    "\n",
    "af_0_01_agg_df.columns = ['_'.join(col).strip() + \"_0_01\" for col in af_0_01_agg_df.columns.values]\n",
    "\n",
    "af_0_1_agg_df = variant_df_gnomad.query(\"(AC > 1) and AF >= 0.1\").groupby(\"gene_id\").agg({\n",
    "    \"delta_logodds_77_127\" : [\"min\", \"max\", \"median\", \"count\"],\n",
    "    \"delta_logodds_0_205\" : [\"min\", \"max\", \"median\", \"count\"],\n",
    "    \"delta_usage_77_127\" : [\"min\", \"max\", \"median\", \"count\"],\n",
    "    \"delta_usage\" : [\"min\", \"max\", \"median\", \"count\"],\n",
    "}).copy().reset_index()\n",
    "\n",
    "af_0_1_agg_df.columns = ['_'.join(col).strip() + \"_0_1\" for col in af_0_1_agg_df.columns.values]\n",
    "\n",
    "asd_df = asd_df.join(singleton_agg_df.set_index('gene_id__singleton'), on='gene_id', how='left').copy().reset_index(drop=True)\n",
    "asd_df = asd_df.join(af_0_0001_agg_df.set_index('gene_id__0_0001'), on='gene_id', how='left').copy().reset_index(drop=True)\n",
    "asd_df = asd_df.join(af_0_001_agg_df.set_index('gene_id__0_001'), on='gene_id', how='left').copy().reset_index(drop=True)\n",
    "asd_df = asd_df.join(af_0_01_agg_df.set_index('gene_id__0_01'), on='gene_id', how='left').copy().reset_index(drop=True)\n",
    "asd_df = asd_df.join(af_0_1_agg_df.set_index('gene_id__0_1'), on='gene_id', how='left').copy().reset_index(drop=True)\n"
   ]
  },
  {
   "cell_type": "code",
   "execution_count": 15,
   "metadata": {},
   "outputs": [],
   "source": [
    "#Load ASD controls\n",
    "\n",
    "control_df = pd.read_csv(\"asd_cohort_de_novos_ext_controls_distalmost_cached.csv\", sep='\\t')\n"
   ]
  },
  {
   "cell_type": "code",
   "execution_count": 16,
   "metadata": {},
   "outputs": [],
   "source": [
    "#Combine datasets\n",
    "\n",
    "asd_df['Pheno'] = 'case'\n",
    "control_df['Pheno'] = 'control'\n",
    "\n",
    "asd_df = pd.concat([asd_df, control_df]).copy().reset_index(drop=True)\n"
   ]
  },
  {
   "cell_type": "code",
   "execution_count": 17,
   "metadata": {},
   "outputs": [],
   "source": [
    "\n",
    "#asd_df_copy = asd_df.copy()\n"
   ]
  },
  {
   "cell_type": "code",
   "execution_count": 18,
   "metadata": {},
   "outputs": [],
   "source": [
    "\n",
    "asd_df = asd_df_copy.copy()\n"
   ]
  },
  {
   "cell_type": "code",
   "execution_count": 19,
   "metadata": {},
   "outputs": [],
   "source": [
    "\n",
    "asd_df = asd_df.loc[asd_df['Consequence'].isin([\n",
    "    '3_prime_UTR_variant',\n",
    "    'UTR3',\n",
    "    'intronic',\n",
    "    'exonic',\n",
    "    'downstream',\n",
    "    'intron_variant&non_coding_transcript_variant',\n",
    "    'non_coding_transcript_exon_variant',\n",
    "])].copy()\n"
   ]
  },
  {
   "cell_type": "code",
   "execution_count": 20,
   "metadata": {},
   "outputs": [],
   "source": [
    "\n",
    "asd_df = asd_df.sort_values(by=['sitenum'], ascending=False).drop_duplicates(subset=['join_id', 'gene', 'Pheno'], keep='first').copy().reset_index(drop=True)\n"
   ]
  },
  {
   "cell_type": "code",
   "execution_count": 21,
   "metadata": {},
   "outputs": [
    {
     "name": "stdout",
     "output_type": "stream",
     "text": [
      "Wilcoxon statistic = -1.4162\n",
      "P-value = 0.1567038515944166\n",
      "n1 / n2 = 296 / 53\n"
     ]
    },
    {
     "data": {
      "image/png": "[encoded data removed]",
      "text/plain": [
       "<Figure size 432x288 with 1 Axes>"
      ]
     },
     "metadata": {},
     "output_type": "display_data"
    },
    {
     "data": {
      "image/png": "[encoded data removed]",
      "text/plain": [
       "<Figure size 432x288 with 1 Axes>"
      ]
     },
     "metadata": {},
     "output_type": "display_data"
    },
    {
     "data": {
      "image/png": "[encoded data removed]",
      "text/plain": [
       "<Figure size 432x288 with 1 Axes>"
      ]
     },
     "metadata": {},
     "output_type": "display_data"
    }
   ],
   "source": [
    "from scipy.stats import ttest_ind, ranksums\n",
    "\n",
    "#Analysis 1: No filtering (LOR predictions)\n",
    "\n",
    "f = plt.figure(figsize=(6, 4))\n",
    "\n",
    "x_control = asd_df.query(\"Pheno == 'control'\")['delta_logodds_0_205']\n",
    "x_case = asd_df.query(\"Pheno == 'case'\")['delta_logodds_0_205']\n",
    "\n",
    "x_thresh = 6.\n",
    "x_min = -6.\n",
    "\n",
    "x1 = x_control\n",
    "x2 = x_case\n",
    "\n",
    "s, p = ranksums(x1, x2)\n",
    "\n",
    "print(\"Wilcoxon statistic = \" + str(round(s, 4)))\n",
    "print(\"P-value = \" + str(p))\n",
    "print(\"n1 / n2 = \" + str(x1.shape[0]) + \" / \" + str(x2.shape[0]))\n",
    "\n",
    "x1_hist, bin_edges = np.histogram(x1, range=(x_min, x_thresh), bins=50, density=True)\n",
    "x2_hist, _ = np.histogram(x2, range=(x_min, x_thresh), bins=50, density=True)\n",
    "\n",
    "bin_width = bin_edges[1] - bin_edges[0]\n",
    "\n",
    "plt.bar(bin_edges[:-1] + bin_width/2., x1_hist, width=bin_width, color='lightgreen', alpha=0.5, linewidth=2, edgecolor='black', label='Control')\n",
    "plt.bar(bin_edges[:-1] + bin_width/2., x2_hist, width=bin_width, color='lightcoral', alpha=0.5, linewidth=2, edgecolor='black', label='Case')\n",
    "\n",
    "plt.xlim(x_min, x_thresh)\n",
    "plt.ylim(0., 0.1)\n",
    "\n",
    "plt.xticks(fontsize=12)\n",
    "plt.yticks(fontsize=12)\n",
    "\n",
    "plt.xlabel(\"APARENT2 LOR\", fontsize=12)\n",
    "plt.ylabel(\"Density\", fontsize=12)\n",
    "\n",
    "plt.legend(fontsize=12)\n",
    "\n",
    "plt.tight_layout()\n",
    "\n",
    "plt.savefig(\"apa_asd_other_set_distalmost_LOR_vs_control_histo_no_filter.eps\")\n",
    "plt.savefig(\"apa_asd_other_set_distalmost_LOR_vs_control_histo_no_filter.png\", dpi=300, transparent=True)\n",
    "\n",
    "plt.show()\n",
    "\n",
    "import seaborn as sns\n",
    "\n",
    "f = plt.figure(figsize=(6, 4))\n",
    "\n",
    "sns.swarmplot(data=[\n",
    "    x1,\n",
    "    x2,\n",
    "], s=4, palette=['darkgreen', 'darkred'])\n",
    "\n",
    "sns.boxplot(data=[\n",
    "    x1,\n",
    "    x2,\n",
    "], color='black', linewidth=2, palette=['darkgreen', 'darkred'])\n",
    "\n",
    "plt.ylim(-1.5, 1.5)\n",
    "\n",
    "plt.xticks([0, 1], [\"Control\", \"Case\"], fontsize=12)\n",
    "plt.yticks(fontsize=12)\n",
    "\n",
    "plt.ylabel(\"APARENT2 LOR\", fontsize=12)\n",
    "\n",
    "plt.tight_layout()\n",
    "\n",
    "plt.savefig(\"apa_asd_other_set_distalmost_LOR_vs_control_boxplot_no_filter.eps\")\n",
    "plt.savefig(\"apa_asd_other_set_distalmost_LOR_vs_control_boxplot_no_filter.png\", dpi=300, transparent=True)\n",
    "\n",
    "plt.show()\n",
    "\n",
    "\n",
    "f = plt.figure(figsize=(6, 4))\n",
    "\n",
    "sns.swarmplot(data=[\n",
    "    x1,\n",
    "    x2,\n",
    "], s=4, palette=['darkgreen', 'darkred'])\n",
    "\n",
    "sns.boxplot(data=[\n",
    "    x1,\n",
    "    x2,\n",
    "], color='black', linewidth=2, palette=['darkgreen', 'darkred'])\n",
    "\n",
    "plt.ylim(-0.5, 0.5)\n",
    "\n",
    "plt.xticks([0, 1], [\"Control\", \"Case\"], fontsize=12)\n",
    "plt.yticks(fontsize=12)\n",
    "\n",
    "plt.ylabel(\"APARENT2 LOR\", fontsize=12)\n",
    "\n",
    "plt.tight_layout()\n",
    "\n",
    "plt.savefig(\"apa_asd_other_set_distalmost_LOR_vs_control_boxplot_no_filter_zoom.eps\")\n",
    "plt.savefig(\"apa_asd_other_set_distalmost_LOR_vs_control_boxplot_no_filter_zoom.png\", dpi=300, transparent=True)\n",
    "\n",
    "plt.show()\n"
   ]
  },
  {
   "cell_type": "code",
   "execution_count": 22,
   "metadata": {},
   "outputs": [
    {
     "name": "stdout",
     "output_type": "stream",
     "text": [
      "[[164. 132.]\n",
      " [ 23.  30.]]\n",
      "odds ratio = 1.6205533596837944\n",
      "p = 0.07160064485449388\n"
     ]
    }
   ],
   "source": [
    "from scipy.stats import fisher_exact\n",
    "\n",
    "#Exact test - Centered-on PAS upregulation\n",
    "\n",
    "gof_pas_table = np.zeros((2, 2))\n",
    "\n",
    "gof_pas_table[0, 0] = len(asd_df.query(\"Pheno == 'control' and delta_logodds_77_127 <= 0\"))\n",
    "gof_pas_table[0, 1] = len(asd_df.query(\"Pheno == 'control' and delta_logodds_77_127 > 0\"))\n",
    "\n",
    "gof_pas_table[1, 0] = len(asd_df.query(\"Pheno == 'case' and delta_logodds_77_127 <= 0\"))\n",
    "gof_pas_table[1, 1] = len(asd_df.query(\"Pheno == 'case' and delta_logodds_77_127 > 0\"))\n",
    "\n",
    "oddsr, p = fisher_exact(gof_pas_table, alternative='greater')\n",
    "\n",
    "print(str(gof_pas_table))\n",
    "\n",
    "print(\"odds ratio = \" + str(oddsr))\n",
    "print(\"p = \" + str(p))\n"
   ]
  },
  {
   "cell_type": "code",
   "execution_count": 23,
   "metadata": {},
   "outputs": [
    {
     "name": "stdout",
     "output_type": "stream",
     "text": [
      "[[153. 143.]\n",
      " [ 21.  32.]]\n",
      "odds ratio = 1.6303696303696305\n",
      "p = 0.07065928670217002\n"
     ]
    }
   ],
   "source": [
    "from scipy.stats import fisher_exact\n",
    "\n",
    "#Exact test - All-PAS upregulation\n",
    "\n",
    "gof_pas_table = np.zeros((2, 2))\n",
    "\n",
    "gof_pas_table[0, 0] = len(asd_df.query(\"Pheno == 'control' and delta_logodds_0_205 <= 0\"))\n",
    "gof_pas_table[0, 1] = len(asd_df.query(\"Pheno == 'control' and delta_logodds_0_205 > 0\"))\n",
    "\n",
    "gof_pas_table[1, 0] = len(asd_df.query(\"Pheno == 'case' and delta_logodds_0_205 <= 0\"))\n",
    "gof_pas_table[1, 1] = len(asd_df.query(\"Pheno == 'case' and delta_logodds_0_205 > 0\"))\n",
    "\n",
    "oddsr, p = fisher_exact(gof_pas_table, alternative='greater')\n",
    "\n",
    "print(str(gof_pas_table))\n",
    "\n",
    "print(\"odds ratio = \" + str(oddsr))\n",
    "print(\"p = \" + str(p))\n"
   ]
  },
  {
   "cell_type": "code",
   "execution_count": 27,
   "metadata": {},
   "outputs": [
    {
     "name": "stdout",
     "output_type": "stream",
     "text": [
      "Wilcoxon statistic = -1.9738\n",
      "P-value = 0.04840243070116049\n",
      "n1 / n2 = 259 / 47\n"
     ]
    },
    {
     "data": {
      "image/png": "[encoded data removed]",
      "text/plain": [
       "<Figure size 432x288 with 1 Axes>"
      ]
     },
     "metadata": {},
     "output_type": "display_data"
    },
    {
     "data": {
      "image/png": "[encoded data removed]",
      "text/plain": [
       "<Figure size 432x288 with 1 Axes>"
      ]
     },
     "metadata": {},
     "output_type": "display_data"
    },
    {
     "data": {
      "image/png": "[encoded data removed]",
      "text/plain": [
       "<Figure size 432x288 with 1 Axes>"
      ]
     },
     "metadata": {},
     "output_type": "display_data"
    }
   ],
   "source": [
    "from scipy.stats import ttest_ind, ranksums\n",
    "\n",
    "#Analysis 2: Filter variants with common disruptive variants within same PAS; more stringent (LOR predictions)\n",
    "\n",
    "f = plt.figure(figsize=(6, 4))\n",
    "\n",
    "af_cutoff_str = \"0_001\"\n",
    "delta_logodds_cutoff = np.abs(np.log(1.5))\n",
    "\n",
    "filter_query = \"((delta_logodds_0_205_max_\" + af_cutoff_str + \" != delta_logodds_0_205_max_\" + af_cutoff_str + \" or (delta_logodds_0_205 > delta_logodds_0_205_max_\" + af_cutoff_str + \" and delta_logodds_0_205_max_\" + af_cutoff_str + \" < \" + str(delta_logodds_cutoff) + \")) or (delta_logodds_0_205_min_\" + af_cutoff_str + \" != delta_logodds_0_205_min_\" + af_cutoff_str + \" or (delta_logodds_0_205 < delta_logodds_0_205_min_\" + af_cutoff_str + \" and delta_logodds_0_205_min_\" + af_cutoff_str + \" > -\" + str(delta_logodds_cutoff) + \")))\"\n",
    "\n",
    "x_control = asd_df.query(\"Pheno == 'control' and \" + filter_query)['delta_logodds_0_205']\n",
    "x_case = asd_df.query(\"Pheno == 'case' and \" + filter_query)['delta_logodds_0_205']\n",
    "\n",
    "x_thresh = 6.\n",
    "x_min = -6.\n",
    "\n",
    "x1 = x_control\n",
    "x2 = x_case\n",
    "\n",
    "s, p = ranksums(x1, x2)\n",
    "\n",
    "print(\"Wilcoxon statistic = \" + str(round(s, 4)))\n",
    "print(\"P-value = \" + str(p))\n",
    "print(\"n1 / n2 = \" + str(x1.shape[0]) + \" / \" + str(x2.shape[0]))\n",
    "\n",
    "x1_hist, bin_edges = np.histogram(x1, range=(x_min, x_thresh), bins=50, density=True)\n",
    "x2_hist, _ = np.histogram(x2, range=(x_min, x_thresh), bins=50, density=True)\n",
    "\n",
    "bin_width = bin_edges[1] - bin_edges[0]\n",
    "\n",
    "plt.bar(bin_edges[:-1] + bin_width/2., x1_hist, width=bin_width, color='lightgreen', alpha=0.5, linewidth=2, edgecolor='black', label='Control')\n",
    "plt.bar(bin_edges[:-1] + bin_width/2., x2_hist, width=bin_width, color='lightcoral', alpha=0.5, linewidth=2, edgecolor='black', label='Case')\n",
    "\n",
    "plt.xlim(x_min, x_thresh)\n",
    "plt.ylim(0., 0.1)\n",
    "\n",
    "plt.xticks(fontsize=12)\n",
    "plt.yticks(fontsize=12)\n",
    "\n",
    "plt.xlabel(\"APARENT2 LOR\", fontsize=12)\n",
    "plt.ylabel(\"Density\", fontsize=12)\n",
    "\n",
    "plt.legend(fontsize=12)\n",
    "\n",
    "plt.tight_layout()\n",
    "\n",
    "plt.savefig(\"apa_asd_other_set_distalmost_LOR_vs_control_histo_lor_cutoff.eps\")\n",
    "plt.savefig(\"apa_asd_other_set_distalmost_LOR_vs_control_histo_lor_cutoff.png\", dpi=300, transparent=True)\n",
    "\n",
    "plt.show()\n",
    "\n",
    "import seaborn as sns\n",
    "\n",
    "f = plt.figure(figsize=(6, 4))\n",
    "\n",
    "sns.swarmplot(data=[\n",
    "    x1,\n",
    "    x2,\n",
    "], s=4, palette=['darkgreen', 'darkred'])\n",
    "\n",
    "sns.boxplot(data=[\n",
    "    x1,\n",
    "    x2,\n",
    "], color='black', linewidth=2, palette=['darkgreen', 'darkred'])\n",
    "\n",
    "plt.ylim(-1.5, 1.5)\n",
    "\n",
    "plt.xticks([0, 1], [\"Control\", \"Case\"], fontsize=12)\n",
    "plt.yticks(fontsize=12)\n",
    "\n",
    "plt.ylabel(\"APARENT2 LOR\", fontsize=12)\n",
    "\n",
    "plt.tight_layout()\n",
    "\n",
    "plt.savefig(\"apa_asd_other_set_distalmost_LOR_vs_control_boxplot_cutoff.eps\")\n",
    "plt.savefig(\"apa_asd_other_set_distalmost_LOR_vs_control_boxplot_cutoff.png\", dpi=300, transparent=True)\n",
    "\n",
    "plt.show()\n",
    "\n",
    "\n",
    "f = plt.figure(figsize=(6, 4))\n",
    "\n",
    "sns.swarmplot(data=[\n",
    "    x1,\n",
    "    x2,\n",
    "], s=4, palette=['darkgreen', 'darkred'])\n",
    "\n",
    "sns.boxplot(data=[\n",
    "    x1,\n",
    "    x2,\n",
    "], color='black', linewidth=2, palette=['darkgreen', 'darkred'])\n",
    "\n",
    "plt.ylim(-0.5, 0.5)\n",
    "\n",
    "plt.xticks([0, 1], [\"Control\", \"Case\"], fontsize=12)\n",
    "plt.yticks(fontsize=12)\n",
    "\n",
    "plt.ylabel(\"APARENT2 LOR\", fontsize=12)\n",
    "\n",
    "plt.tight_layout()\n",
    "\n",
    "plt.savefig(\"apa_asd_other_set_distalmost_LOR_vs_control_boxplot_cutoff_zoom.eps\")\n",
    "plt.savefig(\"apa_asd_other_set_distalmost_LOR_vs_control_boxplot_cutoff_zoom.png\", dpi=300, transparent=True)\n",
    "\n",
    "plt.show()\n"
   ]
  },
  {
   "cell_type": "code",
   "execution_count": 28,
   "metadata": {},
   "outputs": [
    {
     "name": "stdout",
     "output_type": "stream",
     "text": [
      "[[150. 110.]\n",
      " [ 20.  27.]]\n",
      "odds ratio = 1.8409090909090908\n",
      "p = 0.03934091797514421\n"
     ]
    }
   ],
   "source": [
    "from scipy.stats import fisher_exact\n",
    "\n",
    "#Exact test - Centered-on PAS upregulation\n",
    "\n",
    "gof_pas_table = np.zeros((2, 2))\n",
    "\n",
    "af_cutoff_str = \"0_001\"\n",
    "delta_logodds_cutoff = np.abs(np.log(1.5))\n",
    "\n",
    "filter_query = \"((delta_logodds_77_127_max_\" + af_cutoff_str + \" != delta_logodds_77_127_max_\" + af_cutoff_str + \" or (delta_logodds_77_127 > delta_logodds_77_127_max_\" + af_cutoff_str + \" and delta_logodds_77_127_max_\" + af_cutoff_str + \" < \" + str(delta_logodds_cutoff) + \")) or (delta_logodds_77_127_min_\" + af_cutoff_str + \" != delta_logodds_77_127_min_\" + af_cutoff_str + \" or (delta_logodds_77_127 < delta_logodds_77_127_min_\" + af_cutoff_str + \" and delta_logodds_77_127_min_\" + af_cutoff_str + \" > -\" + str(delta_logodds_cutoff) + \")))\"\n",
    "\n",
    "gof_pas_table[0, 0] = len(asd_df.query(\"Pheno == 'control' and delta_logodds_77_127 <= 0 and \" + filter_query))\n",
    "gof_pas_table[0, 1] = len(asd_df.query(\"Pheno == 'control' and delta_logodds_77_127 > 0 and \" + filter_query))\n",
    "\n",
    "gof_pas_table[1, 0] = len(asd_df.query(\"Pheno == 'case' and delta_logodds_77_127 <= 0 and \" + filter_query))\n",
    "gof_pas_table[1, 1] = len(asd_df.query(\"Pheno == 'case' and delta_logodds_77_127 > 0 and \" + filter_query))\n",
    "\n",
    "oddsr, p = fisher_exact(gof_pas_table, alternative='greater')\n",
    "\n",
    "print(str(gof_pas_table))\n",
    "\n",
    "print(\"odds ratio = \" + str(oddsr))\n",
    "print(\"p = \" + str(p))\n"
   ]
  },
  {
   "cell_type": "code",
   "execution_count": 29,
   "metadata": {},
   "outputs": [
    {
     "name": "stdout",
     "output_type": "stream",
     "text": [
      "[[139. 120.]\n",
      " [ 18.  29.]]\n",
      "odds ratio = 1.8662037037037038\n",
      "p = 0.03723232766112096\n"
     ]
    }
   ],
   "source": [
    "from scipy.stats import fisher_exact\n",
    "\n",
    "#Exact test - All-PAS upregulation\n",
    "\n",
    "gof_pas_table = np.zeros((2, 2))\n",
    "\n",
    "af_cutoff_str = \"0_001\"\n",
    "delta_logodds_cutoff = np.abs(np.log(1.5))\n",
    "\n",
    "filter_query = \"((delta_logodds_0_205_max_\" + af_cutoff_str + \" != delta_logodds_0_205_max_\" + af_cutoff_str + \" or (delta_logodds_0_205 > delta_logodds_0_205_max_\" + af_cutoff_str + \" and delta_logodds_0_205_max_\" + af_cutoff_str + \" < \" + str(delta_logodds_cutoff) + \")) or (delta_logodds_0_205_min_\" + af_cutoff_str + \" != delta_logodds_0_205_min_\" + af_cutoff_str + \" or (delta_logodds_0_205 < delta_logodds_0_205_min_\" + af_cutoff_str + \" and delta_logodds_0_205_min_\" + af_cutoff_str + \" > -\" + str(delta_logodds_cutoff) + \")))\"\n",
    "\n",
    "gof_pas_table[0, 0] = len(asd_df.query(\"Pheno == 'control' and delta_logodds_0_205 <= 0 and \" + filter_query))\n",
    "gof_pas_table[0, 1] = len(asd_df.query(\"Pheno == 'control' and delta_logodds_0_205 > 0 and \" + filter_query))\n",
    "\n",
    "gof_pas_table[1, 0] = len(asd_df.query(\"Pheno == 'case' and delta_logodds_0_205 <= 0 and \" + filter_query))\n",
    "gof_pas_table[1, 1] = len(asd_df.query(\"Pheno == 'case' and delta_logodds_0_205 > 0 and \" + filter_query))\n",
    "\n",
    "oddsr, p = fisher_exact(gof_pas_table, alternative='greater')\n",
    "\n",
    "print(str(gof_pas_table))\n",
    "\n",
    "print(\"odds ratio = \" + str(oddsr))\n",
    "print(\"p = \" + str(p))\n"
   ]
  },
  {
   "cell_type": "code",
   "execution_count": 30,
   "metadata": {},
   "outputs": [],
   "source": [
    "#Create null dataframe of all gnomAD variants\n",
    "\n",
    "null_df = variant_df_gnomad.copy()\n",
    "\n",
    "null_df = null_df.join(singleton_agg_df.set_index('gene_id__singleton'), on='gene_id', how='left').copy().reset_index(drop=True)\n",
    "null_df = null_df.join(af_0_0001_agg_df.set_index('gene_id__0_0001'), on='gene_id', how='left').copy().reset_index(drop=True)\n",
    "null_df = null_df.join(af_0_001_agg_df.set_index('gene_id__0_001'), on='gene_id', how='left').copy().reset_index(drop=True)\n",
    "null_df = null_df.join(af_0_01_agg_df.set_index('gene_id__0_01'), on='gene_id', how='left').copy().reset_index(drop=True)\n",
    "null_df = null_df.join(af_0_1_agg_df.set_index('gene_id__0_1'), on='gene_id', how='left').copy().reset_index(drop=True)\n",
    "\n",
    "null_df = null_df.sort_values(by=['sitenum'], ascending=False).drop_duplicates(subset=['gnomad_join_id', 'gene'], keep='first').copy().reset_index(drop=True)\n"
   ]
  },
  {
   "cell_type": "code",
   "execution_count": 33,
   "metadata": {},
   "outputs": [],
   "source": [
    "#Compare null distribution to controls and cases (more stringent)\n",
    "\n",
    "af_cutoff_str = \"0_001\"\n",
    "delta_logodds_cutoff = np.abs(np.log(1.5))\n",
    "\n",
    "filter_query = \"((delta_logodds_0_205_max_\" + af_cutoff_str + \" != delta_logodds_0_205_max_\" + af_cutoff_str + \" or (delta_logodds_0_205 > delta_logodds_0_205_max_\" + af_cutoff_str + \" and delta_logodds_0_205_max_\" + af_cutoff_str + \" < \" + str(delta_logodds_cutoff) + \")) or (delta_logodds_0_205_min_\" + af_cutoff_str + \" != delta_logodds_0_205_min_\" + af_cutoff_str + \" or (delta_logodds_0_205 < delta_logodds_0_205_min_\" + af_cutoff_str + \" and delta_logodds_0_205_min_\" + af_cutoff_str + \" > -\" + str(delta_logodds_cutoff) + \")))\"\n",
    "\n",
    "null_df_filtered = null_df.query(filter_query).copy()\n",
    "x_null_all = np.array(null_df_filtered['delta_logodds_0_205'].values)\n"
   ]
  },
  {
   "cell_type": "code",
   "execution_count": 34,
   "metadata": {},
   "outputs": [
    {
     "name": "stderr",
     "output_type": "stream",
     "text": [
      "/home/ubuntu/anaconda3/envs/tensorflow_p36/lib/python3.6/site-packages/ipykernel/__main__.py:8: UserWarning: p-value capped: true value larger than 0.25\n"
     ]
    },
    {
     "name": "stdout",
     "output_type": "stream",
     "text": [
      "--- Null vs. Control ---\n",
      "\n",
      "Wilcoxon statistic = 0.9272\n",
      "P-value = 0.3538358207370498\n",
      "n1 / n2 = 1683560 / 259\n",
      "\n",
      "KS statistic = 0.0647\n",
      "P-value = 0.21845691961808755\n",
      "n1 / n2 = 1683560 / 259\n",
      "\n",
      "ES statistic = 2.2456\n",
      "P-value = 0.6906878021159774\n",
      "n1 / n2 = 1683560 / 259\n",
      "\n",
      "Anderson-Kemp statistic = -0.1172\n",
      "P-value = 0.25\n",
      "n1 / n2 = 1683560 / 259\n",
      "\n",
      "--- Null vs. Case ---\n",
      "\n",
      "Wilcoxon statistic = -1.6625\n",
      "P-value = 0.0964150739563354\n",
      "n1 / n2 = 1683560 / 47\n",
      "\n",
      "KS statistic = 0.167\n",
      "P-value = 0.12960617757829718\n",
      "n1 / n2 = 1683560 / 47\n",
      "\n",
      "ES statistic = 3.9386\n",
      "P-value = 0.4143774440367597\n",
      "n1 / n2 = 1683560 / 47\n",
      "\n",
      "Anderson-Kemp statistic = 0.9537\n",
      "P-value = 0.1322953805589461\n",
      "n1 / n2 = 1683560 / 47\n"
     ]
    }
   ],
   "source": [
    "#Compute statistics\n",
    "\n",
    "from scipy.stats import ranksums, ks_2samp, epps_singleton_2samp, anderson_ksamp\n",
    "\n",
    "wilcoxon_stat_control, wilcoxon_p_control = ranksums(x_null_all, x_control)\n",
    "ks_stat_control, ks_p_control = ks_2samp(x_null_all, x_control)\n",
    "es_stat_control, es_p_control = epps_singleton_2samp(x_null_all, x_control)\n",
    "anderson_stat_control, _, anderson_p_control = anderson_ksamp([x_null_all, x_control])\n",
    "\n",
    "print(\"--- Null vs. Control ---\")\n",
    "print(\"\")\n",
    "print(\"Wilcoxon statistic = \" + str(round(wilcoxon_stat_control, 4)))\n",
    "print(\"P-value = \" + str(wilcoxon_p_control))\n",
    "print(\"n1 / n2 = \" + str(x_null_all.shape[0]) + \" / \" + str(x_control.shape[0]))\n",
    "print(\"\")\n",
    "print(\"KS statistic = \" + str(round(ks_stat_control, 4)))\n",
    "print(\"P-value = \" + str(ks_p_control))\n",
    "print(\"n1 / n2 = \" + str(x_null_all.shape[0]) + \" / \" + str(x_control.shape[0]))\n",
    "print(\"\")\n",
    "print(\"ES statistic = \" + str(round(es_stat_control, 4)))\n",
    "print(\"P-value = \" + str(es_p_control))\n",
    "print(\"n1 / n2 = \" + str(x_null_all.shape[0]) + \" / \" + str(x_control.shape[0]))\n",
    "print(\"\")\n",
    "print(\"Anderson-Kemp statistic = \" + str(round(anderson_stat_control, 4)))\n",
    "print(\"P-value = \" + str(anderson_p_control))\n",
    "print(\"n1 / n2 = \" + str(x_null_all.shape[0]) + \" / \" + str(x_control.shape[0]))\n",
    "\n",
    "wilcoxon_stat_case, wilcoxon_p_case = ranksums(x_null_all, x_case)\n",
    "ks_stat_case, ks_p_case = ks_2samp(x_null_all, x_case)\n",
    "es_stat_case, es_p_case = epps_singleton_2samp(x_null_all, x_case)\n",
    "anderson_stat_case, _, anderson_p_case = anderson_ksamp([x_null_all, x_case])\n",
    "\n",
    "print(\"\")\n",
    "print(\"--- Null vs. Case ---\")\n",
    "print(\"\")\n",
    "print(\"Wilcoxon statistic = \" + str(round(wilcoxon_stat_case, 4)))\n",
    "print(\"P-value = \" + str(wilcoxon_p_case))\n",
    "print(\"n1 / n2 = \" + str(x_null_all.shape[0]) + \" / \" + str(x_case.shape[0]))\n",
    "print(\"\")\n",
    "print(\"KS statistic = \" + str(round(ks_stat_case, 4)))\n",
    "print(\"P-value = \" + str(ks_p_case))\n",
    "print(\"n1 / n2 = \" + str(x_null_all.shape[0]) + \" / \" + str(x_case.shape[0]))\n",
    "print(\"\")\n",
    "print(\"ES statistic = \" + str(round(es_stat_case, 4)))\n",
    "print(\"P-value = \" + str(es_p_case))\n",
    "print(\"n1 / n2 = \" + str(x_null_all.shape[0]) + \" / \" + str(x_case.shape[0]))\n",
    "print(\"\")\n",
    "print(\"Anderson-Kemp statistic = \" + str(round(anderson_stat_case, 4)))\n",
    "print(\"P-value = \" + str(anderson_p_case))\n",
    "print(\"n1 / n2 = \" + str(x_null_all.shape[0]) + \" / \" + str(x_case.shape[0]))\n"
   ]
  },
  {
   "cell_type": "code",
   "execution_count": null,
   "metadata": {},
   "outputs": [],
   "source": []
  }
 ],
 "metadata": {
  "kernelspec": {
   "display_name": "Environment (conda_tensorflow_p36)",
   "language": "python",
   "name": "conda_tensorflow_p36"
  },
  "language_info": {
   "codemirror_mode": {
    "name": "ipython",
    "version": 3
   },
   "file_extension": ".py",
   "mimetype": "text/x-python",
   "name": "python",
   "nbconvert_exporter": "python",
   "pygments_lexer": "ipython3",
   "version": "3.6.5"
  }
 },
 "nbformat": 4,
 "nbformat_minor": 2
}
