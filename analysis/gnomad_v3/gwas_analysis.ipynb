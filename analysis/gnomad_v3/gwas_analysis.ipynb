{
 "cells": [
  {
   "cell_type": "code",
   "execution_count": 1,
   "metadata": {},
   "outputs": [
    {
     "name": "stderr",
     "output_type": "stream",
     "text": [
      "Using TensorFlow backend.\n"
     ]
    }
   ],
   "source": [
    "from __future__ import print_function\n",
    "import keras\n",
    "from keras.models import Sequential, Model, load_model\n",
    "from keras import backend as K\n",
    "\n",
    "import tensorflow as tf\n",
    "\n",
    "import os\n",
    "import pandas as pd\n",
    "\n",
    "import numpy as np\n",
    "\n",
    "import matplotlib.pyplot as plt\n",
    "import matplotlib.cm as cm\n",
    "\n",
    "#import aparent.visualization as vis\n",
    "\n",
    "#from aparent_predictor import *\n"
   ]
  },
  {
   "cell_type": "code",
   "execution_count": 2,
   "metadata": {},
   "outputs": [],
   "source": [
    "#Store variant prediction dataframe\n",
    "\n",
    "variant_df = pd.read_csv('aparent_resnet_variant_predictions_polyadb_no_sequences_no_cutoff.csv', sep='\\t')\n"
   ]
  },
  {
   "cell_type": "code",
   "execution_count": 3,
   "metadata": {},
   "outputs": [
    {
     "name": "stdout",
     "output_type": "stream",
     "text": [
      "len(polyadb_df) = 175451\n"
     ]
    }
   ],
   "source": [
    "#Load APADB Data and filter on targeted genes\n",
    "\n",
    "#genes = ['RUNX1', 'CEBPA', 'GATA2', 'ANKRD26', 'DDX41', 'ETV6', 'PTEN', 'BRCA1', 'BRCA2', 'TP53', 'APC', 'ATM', 'PALB2', 'MSH2', 'MLH1', 'MSH6', 'PMS2', 'MUTYH']\n",
    "\n",
    "polyadb_df = pd.read_csv('polyadb_processed.csv', sep=',')\n",
    "\n",
    "#polyadb_df = polyadb_df.loc[polyadb_df['gene'].isin(genes)].reset_index(drop=True).copy()\n",
    "polyadb_df = polyadb_df.loc[((~polyadb_df['gene'].isnull()) & (polyadb_df['gene'] != 'na')) & (polyadb_df['pas'] != -1)].reset_index(drop=True).copy()\n",
    "\n",
    "print('len(polyadb_df) = ' + str(len(polyadb_df)))\n"
   ]
  },
  {
   "cell_type": "code",
   "execution_count": 4,
   "metadata": {},
   "outputs": [],
   "source": [
    "#Process PolyaDB data\n",
    "\n",
    "polyadb_df_minus = polyadb_df.query(\"strand == '-'\").copy().reset_index(drop=True)\n",
    "polyadb_df_plus = polyadb_df.query(\"strand == '+'\").copy().reset_index(drop=True)\n",
    "\n",
    "polyadb_df_minus = polyadb_df_minus.sort_values(by='pas_pos', ascending=False).copy().reset_index(drop=True)\n",
    "polyadb_df_plus = polyadb_df_plus.sort_values(by='pas_pos', ascending=True).copy().reset_index(drop=True)\n",
    "\n",
    "new_gene_id_list_plus = []\n",
    "sitenum_list_plus = []\n",
    "gene_id_dict = {}\n",
    "for _, row in polyadb_df_plus.iterrows() :\n",
    "\n",
    "    gene = row['gene']\n",
    "\n",
    "    if gene not in gene_id_dict :\n",
    "        gene_id_dict[gene] = 0\n",
    "\n",
    "    gene_id_dict[gene] += 1\n",
    "\n",
    "    new_gene_id_list_plus.append(gene + \".\" + str(gene_id_dict[gene]))\n",
    "    sitenum_list_plus.append(gene_id_dict[gene])\n",
    "\n",
    "polyadb_df_plus['gene_id'] = new_gene_id_list_plus\n",
    "polyadb_df_plus['sitenum'] = sitenum_list_plus\n",
    "\n",
    "new_gene_id_list_minus = []\n",
    "sitenum_list_minus = []\n",
    "gene_id_dict = {}\n",
    "for _, row in polyadb_df_minus.iterrows() :\n",
    "\n",
    "    gene = row['gene']\n",
    "\n",
    "    if gene not in gene_id_dict :\n",
    "        gene_id_dict[gene] = 0\n",
    "\n",
    "    gene_id_dict[gene] += 1\n",
    "\n",
    "    new_gene_id_list_minus.append(gene + \".\" + str(gene_id_dict[gene]))\n",
    "    sitenum_list_minus.append(gene_id_dict[gene])\n",
    "\n",
    "polyadb_df_minus['gene_id'] = new_gene_id_list_minus\n",
    "polyadb_df_minus['sitenum'] = sitenum_list_minus\n",
    "\n",
    "polyadb_df = pd.concat([polyadb_df_plus, polyadb_df_minus])\n",
    "\n",
    "polyadb_df = polyadb_df.sort_values(by=['gene', 'sitenum'], ascending=True).reset_index(drop=True).copy()"
   ]
  },
  {
   "cell_type": "code",
   "execution_count": 5,
   "metadata": {},
   "outputs": [],
   "source": [
    "#Get variant positions in hg38 coordinates\n",
    "\n",
    "polyadb_bed_hg19 = pd.read_csv(\"polyadb_coordinates_hg19.bed\", sep='\\t', header=None, names=['chrom', 'pas_pos_hg19', 'end', 'gene', 'gene_id', 'strand'])\n",
    "polyadb_bed_hg38 = pd.read_csv(\"polyadb_coordinates_hg38.bed\", sep='\\t', header=None, names=['chrom', 'pas_pos_hg38', 'end', 'gene', 'gene_id', 'strand'])\n",
    "\n",
    "polyadb_bed_hg38 = polyadb_bed_hg38.join(polyadb_bed_hg19[['gene_id', 'pas_pos_hg19']].set_index('gene_id'), on='gene_id', how='inner').copy().reset_index(drop=True)\n",
    "\n",
    "polyadb_bed_hg38['padb_join_id'] = polyadb_bed_hg38['chrom'] + \"_\" + polyadb_bed_hg38['pas_pos_hg19'].astype(str) + \"_\" + polyadb_bed_hg38['gene']\n",
    "polyadb_df['padb_join_id'] = polyadb_df['chrom'] + \"_\" + polyadb_df['pas_pos'].astype(str) + \"_\" + polyadb_df['gene']\n",
    "\n",
    "polyadb_df = polyadb_df.join(polyadb_bed_hg38[['padb_join_id', 'pas_pos_hg38']].set_index(\"padb_join_id\"), on='padb_join_id', how='inner').copy().reset_index(drop=True)\n",
    "\n",
    "#polyadb_df = polyadb_df.query(\"site_type == '3_most_exon'\")\n",
    "\n",
    "polyadb_df = polyadb_df.drop_duplicates(subset=['gene_id'], keep='first').copy().reset_index(drop=True)\n",
    "\n",
    "variant_df = variant_df.join(polyadb_df[['gene_id', 'pas_pos', 'pas_pos_hg38']].set_index(\"gene_id\"), on='gene_id', how='inner').copy().reset_index(drop=True)\n",
    "\n",
    "variant_df['var_position_hg38'] = variant_df['var_position'] - variant_df['pas_pos'] + variant_df['pas_pos_hg38']\n"
   ]
  },
  {
   "cell_type": "code",
   "execution_count": 6,
   "metadata": {},
   "outputs": [
    {
     "name": "stderr",
     "output_type": "stream",
     "text": [
      "/home/ubuntu/anaconda3/envs/tensorflow_p36/lib/python3.6/site-packages/IPython/core/interactiveshell.py:2785: DtypeWarning: Columns (9,12,23,27,29) have mixed types.Specify dtype option on import or set low_memory=False.\n",
      "  interactivity=interactivity, compiler=compiler, result=result)\n"
     ]
    },
    {
     "name": "stdout",
     "output_type": "stream",
     "text": [
      "292975\n"
     ]
    }
   ],
   "source": [
    "#Get GWAS catalog data\n",
    "\n",
    "gwas_df = pd.read_csv(\"gwas_catalog_v1_0_2.tsv\", sep='\\t')\n",
    "\n",
    "gwas_df = gwas_df[['CHR_ID', 'CHR_POS', 'STRONGEST SNP-RISK ALLELE', 'P-VALUE', 'PVALUE_MLOG', 'MAPPED_TRAIT']]\n",
    "gwas_df = gwas_df.loc[gwas_df['STRONGEST SNP-RISK ALLELE'].str.contains(\"-\")].copy().reset_index(drop=True)\n",
    "\n",
    "gwas_df['SNP_ID'] = gwas_df['STRONGEST SNP-RISK ALLELE'].apply(lambda x: x.split(\"-\")[0])\n",
    "gwas_df['RISK_ALLELE'] = gwas_df['STRONGEST SNP-RISK ALLELE'].apply(lambda x: x.split(\"-\")[1])\n",
    "\n",
    "print(len(gwas_df))\n"
   ]
  },
  {
   "cell_type": "code",
   "execution_count": 7,
   "metadata": {},
   "outputs": [],
   "source": [
    "#Map variants to gnomAD\n",
    "\n",
    "gwas_df['gwas_join_id'] = \"chr\" + gwas_df['CHR_ID'] + \"_\" + gwas_df['CHR_POS'].astype(str)\n",
    "variant_df['gwas_join_id'] = variant_df['chrom'] + \"_\" + variant_df['var_position_hg38'].astype(str)\n",
    "\n",
    "gwas_df = gwas_df.drop_duplicates(subset=['gwas_join_id'], keep='first').copy().reset_index(drop=True)\n",
    "\n",
    "variant_df_gwas = variant_df.join(gwas_df[[\"gwas_join_id\", 'P-VALUE', 'PVALUE_MLOG', 'MAPPED_TRAIT', 'SNP_ID', 'RISK_ALLELE']].set_index(\"gwas_join_id\"), on='gwas_join_id', how='inner').copy().reset_index(drop=True)\n",
    "variant_df_gwas = variant_df_gwas.query(\"(RISK_ALLELE == var_nucleotide) or (RISK_ALLELE == '?')\").copy().reset_index(drop=True)\n",
    "\n",
    "#variant_df_gwas.to_csv(\"aparent_resnet_variant_predictions_polyadb_no_sequences_gwas_no_cutoff.csv\", sep='\\t', index=False)\n"
   ]
  },
  {
   "cell_type": "code",
   "execution_count": 2,
   "metadata": {},
   "outputs": [],
   "source": [
    "\n",
    "variant_df_gwas = pd.read_csv(\"aparent_resnet_variant_predictions_polyadb_no_sequences_gwas_no_cutoff.csv\", sep='\\t')\n"
   ]
  },
  {
   "cell_type": "code",
   "execution_count": 3,
   "metadata": {},
   "outputs": [
    {
     "name": "stdout",
     "output_type": "stream",
     "text": [
      "n = 1957\n",
      "n (> 2-fold) = 75\n"
     ]
    },
    {
     "data": {
      "image/png": "[encoded data removed]",
      "text/plain": [
       "<Figure size 288x288 with 1 Axes>"
      ]
     },
     "metadata": {},
     "output_type": "display_data"
    }
   ],
   "source": [
    "f = plt.figure(figsize=(4, 4))\n",
    "\n",
    "variant_df_gwas['delta_logodds_77_127_abs'] = np.abs(variant_df_gwas['delta_logodds_77_127'])\n",
    "\n",
    "print(\"n = \" + str(len(variant_df_gwas)))\n",
    "print(\"n (> 2-fold) = \" + str(len(variant_df_gwas.query(\"delta_logodds_77_127_abs > 0.693\"))))\n",
    "\n",
    "plt.scatter(variant_df_gwas['delta_logodds_77_127_abs'] / np.log(2.), -np.log(np.clip(variant_df_gwas['P-VALUE'], 1e-200, 1.)) / np.log(10), color='darkgreen', s=15, alpha=0.95)\n",
    "\n",
    "plt.axvline(x=1., linestyle='--', linewidth=2, color='black')\n",
    "\n",
    "plt.xlim(-0.1, 4.0)\n",
    "plt.ylim(3, 80)\n",
    "\n",
    "plt.xticks([0, 1, 2, 3, 4], ['Ref', '2-fold', '4-fold', '8-fold', '16-fold'], fontsize=12, rotation=45)\n",
    "plt.yticks([10, 20, 40, 60, 80], [\"1e-10\", \"1e-20\", \"1e-40\", \"1e-60\", \"1e-80\", \"1e-100\"], fontsize=12, rotation=45)\n",
    "\n",
    "plt.savefig(\"gwas_aparent_resnet_scatter.png\", transparent=True, dpi=300)\n",
    "plt.savefig(\"gwas_aparent_resnet_scatter.eps\")\n",
    "\n",
    "plt.tight_layout()\n",
    "\n",
    "plt.show()"
   ]
  },
  {
   "cell_type": "code",
   "execution_count": 4,
   "metadata": {},
   "outputs": [],
   "source": [
    "\n",
    "variant_df_gwas = pd.read_csv(\"aparent_resnet_variant_predictions_polyadb_no_sequences_gwas_no_cutoff.csv\", sep='\\t')\n",
    "variant_df_gwas = variant_df_gwas.query(\"site_type == '3_most_exon'\").copy().reset_index(drop=True)\n"
   ]
  },
  {
   "cell_type": "code",
   "execution_count": 5,
   "metadata": {},
   "outputs": [
    {
     "name": "stdout",
     "output_type": "stream",
     "text": [
      "n = 1233\n",
      "n (> 2-fold) = 49\n"
     ]
    },
    {
     "data": {
      "image/png": "[encoded data removed]",
      "text/plain": [
       "<Figure size 288x288 with 1 Axes>"
      ]
     },
     "metadata": {},
     "output_type": "display_data"
    }
   ],
   "source": [
    "f = plt.figure(figsize=(4, 4))\n",
    "\n",
    "variant_df_gwas['delta_logodds_77_127_abs'] = np.abs(variant_df_gwas['delta_logodds_77_127'])\n",
    "\n",
    "print(\"n = \" + str(len(variant_df_gwas)))\n",
    "print(\"n (> 2-fold) = \" + str(len(variant_df_gwas.query(\"delta_logodds_77_127_abs > 0.693\"))))\n",
    "\n",
    "plt.scatter(variant_df_gwas['delta_logodds_77_127_abs'] / np.log(2.), -np.log(np.clip(variant_df_gwas['P-VALUE'], 1e-200, 1.)) / np.log(10), color='darkgreen', s=15, alpha=0.95)\n",
    "\n",
    "plt.axvline(x=1., linestyle='--', linewidth=2, color='black')\n",
    "\n",
    "plt.xlim(-0.1, 4.0)\n",
    "plt.ylim(3, 80)\n",
    "\n",
    "plt.xticks([0, 1, 2, 3, 4], ['Ref', '2-fold', '4-fold', '8-fold', '16-fold'], fontsize=12, rotation=45)\n",
    "plt.yticks([10, 20, 40, 60, 80], [\"1e-10\", \"1e-20\", \"1e-40\", \"1e-60\", \"1e-80\", \"1e-100\"], fontsize=12, rotation=45)\n",
    "\n",
    "plt.savefig(\"gwas_aparent_resnet_scatter_utr3_only.png\", transparent=True, dpi=300)\n",
    "plt.savefig(\"gwas_aparent_resnet_scatter_utr3_only.eps\")\n",
    "\n",
    "plt.tight_layout()\n",
    "\n",
    "plt.show()"
   ]
  },
  {
   "cell_type": "code",
   "execution_count": 19,
   "metadata": {},
   "outputs": [
    {
     "name": "stdout",
     "output_type": "stream",
     "text": [
      "n = 1233\n",
      "n (> 2-fold) = 49\n"
     ]
    },
    {
     "data": {
      "image/png": "[encoded data removed]",
      "text/plain": [
       "<Figure size 288x288 with 1 Axes>"
      ]
     },
     "metadata": {},
     "output_type": "display_data"
    },
    {
     "name": "stdout",
     "output_type": "stream",
     "text": [
      "      delta_logodds_77_127  delta_logodds_77_127_abs_log_2       P-VALUE  \\\n",
      "539               -2.29748                        9.949079  3.000000e-07   \n",
      "540               -1.50624                        4.509742  3.000000e-07   \n",
      "171                1.10977                        3.033661  1.000000e-09   \n",
      "567                0.72605                        2.066900  8.000000e-18   \n",
      "793                0.89808                        2.454885  8.000000e-18   \n",
      "1223               0.90931                        2.482609  8.000000e-29   \n",
      "\n",
      "      neg_log_p_val_10                              MAPPED_TRAIT       SNP_ID  \n",
      "539           6.522879  attention deficit hyperactivity disorder       rs6796  \n",
      "540           6.522879  attention deficit hyperactivity disorder       rs6796  \n",
      "171           9.000000             total cholesterol measurement  rs555328608  \n",
      "567          17.096910                       calcium measurement   rs16833132  \n",
      "793          17.096910             central nervous system cancer       rs8753  \n",
      "1223         28.096910                    hemoglobin measurement    rs2732480  \n"
     ]
    }
   ],
   "source": [
    "f = plt.figure(figsize=(4, 4))\n",
    "\n",
    "snp_ids = ['rs16833132', 'rs8753', 'rs555328608', 'rs2732480', 'rs555328608', 'rs6796']\n",
    "\n",
    "variant_df_gwas['delta_logodds_77_127_abs'] = np.abs(variant_df_gwas['delta_logodds_77_127'])\n",
    "\n",
    "print(\"n = \" + str(len(variant_df_gwas)))\n",
    "print(\"n (> 2-fold) = \" + str(len(variant_df_gwas.query(\"delta_logodds_77_127_abs > 0.693\"))))\n",
    "\n",
    "plt.scatter(variant_df_gwas['delta_logodds_77_127_abs'] / np.log(2.), -np.log(np.clip(variant_df_gwas['P-VALUE'], 1e-200, 1.)) / np.log(10), color='darkgreen', s=15, alpha=0.95)\n",
    "plt.scatter(variant_df_gwas.loc[variant_df_gwas['SNP_ID'].isin(snp_ids)]['delta_logodds_77_127_abs'] / np.log(2.), -np.log(np.clip(variant_df_gwas.loc[variant_df_gwas['SNP_ID'].isin(snp_ids)]['P-VALUE'], 1e-200, 1.)) / np.log(10), color='darkorange', s=15, alpha=0.95)\n",
    "\n",
    "plt.axvline(x=1., linestyle='--', linewidth=2, color='black')\n",
    "\n",
    "plt.xlim(-0.1, 4.0)\n",
    "plt.ylim(3, 80)\n",
    "\n",
    "plt.xticks([0, 1, 2, 3, 4], ['Ref', '2-fold', '4-fold', '8-fold', '16-fold'], fontsize=12, rotation=45)\n",
    "plt.yticks([10, 20, 40, 60, 80], [\"1e-10\", \"1e-20\", \"1e-40\", \"1e-60\", \"1e-80\", \"1e-100\"], fontsize=12, rotation=45)\n",
    "\n",
    "plt.savefig(\"gwas_aparent_resnet_scatter_utr3_only_highlighted.png\", transparent=True, dpi=300)\n",
    "plt.savefig(\"gwas_aparent_resnet_scatter_utr3_only_highlighted.eps\")\n",
    "\n",
    "plt.tight_layout()\n",
    "\n",
    "plt.show()\n",
    "\n",
    "#Print highlighted variant details\n",
    "\n",
    "variant_df_gwas['delta_logodds_77_127_abs_log_2'] = 2**(variant_df_gwas['delta_logodds_77_127_abs'] / np.log(2.))\n",
    "variant_df_gwas['neg_log_p_val_10'] = -np.log(np.clip(variant_df_gwas['P-VALUE'], 1e-200, 1.)) / np.log(10)\n",
    "\n",
    "print(variant_df_gwas.loc[variant_df_gwas['SNP_ID'].isin(snp_ids)].query(\"delta_logodds_77_127_abs_log_2 >= 2.\").sort_values(by='neg_log_p_val_10')[['delta_logodds_77_127', 'delta_logodds_77_127_abs_log_2', 'P-VALUE', 'neg_log_p_val_10', 'MAPPED_TRAIT', 'SNP_ID']])\n"
   ]
  },
  {
   "cell_type": "code",
   "execution_count": null,
   "metadata": {},
   "outputs": [],
   "source": []
  }
 ],
 "metadata": {
  "kernelspec": {
   "display_name": "Environment (conda_tensorflow_p36)",
   "language": "python",
   "name": "conda_tensorflow_p36"
  },
  "language_info": {
   "codemirror_mode": {
    "name": "ipython",
    "version": 3
   },
   "file_extension": ".py",
   "mimetype": "text/x-python",
   "name": "python",
   "nbconvert_exporter": "python",
   "pygments_lexer": "ipython3",
   "version": "3.6.5"
  }
 },
 "nbformat": 4,
 "nbformat_minor": 2
}
