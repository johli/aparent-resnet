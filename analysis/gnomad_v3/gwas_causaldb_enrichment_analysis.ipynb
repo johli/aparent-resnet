{
 "cells": [
  {
   "cell_type": "code",
   "execution_count": 1,
   "metadata": {},
   "outputs": [],
   "source": [
    "from __future__ import print_function\n",
    "\n",
    "import os\n",
    "import pandas as pd\n",
    "\n",
    "import numpy as np\n",
    "\n",
    "import matplotlib.pyplot as plt\n",
    "import matplotlib.cm as cm\n",
    "\n",
    "#import aparent.visualization as vis\n",
    "\n",
    "#from aparent_predictor import *\n"
   ]
  },
  {
   "cell_type": "code",
   "execution_count": 2,
   "metadata": {},
   "outputs": [
    {
     "name": "stdout",
     "output_type": "stream",
     "text": [
      "len(polyadb_df) = 175451\n"
     ]
    }
   ],
   "source": [
    "#Load APADB Data and filter on targeted genes\n",
    "\n",
    "#genes = ['RUNX1', 'CEBPA', 'GATA2', 'ANKRD26', 'DDX41', 'ETV6', 'PTEN', 'BRCA1', 'BRCA2', 'TP53', 'APC', 'ATM', 'PALB2', 'MSH2', 'MLH1', 'MSH6', 'PMS2', 'MUTYH']\n",
    "\n",
    "polyadb_df = pd.read_csv('polyadb_processed.csv', sep=',')\n",
    "\n",
    "#polyadb_df = polyadb_df.loc[polyadb_df['gene'].isin(genes)].reset_index(drop=True).copy()\n",
    "polyadb_df = polyadb_df.loc[((~polyadb_df['gene'].isnull()) & (polyadb_df['gene'] != 'na')) & (polyadb_df['pas'] != -1)].reset_index(drop=True).copy()\n",
    "\n",
    "print('len(polyadb_df) = ' + str(len(polyadb_df)))\n"
   ]
  },
  {
   "cell_type": "code",
   "execution_count": 3,
   "metadata": {},
   "outputs": [],
   "source": [
    "#Process PolyaDB data\n",
    "\n",
    "polyadb_df_minus = polyadb_df.query(\"strand == '-'\").copy().reset_index(drop=True)\n",
    "polyadb_df_plus = polyadb_df.query(\"strand == '+'\").copy().reset_index(drop=True)\n",
    "\n",
    "polyadb_df_minus = polyadb_df_minus.sort_values(by='pas_pos', ascending=False).copy().reset_index(drop=True)\n",
    "polyadb_df_plus = polyadb_df_plus.sort_values(by='pas_pos', ascending=True).copy().reset_index(drop=True)\n",
    "\n",
    "new_gene_id_list_plus = []\n",
    "sitenum_list_plus = []\n",
    "gene_id_dict = {}\n",
    "for _, row in polyadb_df_plus.iterrows() :\n",
    "\n",
    "    gene = row['gene']\n",
    "\n",
    "    if gene not in gene_id_dict :\n",
    "        gene_id_dict[gene] = 0\n",
    "\n",
    "    gene_id_dict[gene] += 1\n",
    "\n",
    "    new_gene_id_list_plus.append(gene + \".\" + str(gene_id_dict[gene]))\n",
    "    sitenum_list_plus.append(gene_id_dict[gene])\n",
    "\n",
    "polyadb_df_plus['gene_id'] = new_gene_id_list_plus\n",
    "polyadb_df_plus['sitenum'] = sitenum_list_plus\n",
    "\n",
    "new_gene_id_list_minus = []\n",
    "sitenum_list_minus = []\n",
    "gene_id_dict = {}\n",
    "for _, row in polyadb_df_minus.iterrows() :\n",
    "\n",
    "    gene = row['gene']\n",
    "\n",
    "    if gene not in gene_id_dict :\n",
    "        gene_id_dict[gene] = 0\n",
    "\n",
    "    gene_id_dict[gene] += 1\n",
    "\n",
    "    new_gene_id_list_minus.append(gene + \".\" + str(gene_id_dict[gene]))\n",
    "    sitenum_list_minus.append(gene_id_dict[gene])\n",
    "\n",
    "polyadb_df_minus['gene_id'] = new_gene_id_list_minus\n",
    "polyadb_df_minus['sitenum'] = sitenum_list_minus\n",
    "\n",
    "polyadb_df = pd.concat([polyadb_df_plus, polyadb_df_minus])\n",
    "\n",
    "polyadb_df = polyadb_df.sort_values(by=['gene', 'sitenum'], ascending=True).reset_index(drop=True).copy()"
   ]
  },
  {
   "cell_type": "code",
   "execution_count": 4,
   "metadata": {},
   "outputs": [],
   "source": [
    "#Get CausalDB metadata\n",
    "\n",
    "causaldb_meta_df = pd.read_csv(\"causaldb_credible_set/causaldb_meta_info_v1.txt\", sep='\\t')\n"
   ]
  },
  {
   "cell_type": "code",
   "execution_count": 5,
   "metadata": {},
   "outputs": [],
   "source": [
    "#Load cached causaldb dataframes (already intersected against predictions)\n",
    "\n",
    "variant_df_gwas = pd.read_csv(\"aparent_resnet_variant_predictions_polyadb_no_sequences_causaldb_no_cutoff.csv\", sep='\\t')\n",
    "variant_df_gwas_noncausal = pd.read_csv(\"aparent_resnet_variant_predictions_polyadb_no_sequences_noncausaldb_no_cutoff.csv\", sep='\\t')\n"
   ]
  },
  {
   "cell_type": "code",
   "execution_count": 6,
   "metadata": {},
   "outputs": [],
   "source": [
    "#Drop duplicates for partially overlapping annotated PASs and add additional fields\n",
    "\n",
    "variant_df_gwas['rsID'] = \"rs\" + variant_df_gwas['rsID'].astype(int).astype(str)\n",
    "\n",
    "variant_df_gwas['delta_logodds_77_127_abs'] = np.abs(variant_df_gwas['delta_logodds_77_127'])\n",
    "\n",
    "variant_df_gwas['rel_var_position'] = -1\n",
    "variant_df_gwas.loc[variant_df_gwas['strand'] == '+', 'rel_var_position'] = variant_df_gwas['var_position'] - (variant_df_gwas['pas_pos'] - 70 + 1)\n",
    "variant_df_gwas.loc[variant_df_gwas['strand'] == '-', 'rel_var_position'] = ((variant_df_gwas['pas_pos'] - (205 - 70)) + 205) - variant_df_gwas['var_position']\n",
    "\n",
    "variant_df_gwas['alt_usage'] = 1. / (1. + 1. / ((np.clip(variant_df_gwas['native_usage'], 1e-7, 1. - 1e-7) / (1. - np.clip(variant_df_gwas['native_usage'], 1e-7, 1. - 1e-7))) * np.exp(variant_df_gwas['delta_logodds_0_205'])))\n",
    "variant_df_gwas['delta_usage'] = variant_df_gwas['alt_usage'] - variant_df_gwas['native_usage']\n",
    "\n",
    "variant_df_gwas['alt_usage_77_127'] = 1. / (1. + 1. / ((np.clip(variant_df_gwas['native_usage'], 1e-7, 1. - 1e-7) / (1. - np.clip(variant_df_gwas['native_usage'], 1e-7, 1. - 1e-7))) * np.exp(variant_df_gwas['delta_logodds_77_127'])))\n",
    "variant_df_gwas['delta_usage_77_127'] = variant_df_gwas['alt_usage_77_127'] - variant_df_gwas['native_usage']\n",
    "\n",
    "polyadb_df_unique = polyadb_df.drop_duplicates(subset=[\"gene_id\"], keep='first').copy().reset_index(drop=True)\n",
    "polyadb_df_unique['padb_join_id'] = polyadb_df_unique['chrom'] + \"_\" + polyadb_df_unique['pas_pos'].astype(str) + \"_\" + polyadb_df_unique['strand']\n",
    "variant_df_gwas['padb_join_id'] = variant_df_gwas['chrom'] + \"_\" + variant_df_gwas['pas_pos'].astype(str) + \"_\" + variant_df_gwas['strand']\n",
    "\n",
    "variant_df_gwas = variant_df_gwas.join(polyadb_df_unique[['padb_join_id', 'pas']].set_index(\"padb_join_id\"), on='padb_join_id', how='inner').copy().reset_index(drop=True)\n",
    "\n",
    "variant_df_gwas['target_rel_var_position'] = np.abs(90 - variant_df_gwas['rel_var_position'])\n",
    "variant_df_gwas['target_delta_logodds_77_127_abs'] = -variant_df_gwas['delta_logodds_77_127_abs']\n",
    "variant_df_gwas = variant_df_gwas.sort_values(by=['target_rel_var_position', 'target_delta_logodds_77_127_abs'], ascending=True).drop_duplicates(subset=['causaldb_join_id', 'meta_id'], keep='first').copy().reset_index(drop=True)\n",
    "#variant_df_gwas['pas'] = -1. * variant_df_gwas['pas']\n",
    "#variant_df_gwas = variant_df_gwas.sort_values(by=[\"pas\", 'delta_logodds_77_127_abs'], ascending=False).drop_duplicates(subset=['causaldb_join_id', 'meta_id'], keep='first').copy().reset_index(drop=True)\n",
    "\n",
    "#Drop duplicates for partially overlapping annotated PASs and add additional fields (non-causal)\n",
    "\n",
    "variant_df_gwas_noncausal['delta_logodds_77_127_abs'] = np.abs(variant_df_gwas_noncausal['delta_logodds_77_127'])\n",
    "\n",
    "variant_df_gwas_noncausal['rel_var_position'] = -1\n",
    "variant_df_gwas_noncausal.loc[variant_df_gwas_noncausal['strand'] == '+', 'rel_var_position'] = variant_df_gwas_noncausal['var_position'] - (variant_df_gwas_noncausal['pas_pos'] - 70 + 1)\n",
    "variant_df_gwas_noncausal.loc[variant_df_gwas_noncausal['strand'] == '-', 'rel_var_position'] = ((variant_df_gwas_noncausal['pas_pos'] - (205 - 70)) + 205) - variant_df_gwas_noncausal['var_position']\n",
    "\n",
    "variant_df_gwas_noncausal['alt_usage'] = 1. / (1. + 1. / ((np.clip(variant_df_gwas_noncausal['native_usage'], 1e-7, 1. - 1e-7) / (1. - np.clip(variant_df_gwas_noncausal['native_usage'], 1e-7, 1. - 1e-7))) * np.exp(variant_df_gwas_noncausal['delta_logodds_0_205'])))\n",
    "variant_df_gwas_noncausal['delta_usage'] = variant_df_gwas_noncausal['alt_usage'] - variant_df_gwas_noncausal['native_usage']\n",
    "\n",
    "variant_df_gwas_noncausal['alt_usage_77_127'] = 1. / (1. + 1. / ((np.clip(variant_df_gwas_noncausal['native_usage'], 1e-7, 1. - 1e-7) / (1. - np.clip(variant_df_gwas_noncausal['native_usage'], 1e-7, 1. - 1e-7))) * np.exp(variant_df_gwas_noncausal['delta_logodds_77_127'])))\n",
    "variant_df_gwas_noncausal['delta_usage_77_127'] = variant_df_gwas_noncausal['alt_usage_77_127'] - variant_df_gwas_noncausal['native_usage']\n",
    "\n",
    "polyadb_df_unique = polyadb_df.drop_duplicates(subset=[\"gene_id\"], keep='first').copy().reset_index(drop=True)\n",
    "polyadb_df_unique['padb_join_id'] = polyadb_df_unique['chrom'] + \"_\" + polyadb_df_unique['pas_pos'].astype(str) + \"_\" + polyadb_df_unique['strand']\n",
    "variant_df_gwas_noncausal['padb_join_id'] = variant_df_gwas_noncausal['chrom'] + \"_\" + variant_df_gwas_noncausal['pas_pos'].astype(str) + \"_\" + variant_df_gwas_noncausal['strand']\n",
    "\n",
    "variant_df_gwas_noncausal = variant_df_gwas_noncausal.join(polyadb_df_unique[['padb_join_id', 'pas']].set_index(\"padb_join_id\"), on='padb_join_id', how='inner').copy().reset_index(drop=True)\n",
    "\n",
    "variant_df_gwas_noncausal['target_rel_var_position'] = np.abs(90 - variant_df_gwas_noncausal['rel_var_position'])\n",
    "variant_df_gwas_noncausal['target_delta_logodds_77_127_abs'] = -variant_df_gwas_noncausal['delta_logodds_77_127_abs']\n",
    "variant_df_gwas_noncausal = variant_df_gwas_noncausal.sort_values(by=['target_rel_var_position', 'target_delta_logodds_77_127_abs'], ascending=True).drop_duplicates(subset=['causaldb_join_id', 'meta_id'], keep='first').copy().reset_index(drop=True)\n",
    "#variant_df_gwas_noncausal['pas'] = -1. * variant_df_gwas_noncausal['pas']\n",
    "#variant_df_gwas_noncausal = variant_df_gwas_noncausal.sort_values(by=[\"pas\", 'delta_logodds_77_127_abs'], ascending=False).drop_duplicates(subset=['causaldb_join_id', 'meta_id'], keep='first').copy().reset_index(drop=True)\n"
   ]
  },
  {
   "cell_type": "code",
   "execution_count": 7,
   "metadata": {},
   "outputs": [
    {
     "name": "stdout",
     "output_type": "stream",
     "text": [
      "len(variant_df_gwas_lead) = 8072\n",
      "len(variant_df_gwas_all_lead) = 9205\n"
     ]
    }
   ],
   "source": [
    "#Aggregate summary statistic for unique SNPs (by rsID)\n",
    "\n",
    "variant_df_gwas_all = pd.concat([variant_df_gwas, variant_df_gwas_noncausal]).drop_duplicates(subset=[\"causaldb_join_id\"], keep='first').copy().reset_index(drop=True)\n",
    "\n",
    "variant_df_gwas_lead = variant_df_gwas.copy().sort_values(by='FINEMAP', ascending=False).drop_duplicates(subset=[\"causaldb_join_id\"], keep='first').copy().reset_index(drop=True)\n",
    "variant_df_gwas_all_lead = variant_df_gwas_all.copy().sort_values(by='FINEMAP', ascending=False).drop_duplicates(subset=[\"causaldb_join_id\"], keep='first').copy().reset_index(drop=True)\n",
    "\n",
    "print(\"len(variant_df_gwas_lead) = \" + str(len(variant_df_gwas_lead)))\n",
    "print(\"len(variant_df_gwas_all_lead) = \" + str(len(variant_df_gwas_all_lead)))\n"
   ]
  },
  {
   "cell_type": "code",
   "execution_count": 8,
   "metadata": {
    "scrolled": true
   },
   "outputs": [
    {
     "name": "stdout",
     "output_type": "stream",
     "text": [
      "x_thresh_low = -0.3365\n"
     ]
    },
    {
     "data": {
      "image/png": "[encoded data removed]",
      "text/plain": [
       "<Figure size 432x288 with 1 Axes>"
      ]
     },
     "metadata": {
      "needs_background": "light"
     },
     "output_type": "display_data"
    },
    {
     "name": "stdout",
     "output_type": "stream",
     "text": [
      "--- Fisher's exact test ---\n",
      "\n",
      "x (low)  = 0.001\n",
      "x (high) = 0.2\n",
      "\n",
      "n (low)  = 1026\n",
      "n (high) = 202\n",
      "\n",
      "[[942.  84.]\n",
      " [179.  23.]]\n",
      "\n",
      "(1.4409417398244213, 0.09330476285498879)\n",
      "\n",
      "RanksumsResult(statistic=1.7953519202835833, pvalue=0.03629882382397424)\n",
      "\n",
      "x_thresh_low = -0.4055\n"
     ]
    },
    {
     "data": {
      "image/png": "[encoded data removed]",
      "text/plain": [
       "<Figure size 432x288 with 1 Axes>"
      ]
     },
     "metadata": {
      "needs_background": "light"
     },
     "output_type": "display_data"
    },
    {
     "name": "stdout",
     "output_type": "stream",
     "text": [
      "--- Fisher's exact test ---\n",
      "\n",
      "x (low)  = 0.001\n",
      "x (high) = 0.2\n",
      "\n",
      "n (low)  = 1026\n",
      "n (high) = 202\n",
      "\n",
      "[[965.  61.]\n",
      " [183.  19.]]\n",
      "\n",
      "(1.6424796201737883, 0.05238394717543503)\n",
      "\n",
      "RanksumsResult(statistic=1.7953519202835833, pvalue=0.03629882382397424)\n",
      "\n",
      "x_thresh_low = -0.6931\n"
     ]
    },
    {
     "data": {
      "image/png": "[encoded data removed]",
      "text/plain": [
       "<Figure size 432x288 with 1 Axes>"
      ]
     },
     "metadata": {
      "needs_background": "light"
     },
     "output_type": "display_data"
    },
    {
     "name": "stdout",
     "output_type": "stream",
     "text": [
      "--- Fisher's exact test ---\n",
      "\n",
      "x (low)  = 0.001\n",
      "x (high) = 0.2\n",
      "\n",
      "n (low)  = 1026\n",
      "n (high) = 202\n",
      "\n",
      "[[996.  30.]\n",
      " [190.  12.]]\n",
      "\n",
      "(2.096842105263158, 0.03188941718410415)\n",
      "\n",
      "RanksumsResult(statistic=1.7953519202835833, pvalue=0.03629882382397424)\n",
      "\n"
     ]
    }
   ],
   "source": [
    "#Calculate statistics in intervals of FINEMAP PP (log odds)\n",
    "\n",
    "from scipy.stats import ranksums, fisher_exact\n",
    "\n",
    "x = -np.abs(variant_df_gwas_all_lead.query(\"site_type == '3_most_exon' and native_usage > 0. and native_usage < 1.\")['delta_logodds_0_205'].values)\n",
    "y = np.array(variant_df_gwas_all_lead.query(\"site_type == '3_most_exon' and native_usage > 0. and native_usage < 1.\")['FINEMAP'].values)\n",
    "\n",
    "x_thresh_lows = [-np.log(1.4), -np.log(1.5), -np.log(2.0)]\n",
    "\n",
    "fisher_test_low_y = 0.001\n",
    "fisher_test_high_y = 0.2\n",
    "\n",
    "for x_thresh_low in x_thresh_lows :\n",
    "\n",
    "    print(\"x_thresh_low = \" + str(round(x_thresh_low, 4)))\n",
    "    \n",
    "    x_0 = x[(y >= 0.)]\n",
    "    x_0_01 = x[(y >= 0.01)]\n",
    "    x_0_05 = x[(y >= 0.05)]\n",
    "    x_0_2 = x[(y >= 0.2)]\n",
    "    x_0_5 = x[(y >= 0.5)]\n",
    "    x_0_9 = x[(y >= 0.9)]\n",
    "    x_0_95 = x[(y >= 0.95)]\n",
    "\n",
    "    f_0 = np.sum(x_0 < x_thresh_low) / x_0.shape[0]\n",
    "    f_0_01 = np.sum(x_0_01 < x_thresh_low) / x_0_01.shape[0]\n",
    "    f_0_05 = np.sum(x_0_05 < x_thresh_low) / x_0_05.shape[0]\n",
    "    f_0_2 = np.sum(x_0_2 < x_thresh_low) / x_0_2.shape[0]\n",
    "    f_0_5 = np.sum(x_0_5 < x_thresh_low) / x_0_5.shape[0]\n",
    "    f_0_9 = np.sum(x_0_9 < x_thresh_low) / x_0_9.shape[0]\n",
    "    f_0_95 = np.sum(x_0_95 < x_thresh_low) / x_0_95.shape[0]\n",
    "\n",
    "    r_0_01 = f_0_01 / f_0\n",
    "    r_0_05 = f_0_05 / f_0\n",
    "    r_0_2 = f_0_2 / f_0\n",
    "    r_0_5 = f_0_5 / f_0\n",
    "    r_0_9 = f_0_9 / f_0\n",
    "    r_0_95 = f_0_95 / f_0\n",
    "\n",
    "    fs = np.array([1., r_0_01, r_0_05, r_0_2, r_0_5, r_0_9, r_0_95])\n",
    "\n",
    "    f = plt.figure(figsize=(6, 4))\n",
    "\n",
    "    plt.bar([0], [fs[0]], color='darkgray', linewidth=2, edgecolor='black')\n",
    "    plt.bar((np.arange(fs.shape[0]-1)+1).tolist(), fs[1:].tolist(), color='deepskyblue', linewidth=2, edgecolor='black')\n",
    "\n",
    "    plt.axhline(y=1.0, linewidth=2, linestyle='--', color='black')\n",
    "\n",
    "    plt.xticks(\n",
    "        np.arange(fs.shape[0]), [\n",
    "            \">= 0%\",\n",
    "            \">= 1%\",\n",
    "            \">= 5%\",\n",
    "            \">= 20%\",\n",
    "            \">= 50%\",\n",
    "            \">= 90%\",\n",
    "            \">= 95%\",\n",
    "        ], fontsize=12, rotation=45\n",
    "    )\n",
    "\n",
    "    plt.yticks(fontsize=12)\n",
    "\n",
    "    plt.xlabel(\"FINEMAP Posterior Probability\", fontsize=12)\n",
    "    plt.ylabel(\"Frequency of Disruptive Variants\\n(Relative to FINEMAP >= 0)\", fontsize=12)\n",
    "\n",
    "    plt.ylim(0.3)\n",
    "\n",
    "    plt.tight_layout()\n",
    "\n",
    "    plt.savefig(\"apa_causaldb_disruptive_frequency_logodds_\" + str(round(x_thresh_low, 4)).replace(\".\", \"_\").replace(\"-\", \"\") + \"_v2.eps\")\n",
    "    plt.savefig(\"apa_causaldb_disruptive_frequency_logodds_\" + str(round(x_thresh_low, 4)).replace(\".\", \"_\").replace(\"-\", \"\") + \"_v2.png\", transparent=True, dpi=300)\n",
    "\n",
    "    plt.show()\n",
    "    \n",
    "    x_low = x[(y < fisher_test_low_y)]\n",
    "    x_high = x[(y >= fisher_test_high_y)]\n",
    "\n",
    "    print(\"--- Fisher's exact test ---\")\n",
    "    print(\"\")\n",
    "    print(\"x (low)  = \" + str(fisher_test_low_y))\n",
    "    print(\"x (high) = \" + str(fisher_test_high_y))\n",
    "    print(\"\")\n",
    "    print(\"n (low)  = \" + str(x_low.shape[0]))\n",
    "    print(\"n (high) = \" + str(x_high.shape[0]))\n",
    "    \n",
    "    t1 = np.zeros((2, 2))\n",
    "    \n",
    "    t1[0, 0] = np.sum(x_low >= x_thresh_low)\n",
    "    t1[0, 1] = np.sum(x_low < x_thresh_low)\n",
    "    t1[1, 0] = np.sum(x_high >= x_thresh_low)\n",
    "    t1[1, 1] = np.sum(x_high < x_thresh_low)\n",
    "\n",
    "    print(\"\")\n",
    "    print(t1)\n",
    "    print(\"\")\n",
    "\n",
    "    print(fisher_exact(t1, alternative='greater'))\n",
    "    \n",
    "    print(\"\")\n",
    "    \n",
    "    print(ranksums(x_low, x_high, alternative='greater'))\n",
    "    \n",
    "    print(\"\")\n"
   ]
  },
  {
   "cell_type": "code",
   "execution_count": null,
   "metadata": {},
   "outputs": [],
   "source": []
  }
 ],
 "metadata": {
  "kernelspec": {
   "display_name": "Environment (conda_modisco_p37)",
   "language": "python",
   "name": "conda_modisco_p37"
  },
  "language_info": {
   "codemirror_mode": {
    "name": "ipython",
    "version": 3
   },
   "file_extension": ".py",
   "mimetype": "text/x-python",
   "name": "python",
   "nbconvert_exporter": "python",
   "pygments_lexer": "ipython3",
   "version": "3.7.13"
  }
 },
 "nbformat": 4,
 "nbformat_minor": 2
}
