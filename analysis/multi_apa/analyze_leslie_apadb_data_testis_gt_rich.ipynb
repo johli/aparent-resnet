{
 "cells": [
  {
   "cell_type": "code",
   "execution_count": 1,
   "metadata": {},
   "outputs": [],
   "source": [
    "import numpy as np\n",
    "import pandas as pd\n",
    "\n",
    "import matplotlib.pyplot as plt\n",
    "import seaborn as sns\n",
    "\n",
    "from scipy.stats import ttest_ind\n"
   ]
  },
  {
   "cell_type": "code",
   "execution_count": 2,
   "metadata": {},
   "outputs": [],
   "source": [
    "\n",
    "df = pd.read_csv('leslie_derti_apadb_processed_utr3_all_cuts.csv', sep='\\t')\n"
   ]
  },
  {
   "cell_type": "code",
   "execution_count": 3,
   "metadata": {},
   "outputs": [],
   "source": [
    "#Apply filters\n",
    "\n",
    "min_count = 5\n",
    "\n",
    "df = df.query(\"leslie_total_count_hek293 >= \" + str(min_count) + \" and leslie_total_count_testis >= \" + str(min_count)).copy().reset_index(drop=True)\n",
    "df = df.query(\"leslie_count_hek293 >= 1 and leslie_count_testis >= 1\").copy().reset_index(drop=True)\n",
    "df = df.query(\"leslie_count_hek293 < leslie_total_count_hek293 and leslie_count_testis < leslie_total_count_testis\").copy().reset_index(drop=True)\n"
   ]
  },
  {
   "cell_type": "code",
   "execution_count": 4,
   "metadata": {},
   "outputs": [],
   "source": [
    "#Compute total relative isoform abundances\n",
    "\n",
    "df['leslie_usage_hek293'] = df['leslie_count_hek293'] / df['leslie_total_count_hek293']\n",
    "df['leslie_usage_testis'] = df['leslie_count_testis'] / df['leslie_total_count_testis']\n",
    "\n",
    "df['leslie_logodds_hek293'] = np.log(df['leslie_usage_hek293'] / (1. - df['leslie_usage_hek293']))\n",
    "df['leslie_logodds_testis'] = np.log(df['leslie_usage_testis'] / (1. - df['leslie_usage_testis']))\n",
    "\n",
    "#Compute relative differences between tissues / cell lines\n",
    "\n",
    "df['leslie_delta_logodds_testis_hek293'] = df['leslie_logodds_testis'] - df['leslie_logodds_hek293']\n"
   ]
  },
  {
   "cell_type": "code",
   "execution_count": 5,
   "metadata": {},
   "outputs": [],
   "source": [
    "\n",
    "df['dse_gt_count'] = df['seq'].str.slice(56, 106).str.count(\"GTGT\")\n",
    "df['dse_gt_count'] += df['seq'].str.slice(56, 106).str.count(\"GTCT\")\n",
    "df['dse_gt_count'] += df['seq'].str.slice(56, 106).str.count(\"TGTT\")\n",
    "df['dse_gt_count'] += df['seq'].str.slice(56, 106).str.count(\"TTGT\")\n",
    "\n",
    "total_dse_count_df = df.groupby(['gene']).agg({\n",
    "    \"dse_gt_count\" : \"sum\"\n",
    "}).reset_index().rename(columns={\n",
    "    \"dse_gt_count\" : \"total_dse_gt_count\"\n",
    "})\n",
    "\n",
    "if 'total_dse_gt_count' in df.columns :\n",
    "    df = df.drop(columns=['total_dse_gt_count'])\n",
    "\n",
    "df = df.join(total_dse_count_df.set_index('gene'), on='gene', how='inner').sort_index()\n",
    "\n",
    "df['competing_dse_gt_count'] = df['total_dse_gt_count'] - df['dse_gt_count']\n"
   ]
  },
  {
   "cell_type": "code",
   "execution_count": 6,
   "metadata": {},
   "outputs": [],
   "source": [
    "\n",
    "df_gt_rich = df.query(\"dse_gt_count >= 1 and competing_dse_gt_count <= 0\")\n",
    "df_not_gt_rich = df.query(\"dse_gt_count <= 0\")\n"
   ]
  },
  {
   "cell_type": "code",
   "execution_count": 7,
   "metadata": {},
   "outputs": [
    {
     "name": "stdout",
     "output_type": "stream",
     "text": [
      "T-test Statistic = 7.4986644961435\n",
      "T-test P-value = 8.96920302435304e-14\n"
     ]
    },
    {
     "data": {
      "image/png": "[encoded data removed]",
      "text/plain": [
       "<Figure size 288x288 with 1 Axes>"
      ]
     },
     "metadata": {},
     "output_type": "display_data"
    }
   ],
   "source": [
    "\n",
    "arr_1 = np.array(df_not_gt_rich['leslie_delta_logodds_testis_hek293'].values)\n",
    "arr_2 = np.array(df_gt_rich['leslie_delta_logodds_testis_hek293'].values)\n",
    "\n",
    "f = plt.figure(figsize=(4, 4))\n",
    "\n",
    "sns.boxplot(data=[arr_1, arr_2], palette='Purples')\n",
    "\n",
    "plt.xticks([0, 1], ['Not GT-rich', 'GT-rich'], fontsize=12)\n",
    "plt.yticks(fontsize=12)\n",
    "\n",
    "n_1 = arr_1.shape[0]\n",
    "n_2 = arr_2.shape[0]\n",
    "\n",
    "s, p = ttest_ind(arr_1, arr_2, equal_var=False)\n",
    "\n",
    "print(\"T-test Statistic = \" + str(s))\n",
    "print(\"T-test P-value = \" + str(p))\n",
    "\n",
    "plt.title(\"GT-rich PAS, n = \" + str(n_1) + \" / \" + str(n_2), fontsize=12)\n",
    "\n",
    "plt.tight_layout()\n",
    "\n",
    "plt.savefig(\"apa_leslie_testis_gt_rich_boxplot.png\", dpi=300, transparent=True)\n",
    "plt.savefig(\"apa_leslie_testis_gt_rich_boxplot.eps\")\n",
    "\n",
    "plt.show()\n"
   ]
  },
  {
   "cell_type": "code",
   "execution_count": 8,
   "metadata": {},
   "outputs": [
    {
     "name": "stdout",
     "output_type": "stream",
     "text": [
      "T-test Statistic = -4.24359526539767\n",
      "T-test P-value = 2.282225376309109e-05\n"
     ]
    },
    {
     "data": {
      "image/png": "[encoded data removed]",
      "text/plain": [
       "<Figure size 288x288 with 1 Axes>"
      ]
     },
     "metadata": {},
     "output_type": "display_data"
    }
   ],
   "source": [
    "\n",
    "arr_1 = np.abs(np.array(df_not_gt_rich['leslie_delta_logodds_testis_hek293'].values))\n",
    "arr_2 = np.abs(np.array(df_gt_rich['leslie_delta_logodds_testis_hek293'].values))\n",
    "\n",
    "f = plt.figure(figsize=(4, 4))\n",
    "\n",
    "sns.boxplot(data=[arr_1, arr_2], palette='Purples')\n",
    "\n",
    "plt.xticks([0, 1], ['Not GT-rich', 'GT-rich'], fontsize=12)\n",
    "plt.yticks(fontsize=12)\n",
    "\n",
    "n_1 = arr_1.shape[0]\n",
    "n_2 = arr_2.shape[0]\n",
    "\n",
    "s, p = ttest_ind(arr_1, arr_2, equal_var=False)\n",
    "\n",
    "print(\"T-test Statistic = \" + str(s))\n",
    "print(\"T-test P-value = \" + str(p))\n",
    "\n",
    "plt.title(\"GT-rich PAS, n = \" + str(n_1) + \" / \" + str(n_2), fontsize=12)\n",
    "\n",
    "plt.tight_layout()\n",
    "\n",
    "plt.savefig(\"apa_leslie_testis_gt_rich_boxplot_abs.png\", dpi=300, transparent=True)\n",
    "plt.savefig(\"apa_leslie_testis_gt_rich_boxplot_abs.eps\")\n",
    "\n",
    "plt.show()\n"
   ]
  },
  {
   "cell_type": "code",
   "execution_count": null,
   "metadata": {},
   "outputs": [],
   "source": []
  }
 ],
 "metadata": {
  "anaconda-cloud": {},
  "kernelspec": {
   "display_name": "Python [conda env:tensorflow]",
   "language": "python",
   "name": "conda-env-tensorflow-py"
  },
  "language_info": {
   "codemirror_mode": {
    "name": "ipython",
    "version": 3
   },
   "file_extension": ".py",
   "mimetype": "text/x-python",
   "name": "python",
   "nbconvert_exporter": "python",
   "pygments_lexer": "ipython3",
   "version": "3.6.8"
  }
 },
 "nbformat": 4,
 "nbformat_minor": 1
}
