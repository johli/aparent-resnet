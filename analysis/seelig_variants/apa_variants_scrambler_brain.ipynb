{
 "cells": [
  {
   "cell_type": "code",
   "execution_count": 1,
   "metadata": {},
   "outputs": [
    {
     "name": "stderr",
     "output_type": "stream",
     "text": [
      "Using TensorFlow backend.\n"
     ]
    }
   ],
   "source": [
    "import keras\n",
    "from keras.models import Sequential, Model, load_model\n",
    "\n",
    "import os\n",
    "import pickle\n",
    "import numpy as np\n",
    "import pandas as pd\n",
    "\n",
    "import scipy.sparse as sp\n",
    "import scipy.io as spio\n",
    "\n",
    "import matplotlib.pyplot as plt\n",
    "\n",
    "from scrambler.models.scrambler_models_w_diff import *\n",
    "from scrambler.utils import OneHotEncoder, get_sequence_masks\n",
    "from scrambler.visualizations import plot_dna_logo, plot_dna_importance_scores\n"
   ]
  },
  {
   "cell_type": "code",
   "execution_count": 11,
   "metadata": {},
   "outputs": [
    {
     "name": "stdout",
     "output_type": "stream",
     "text": [
      "Loading model 0...\n",
      "Loading model 1...\n",
      "Loading model 2...\n",
      "Loading model 3...\n",
      "Loading model 4...\n",
      "Loading model 5...\n",
      "Loading model 6...\n",
      "Loading model 7...\n",
      "Loading model 8...\n",
      "Loading model 9...\n"
     ]
    }
   ],
   "source": [
    "#Load tissue-specific model\n",
    "\n",
    "import keras\n",
    "import keras.backend as K\n",
    "from keras.layers import Reshape, Concatenate, Lambda, Conv2D, BatchNormalization, Dense, Activation\n",
    "\n",
    "def load_pas_network(n_cell_types=1) :\n",
    "\n",
    "    conv_1 = Conv2D(16, (1, 8), padding='valid', activation='linear', name='pasnet_conv2d_1')\n",
    "    batchnorm_1 = BatchNormalization(axis=-1, name='pasnet_batchnorm_1')\n",
    "    relu_1 = Activation('relu')\n",
    "\n",
    "    conv_2 = Conv2D(16, (1, 8), padding='valid', activation='linear', name='pasnet_conv2d_2')\n",
    "    batchnorm_2 = BatchNormalization(axis=-1, name='pasnet_batchnorm_2')\n",
    "    relu_2 = Activation('relu')\n",
    "\n",
    "    max_pool_3 = Lambda(lambda x: K.mean(x, axis=(1, 2)))\n",
    "\n",
    "    final_dense = Dense(n_cell_types, activation='linear', kernel_initializer='zeros', bias_initializer='zeros', name='pasnet_dense_2')\n",
    "\n",
    "    def _net_func(sequence_input) :\n",
    "        \n",
    "        relu_1_out = relu_1(batchnorm_1(conv_1(sequence_input), training=False))\n",
    "        relu_2_out = relu_2(batchnorm_2(conv_2(relu_1_out), training=False))\n",
    "\n",
    "        max_pool_3_out = max_pool_3(relu_2_out)\n",
    "\n",
    "        final_dense_out = final_dense(max_pool_3_out)\n",
    "        \n",
    "        return final_dense_out\n",
    "\n",
    "    return _net_func\n",
    "\n",
    "model_name = \"human_convnet_16_16_no_dense_linear_leslie_hek293_brain_all_cuts_ensemble\"\n",
    "\n",
    "tissue_type = 'Brain_Frontal_Cortex_BA9'\n",
    "\n",
    "n_bootstraps = 10\n",
    "\n",
    "save_dir = '../../../../aparent/saved_models'\n",
    "\n",
    "pas_models = []\n",
    "\n",
    "for bootstrap_ix in range(n_bootstraps) :\n",
    "    \n",
    "    print(\"Loading model \" + str(bootstrap_ix) + \"...\")\n",
    "    \n",
    "    pas_net = load_pas_network(\n",
    "        n_cell_types=2\n",
    "    )\n",
    "    \n",
    "    pas_input = Input(shape=(1, 205, 4), name='pas_input')\n",
    "    \n",
    "    pas_model = Model([pas_input], [pas_net(pas_input)])\n",
    "    \n",
    "    model_path = os.path.join(save_dir, model_name + '_' + str(bootstrap_ix) + '_pas_model' + '.h5')\n",
    "    pas_model.load_weights(model_path, by_name=True)\n",
    "    \n",
    "    pas_models.append(pas_model)\n",
    "\n",
    "ref_input = Input(name=\"ref_input\", shape=(1, 205, 4))\n",
    "var_input = Input(name=\"var_input\", shape=(1, 205, 4))\n",
    "\n",
    "ref_scores = Concatenate(axis=1)([Reshape((1, 2))(pas_models[bootstrap_ix](ref_input)) for bootstrap_ix in range(n_bootstraps)])\n",
    "var_scores = Concatenate(axis=1)([Reshape((1, 2))(pas_models[bootstrap_ix](var_input)) for bootstrap_ix in range(n_bootstraps)])\n",
    "\n",
    "mean_ref_scores = Lambda(lambda x: K.mean(x, axis=1))(ref_scores)\n",
    "mean_var_scores = Lambda(lambda x: K.mean(x, axis=1))(var_scores)\n",
    "\n",
    "dd_score = Lambda(lambda x: ((x[1][:, 1] - x[1][:, 0]) - (x[0][:, 1] - x[0][:, 0]))[:, None] )([mean_ref_scores, mean_var_scores])\n",
    "#dd_score = Lambda(lambda x: (x[:, 1] - x[:, 0])[:, None] )(mean_var_scores)\n",
    "\n",
    "predictor = Model([ref_input, var_input], [dd_score])\n",
    "\n",
    "predictor.compile(\n",
    "    optimizer=keras.optimizers.Adam(lr=0.001, beta_1=0.9, beta_2=0.999),\n",
    "    loss='mean_squared_error'\n",
    ")\n"
   ]
  },
  {
   "cell_type": "code",
   "execution_count": 12,
   "metadata": {
    "scrolled": true
   },
   "outputs": [
    {
     "name": "stdout",
     "output_type": "stream",
     "text": [
      "__________________________________________________________________________________________________\n",
      "Layer (type)                    Output Shape         Param #     Connected to                     \n",
      "==================================================================================================\n",
      "ref_input (InputLayer)          (None, 1, 205, 4)    0                                            \n",
      "__________________________________________________________________________________________________\n",
      "var_input (InputLayer)          (None, 1, 205, 4)    0                                            \n",
      "__________________________________________________________________________________________________\n",
      "model_23 (Model)                (None, 2)            2754        ref_input[0][0]                  \n",
      "                                                                 var_input[0][0]                  \n",
      "__________________________________________________________________________________________________\n",
      "model_24 (Model)                (None, 2)            2754        ref_input[0][0]                  \n",
      "                                                                 var_input[0][0]                  \n",
      "__________________________________________________________________________________________________\n",
      "model_25 (Model)                (None, 2)            2754        ref_input[0][0]                  \n",
      "                                                                 var_input[0][0]                  \n",
      "__________________________________________________________________________________________________\n",
      "model_26 (Model)                (None, 2)            2754        ref_input[0][0]                  \n",
      "                                                                 var_input[0][0]                  \n",
      "__________________________________________________________________________________________________\n",
      "model_27 (Model)                (None, 2)            2754        ref_input[0][0]                  \n",
      "                                                                 var_input[0][0]                  \n",
      "__________________________________________________________________________________________________\n",
      "model_28 (Model)                (None, 2)            2754        ref_input[0][0]                  \n",
      "                                                                 var_input[0][0]                  \n",
      "__________________________________________________________________________________________________\n",
      "model_29 (Model)                (None, 2)            2754        ref_input[0][0]                  \n",
      "                                                                 var_input[0][0]                  \n",
      "__________________________________________________________________________________________________\n",
      "model_30 (Model)                (None, 2)            2754        ref_input[0][0]                  \n",
      "                                                                 var_input[0][0]                  \n",
      "__________________________________________________________________________________________________\n",
      "model_31 (Model)                (None, 2)            2754        ref_input[0][0]                  \n",
      "                                                                 var_input[0][0]                  \n",
      "__________________________________________________________________________________________________\n",
      "model_32 (Model)                (None, 2)            2754        ref_input[0][0]                  \n",
      "                                                                 var_input[0][0]                  \n",
      "__________________________________________________________________________________________________\n",
      "reshape_41 (Reshape)            (None, 1, 2)         0           model_23[1][0]                   \n",
      "__________________________________________________________________________________________________\n",
      "reshape_42 (Reshape)            (None, 1, 2)         0           model_24[1][0]                   \n",
      "__________________________________________________________________________________________________\n",
      "reshape_43 (Reshape)            (None, 1, 2)         0           model_25[1][0]                   \n",
      "__________________________________________________________________________________________________\n",
      "reshape_44 (Reshape)            (None, 1, 2)         0           model_26[1][0]                   \n",
      "__________________________________________________________________________________________________\n",
      "reshape_45 (Reshape)            (None, 1, 2)         0           model_27[1][0]                   \n",
      "__________________________________________________________________________________________________\n",
      "reshape_46 (Reshape)            (None, 1, 2)         0           model_28[1][0]                   \n",
      "__________________________________________________________________________________________________\n",
      "reshape_47 (Reshape)            (None, 1, 2)         0           model_29[1][0]                   \n",
      "__________________________________________________________________________________________________\n",
      "reshape_48 (Reshape)            (None, 1, 2)         0           model_30[1][0]                   \n",
      "__________________________________________________________________________________________________\n",
      "reshape_49 (Reshape)            (None, 1, 2)         0           model_31[1][0]                   \n",
      "__________________________________________________________________________________________________\n",
      "reshape_50 (Reshape)            (None, 1, 2)         0           model_32[1][0]                   \n",
      "__________________________________________________________________________________________________\n",
      "reshape_51 (Reshape)            (None, 1, 2)         0           model_23[2][0]                   \n",
      "__________________________________________________________________________________________________\n",
      "reshape_52 (Reshape)            (None, 1, 2)         0           model_24[2][0]                   \n",
      "__________________________________________________________________________________________________\n",
      "reshape_53 (Reshape)            (None, 1, 2)         0           model_25[2][0]                   \n",
      "__________________________________________________________________________________________________\n",
      "reshape_54 (Reshape)            (None, 1, 2)         0           model_26[2][0]                   \n",
      "__________________________________________________________________________________________________\n",
      "reshape_55 (Reshape)            (None, 1, 2)         0           model_27[2][0]                   \n",
      "__________________________________________________________________________________________________\n",
      "reshape_56 (Reshape)            (None, 1, 2)         0           model_28[2][0]                   \n",
      "__________________________________________________________________________________________________\n",
      "reshape_57 (Reshape)            (None, 1, 2)         0           model_29[2][0]                   \n",
      "__________________________________________________________________________________________________\n",
      "reshape_58 (Reshape)            (None, 1, 2)         0           model_30[2][0]                   \n",
      "__________________________________________________________________________________________________\n",
      "reshape_59 (Reshape)            (None, 1, 2)         0           model_31[2][0]                   \n",
      "__________________________________________________________________________________________________\n",
      "reshape_60 (Reshape)            (None, 1, 2)         0           model_32[2][0]                   \n",
      "__________________________________________________________________________________________________\n",
      "concatenate_5 (Concatenate)     (None, 10, 2)        0           reshape_41[0][0]                 \n",
      "                                                                 reshape_42[0][0]                 \n",
      "                                                                 reshape_43[0][0]                 \n",
      "                                                                 reshape_44[0][0]                 \n",
      "                                                                 reshape_45[0][0]                 \n",
      "                                                                 reshape_46[0][0]                 \n",
      "                                                                 reshape_47[0][0]                 \n",
      "                                                                 reshape_48[0][0]                 \n",
      "                                                                 reshape_49[0][0]                 \n",
      "                                                                 reshape_50[0][0]                 \n",
      "__________________________________________________________________________________________________\n",
      "concatenate_6 (Concatenate)     (None, 10, 2)        0           reshape_51[0][0]                 \n",
      "                                                                 reshape_52[0][0]                 \n",
      "                                                                 reshape_53[0][0]                 \n",
      "                                                                 reshape_54[0][0]                 \n",
      "                                                                 reshape_55[0][0]                 \n",
      "                                                                 reshape_56[0][0]                 \n",
      "                                                                 reshape_57[0][0]                 \n",
      "                                                                 reshape_58[0][0]                 \n",
      "                                                                 reshape_59[0][0]                 \n",
      "                                                                 reshape_60[0][0]                 \n",
      "__________________________________________________________________________________________________\n",
      "lambda_37 (Lambda)              (None, 2)            0           concatenate_5[0][0]              \n",
      "__________________________________________________________________________________________________\n",
      "lambda_38 (Lambda)              (None, 2)            0           concatenate_6[0][0]              \n",
      "__________________________________________________________________________________________________\n",
      "lambda_39 (Lambda)              (None, 1)            0           lambda_37[0][0]                  \n",
      "                                                                 lambda_38[0][0]                  \n",
      "==================================================================================================\n",
      "Total params: 27,540\n",
      "Trainable params: 26,900\n",
      "Non-trainable params: 640\n",
      "__________________________________________________________________________________________________\n",
      "None\n"
     ]
    }
   ],
   "source": [
    "\n",
    "print(predictor.summary())\n"
   ]
  },
  {
   "cell_type": "code",
   "execution_count": 13,
   "metadata": {},
   "outputs": [],
   "source": [
    "snp_pred_df = pd.read_csv(\"../../../../autoscrambler/analysis/apa/aparent_all_libs_resnet_no_clinvar_wt_ep_5_predictions_pred_df.csv\", sep='\\t')\n"
   ]
  },
  {
   "cell_type": "code",
   "execution_count": 14,
   "metadata": {},
   "outputs": [
    {
     "data": {
      "text/html": [
       "<div>\n",
       "<style scoped>\n",
       "    .dataframe tbody tr th:only-of-type {\n",
       "        vertical-align: middle;\n",
       "    }\n",
       "\n",
       "    .dataframe tbody tr th {\n",
       "        vertical-align: top;\n",
       "    }\n",
       "\n",
       "    .dataframe thead th {\n",
       "        text-align: right;\n",
       "    }\n",
       "</style>\n",
       "<table border=\"1\" class=\"dataframe\">\n",
       "  <thead>\n",
       "    <tr style=\"text-align: right;\">\n",
       "      <th></th>\n",
       "      <th>snp_id</th>\n",
       "      <th>gene</th>\n",
       "      <th>snp_pos</th>\n",
       "      <th>effect_size</th>\n",
       "    </tr>\n",
       "  </thead>\n",
       "  <tbody>\n",
       "    <tr>\n",
       "      <th>0</th>\n",
       "      <td>chr15_40328292_A_G</td>\n",
       "      <td>SRP14</td>\n",
       "      <td>82</td>\n",
       "      <td>0.030866</td>\n",
       "    </tr>\n",
       "    <tr>\n",
       "      <th>1</th>\n",
       "      <td>chr5_125878908_C_A</td>\n",
       "      <td>ALDH7A1</td>\n",
       "      <td>103</td>\n",
       "      <td>0.050960</td>\n",
       "    </tr>\n",
       "  </tbody>\n",
       "</table>\n",
       "</div>"
      ],
      "text/plain": [
       "               snp_id     gene  snp_pos  effect_size\n",
       "0  chr15_40328292_A_G    SRP14       82     0.030866\n",
       "1  chr5_125878908_C_A  ALDH7A1      103     0.050960"
      ]
     },
     "execution_count": 14,
     "metadata": {},
     "output_type": "execute_result"
    }
   ],
   "source": [
    "#Load variant sequence selection\n",
    "\n",
    "snp_pred_df = pd.read_csv(\"../../../../autoscrambler/analysis/apa/aparent_all_libs_resnet_no_clinvar_wt_ep_5_predictions_pred_df.csv\", sep='\\t')\n",
    "snp_pred_df = snp_pred_df.query(\"tissue_type == '\" + tissue_type + \"'\").copy().reset_index(drop=True)\n",
    "\n",
    "snp_pred_df['snp_pos'] = snp_pred_df['rel_snp_pos'] - 105\n",
    "snp_pred_df['cut_to_snp'] = np.abs(snp_pred_df['snp_pos'] - 100)\n",
    "snp_pred_df = snp_pred_df.sort_values(by='cut_to_snp', ascending=True).drop_duplicates(subset=['snp_id'], keep='first')\n",
    "\n",
    "snp_pred_df = snp_pred_df.sort_values(by='snp_id').copy().reset_index(drop=True)\n",
    "\n",
    "snp_ids = [\n",
    "    'chr15_40328292_A_G',\n",
    "    'chr5_125878908_C_A',\n",
    "]\n",
    "\n",
    "df = snp_pred_df.set_index('snp_id').loc[snp_ids].reset_index()\n",
    "\n",
    "df[['snp_id', 'gene', 'snp_pos', 'effect_size']]\n"
   ]
  },
  {
   "cell_type": "code",
   "execution_count": 15,
   "metadata": {},
   "outputs": [],
   "source": [
    "#Generate data feature matrices\n",
    "\n",
    "#Load data matrices\n",
    "encoder = OneHotEncoder(seq_length=205, channel_map={'A' : 0, 'C' : 1, 'G' : 2, 'T' : 3})\n",
    "\n",
    "x_ref = np.concatenate([encoder(row['wide_seq_ext'][105:105+205])[None, None, ...] for _, row in df.iterrows()], axis=0)\n",
    "x_var = np.concatenate([encoder(row['wide_seq_ext_var'][105:105+205])[None, None, ...] for _, row in df.iterrows()], axis=0)\n",
    "\n",
    "b = np.max(x_ref - x_var, axis=-1)[..., None] * 50.\n"
   ]
  },
  {
   "cell_type": "code",
   "execution_count": 16,
   "metadata": {},
   "outputs": [],
   "source": [
    "#Define sequence template and background\n",
    "\n",
    "sequence_template = '$' * 205\n",
    "\n",
    "onehot_template = encoder(sequence_template)[None, ...]\n",
    "sequence_mask = get_sequence_masks([sequence_template])[0]\n"
   ]
  },
  {
   "cell_type": "code",
   "execution_count": 17,
   "metadata": {},
   "outputs": [],
   "source": [
    "#Calculate biased, example-specific backgrounds\n",
    "\n",
    "pseudo_count = 100.0\n",
    "\n",
    "x_mean = np.ones((x_ref.shape[0], 205, 4)) * 0.25#(x_ref[:, 0, ...] + pseudo_count) / (1. + 4. * pseudo_count)\n",
    "\n",
    "group = np.arange(x_mean.shape[0])[:, None]\n"
   ]
  },
  {
   "cell_type": "code",
   "execution_count": 18,
   "metadata": {},
   "outputs": [],
   "source": [
    "#Run optimization with bias turned on across CSE, to reduce variance further\n",
    "\n",
    "cse_bias = np.zeros((1, 1, 205, 1))\n",
    "cse_bias[:, :, 70:76, :] = 50.\n"
   ]
  },
  {
   "cell_type": "code",
   "execution_count": 19,
   "metadata": {},
   "outputs": [
    {
     "name": "stdout",
     "output_type": "stream",
     "text": [
      "\n",
      "WARNING: The TensorFlow contrib module will not be included in TensorFlow 2.0.\n",
      "For more information, please see:\n",
      "  * https://github.com/tensorflow/community/blob/master/rfcs/20180907-contrib-sunset.md\n",
      "  * https://github.com/tensorflow/addons\n",
      "If you depend on functionality not listed there, please file an issue.\n",
      "\n"
     ]
    }
   ],
   "source": [
    "#Build scrambler\n",
    "\n",
    "#Scrambler network configuration\n",
    "network_config = {\n",
    "    'n_groups' : 1,\n",
    "    'n_resblocks_per_group' : 1,\n",
    "    'n_channels' : 16,\n",
    "    'window_size' : 3,\n",
    "    'dilation_rates' : [1],\n",
    "    'drop_rate' : 0.0,\n",
    "    'norm_mode' : 'instance',\n",
    "    'mask_smoothing' : False,\n",
    "    'mask_smoothing_window_size' : 5,\n",
    "    'mask_smoothing_std' : 1.,\n",
    "    'mask_drop_scales' : [1, 5],\n",
    "    'mask_min_drop_rate' : 0.0,\n",
    "    'mask_max_drop_rate' : 0.5,\n",
    "    'label_input' : False\n",
    "}\n",
    "\n",
    "#Initialize scrambler\n",
    "scrambler = Scrambler(\n",
    "    n_inputs=2,\n",
    "    scrambler_mode='inclusion',\n",
    "    input_size_x=1,\n",
    "    input_size_y=205,\n",
    "    n_out_channels=4,\n",
    "    input_templates=[onehot_template for k in range(x_ref.shape[0])],\n",
    "    input_backgrounds=[x_mean[0, :, :] for k in range(x_ref.shape[0])],\n",
    "    batch_size=1,\n",
    "    n_samples=128,\n",
    "    multi_input_mode='shared',\n",
    "    sample_mode='gumbel',\n",
    "    gumbel_temp=0.1,\n",
    "    zeropad_input=False,\n",
    "    mask_dropout=False,\n",
    "    network_config=network_config,\n",
    "    subset_size=None\n",
    ")\n"
   ]
  },
  {
   "cell_type": "code",
   "execution_count": 20,
   "metadata": {
    "scrolled": false
   },
   "outputs": [
    {
     "name": "stdout",
     "output_type": "stream",
     "text": [
      "Optimizing batch 0...\n",
      "Epoch 1/1\n",
      "100/100 [==============================] - 11s 110ms/step - loss: 3.0895e-04 - ft_nll_loss: 2.2352e-04 - ft_entropy_loss: 8.5426e-05\n",
      "Epoch 1/1\n",
      "100/100 [==============================] - 6s 63ms/step - loss: 3.0386e-04 - ft_nll_loss: 2.2978e-04 - ft_entropy_loss: 7.4077e-05\n",
      "Optimizing batch 0...\n",
      "Epoch 1/1\n",
      "300/300 [==============================] - 22s 74ms/step - loss: 0.0933 - ft_nll_loss: 8.9173e-05 - ft_entropy_loss: 0.0932\n",
      "Epoch 1/1\n",
      "300/300 [==============================] - 18s 59ms/step - loss: 0.0973 - ft_nll_loss: 1.2582e-04 - ft_entropy_loss: 0.0971\n"
     ]
    }
   ],
   "source": [
    "#Round 1: Pre-training\n",
    "\n",
    "[pwm_ref_pre, pwm_var_pre], [sample_ref_pre, sample_var_pre], [scores_pre, _], pretrain_histories = scrambler.optimize(\n",
    "    predictor,\n",
    "    [x_ref, x_var],\n",
    "    np.zeros((x_ref.shape[0], 1)),\n",
    "    bias=[b + np.tile(cse_bias, (x_ref.shape[0], 1, 1, 1))],\n",
    "    group=[group, group],\n",
    "    batch_size=1,\n",
    "    n_iters=100,\n",
    "    norm_mode='instance',\n",
    "    adam_lr=0.01,\n",
    "    adam_beta_1=0.5,\n",
    "    adam_beta_2=0.9,\n",
    "    nll_mode='reconstruction',\n",
    "    predictor_task='regression',\n",
    "    entropy_mode='target',\n",
    "    entropy_bits=0.5,\n",
    "    entropy_weight=1.,\n",
    "    subset_size=None,\n",
    "    cache_prefix_path='saved_models/apa_vars_gtex',\n",
    "    load_from_cache=False,\n",
    ")\n",
    "\n",
    "#Round 2: Fine-tuning\n",
    "\n",
    "[pwm_ref_fine, pwm_var_fine], [sample_ref_fine, sample_var_fine], [scores_fine, _], finetune_histories = scrambler.optimize(\n",
    "    predictor,\n",
    "    [x_ref, x_var],\n",
    "    np.zeros((x_ref.shape[0], 1)),\n",
    "    bias=[b + np.tile(cse_bias, (x_ref.shape[0], 1, 1, 1))],\n",
    "    group=[group, group],\n",
    "    batch_size=1,\n",
    "    n_iters=300,\n",
    "    norm_mode='instance',\n",
    "    adam_lr=0.01,\n",
    "    adam_beta_1=0.5,\n",
    "    adam_beta_2=0.9,\n",
    "    nll_mode='reconstruction',\n",
    "    predictor_task='regression',\n",
    "    entropy_mode='maximization',\n",
    "    entropy_bits=0.0,\n",
    "    entropy_weight=0.5,\n",
    "    subset_size=None,\n",
    "    cache_prefix_path='saved_models/apa_vars_gtex',\n",
    "    load_from_cache=True,\n",
    ")\n"
   ]
  },
  {
   "cell_type": "code",
   "execution_count": 21,
   "metadata": {},
   "outputs": [
    {
     "data": {
      "text/plain": [
       "\"\\n#Load interpretations\\ncache_dict = pickle.load(open('apaiants_gtex_interpretations' + save_suffix + '.pickle', 'rb'))\\n\\npwm_ref_pre = cache_dict['pwm_ref_pre']\\npwm_var_pre = cache_dict['pwm_var_pre']\\n\\nsample_ref_pre = cache_dict['sample_ref_pre']\\nsample_var_pre = cache_dict['sample_var_pre']\\n\\nscores_pre = cache_dict['scores_pre']\\n\\npwm_ref_fine = cache_dict['pwm_ref_fine']\\npwm_var_fine = cache_dict['pwm_var_fine']\\n\\nsample_ref_fine = cache_dict['sample_ref_fine']\\nsample_var_fine = cache_dict['sample_var_fine']\\n\\nscores_fine = cache_dict['scores_fine']\\n\""
      ]
     },
     "execution_count": 21,
     "metadata": {},
     "output_type": "execute_result"
    }
   ],
   "source": [
    "#Cache interpretations\n",
    "\n",
    "save_suffix = '_per_example_inference_mode_brain'\n",
    "\n",
    "#Store interpretations\n",
    "pickle.dump({\n",
    "    'pwm_ref_pre' : pwm_ref_pre,\n",
    "    'pwm_var_pre' : pwm_var_pre,\n",
    "\n",
    "    'sample_ref_pre' : sample_ref_pre,\n",
    "    'sample_var_pre' : sample_var_pre,\n",
    "    \n",
    "    'scores_pre' : scores_pre,\n",
    "    \n",
    "    'pwm_ref_fine' : pwm_ref_fine,\n",
    "    'pwm_var_fine' : pwm_var_fine,\n",
    "\n",
    "    'sample_ref_fine' : sample_ref_fine,\n",
    "    'sample_var_fine' : sample_var_fine,\n",
    "\n",
    "    'scores_fine' : scores_fine,\n",
    "}, open('apaiants_gtex_interpretations' + save_suffix + '.pickle', 'wb'))\n",
    "\n",
    "'''\n",
    "#Load interpretations\n",
    "cache_dict = pickle.load(open('apaiants_gtex_interpretations' + save_suffix + '.pickle', 'rb'))\n",
    "\n",
    "pwm_ref_pre = cache_dict['pwm_ref_pre']\n",
    "pwm_var_pre = cache_dict['pwm_var_pre']\n",
    "\n",
    "sample_ref_pre = cache_dict['sample_ref_pre']\n",
    "sample_var_pre = cache_dict['sample_var_pre']\n",
    "\n",
    "scores_pre = cache_dict['scores_pre']\n",
    "\n",
    "pwm_ref_fine = cache_dict['pwm_ref_fine']\n",
    "pwm_var_fine = cache_dict['pwm_var_fine']\n",
    "\n",
    "sample_ref_fine = cache_dict['sample_ref_fine']\n",
    "sample_var_fine = cache_dict['sample_var_fine']\n",
    "\n",
    "scores_fine = cache_dict['scores_fine']\n",
    "'''"
   ]
  },
  {
   "cell_type": "code",
   "execution_count": 22,
   "metadata": {},
   "outputs": [
    {
     "data": {
      "image/png": "[encoded data removed]",
      "text/plain": [
       "<Figure size 576x216 with 2 Axes>"
      ]
     },
     "metadata": {},
     "output_type": "display_data"
    }
   ],
   "source": [
    "\n",
    "def _rolling_average(x, window=1) :\n",
    "    x_avg = []\n",
    "    \n",
    "    for j in range(x.shape[0]) :\n",
    "        j_min = max(j - window + 1, 0)\n",
    "        x_avg.append(np.mean(x[j_min:j+1]))\n",
    "    \n",
    "    return np.array(x_avg)\n",
    "\n",
    "f, (ax1, ax2) = plt.subplots(1, 2, figsize=(2 * 4, 3))\n",
    "\n",
    "n_epochs_actual = len(pretrain_histories[0]['ft_nll']) + len(finetune_histories[0]['ft_nll'])\n",
    "\n",
    "n_epochs_pretrain = len(pretrain_histories[0]['ft_nll'])\n",
    "n_epochs_finetune = len(finetune_histories[0]['ft_nll'])\n",
    "\n",
    "nll_rolling_window = 5\n",
    "entropy_rolling_window = 1\n",
    "\n",
    "for i in range(len(pretrain_histories)) :\n",
    "    ax1.plot(np.arange(1, n_epochs_actual + 1), _rolling_average(np.concatenate([np.array(pretrain_histories[i]['ft_nll']), np.array(finetune_histories[i]['ft_nll'])], axis=0), window=nll_rolling_window), linewidth=3)\n",
    "\n",
    "ax1.axvline(x=n_epochs_pretrain, linewidth=2, color='red', linestyle='--')\n",
    "\n",
    "plt.sca(ax1)\n",
    "plt.xlabel(\"Epochs\", fontsize=14)\n",
    "plt.ylabel(\"NLL\", fontsize=14)\n",
    "plt.xlim(1, n_epochs_actual)\n",
    "plt.xticks([1, n_epochs_actual], [1, n_epochs_actual], fontsize=12)\n",
    "plt.yticks(fontsize=12)\n",
    "\n",
    "for i in range(len(pretrain_histories)) :\n",
    "    ax2.plot(np.arange(1, n_epochs_actual + 1), _rolling_average(np.concatenate([np.array(pretrain_histories[i]['ft_entropy']), np.array(finetune_histories[i]['ft_entropy'])], axis=0), window=entropy_rolling_window), linewidth=3)\n",
    "\n",
    "ax2.axvline(x=n_epochs_pretrain, linewidth=2, color='red', linestyle='--')\n",
    "\n",
    "plt.sca(ax2)\n",
    "plt.xlabel(\"Epochs\", fontsize=14)\n",
    "plt.ylabel(\"Entropy Loss\", fontsize=14)\n",
    "plt.xlim(1, n_epochs_actual)\n",
    "plt.xticks([1, n_epochs_actual], [1, n_epochs_actual], fontsize=12)\n",
    "plt.yticks(fontsize=12)\n",
    "\n",
    "plt.tight_layout()\n",
    "\n",
    "plt.show()\n"
   ]
  },
  {
   "cell_type": "code",
   "execution_count": 24,
   "metadata": {
    "scrolled": false
   },
   "outputs": [
    {
     "name": "stdout",
     "output_type": "stream",
     "text": [
      "Sequence 0:\n",
      " - Prediction (original) = 0.1450\n",
      " - Prediction (scrambled) = 0.1468\n"
     ]
    },
    {
     "data": {
      "image/png": "[encoded data removed]",
      "text/plain": [
       "<Figure size 1008x46.8 with 1 Axes>"
      ]
     },
     "metadata": {},
     "output_type": "display_data"
    },
    {
     "data": {
      "image/png": "[encoded data removed]",
      "text/plain": [
       "<Figure size 1008x46.8 with 1 Axes>"
      ]
     },
     "metadata": {},
     "output_type": "display_data"
    },
    {
     "data": {
      "image/png": "[encoded data removed]",
      "text/plain": [
       "<Figure size 1008x46.8 with 1 Axes>"
      ]
     },
     "metadata": {},
     "output_type": "display_data"
    },
    {
     "data": {
      "image/png": "[encoded data removed]",
      "text/plain": [
       "<Figure size 1008x46.8 with 1 Axes>"
      ]
     },
     "metadata": {},
     "output_type": "display_data"
    },
    {
     "data": {
      "image/png": "[encoded data removed]",
      "text/plain": [
       "<Figure size 1008x46.8 with 1 Axes>"
      ]
     },
     "metadata": {},
     "output_type": "display_data"
    },
    {
     "data": {
      "image/png": "[encoded data removed]",
      "text/plain": [
       "<Figure size 1008x46.8 with 1 Axes>"
      ]
     },
     "metadata": {},
     "output_type": "display_data"
    },
    {
     "name": "stdout",
     "output_type": "stream",
     "text": [
      "Sequence 1:\n",
      " - Prediction (original) = -0.129\n",
      " - Prediction (scrambled) = -0.123\n"
     ]
    },
    {
     "data": {
      "image/png": "[encoded data removed]",
      "text/plain": [
       "<Figure size 1008x46.8 with 1 Axes>"
      ]
     },
     "metadata": {},
     "output_type": "display_data"
    },
    {
     "data": {
      "image/png": "[encoded data removed]",
      "text/plain": [
       "<Figure size 1008x46.8 with 1 Axes>"
      ]
     },
     "metadata": {},
     "output_type": "display_data"
    },
    {
     "data": {
      "image/png": "[encoded data removed]",
      "text/plain": [
       "<Figure size 1008x46.8 with 1 Axes>"
      ]
     },
     "metadata": {},
     "output_type": "display_data"
    },
    {
     "data": {
      "image/png": "[encoded data removed]",
      "text/plain": [
       "<Figure size 1008x46.8 with 1 Axes>"
      ]
     },
     "metadata": {},
     "output_type": "display_data"
    },
    {
     "data": {
      "image/png": "[encoded data removed]",
      "text/plain": [
       "<Figure size 1008x46.8 with 1 Axes>"
      ]
     },
     "metadata": {},
     "output_type": "display_data"
    },
    {
     "data": {
      "image/png": "[encoded data removed]",
      "text/plain": [
       "<Figure size 1008x46.8 with 1 Axes>"
      ]
     },
     "metadata": {},
     "output_type": "display_data"
    }
   ],
   "source": [
    "#Visualize a few reconstructed sequence patterns\n",
    "\n",
    "model_name = \"apa_vars_resnet_gtex_finetuned_brain\"\n",
    "\n",
    "pwm_ref_fine_no_bg = (2. * x_ref - 1.) * scores_fine * sequence_mask[None, None, :, None]\n",
    "pwm_ref_fine_no_bg = np.exp(pwm_ref_fine_no_bg) / np.sum(np.exp(pwm_ref_fine_no_bg), axis=-1)[..., None]\n",
    "\n",
    "pwm_var_fine_no_bg = (2. * x_var - 1.) * scores_fine * sequence_mask[None, None, :, None]\n",
    "pwm_var_fine_no_bg = np.exp(pwm_var_fine_no_bg) / np.sum(np.exp(pwm_var_fine_no_bg), axis=-1)[..., None]\n",
    "\n",
    "save_examples = [0, 1]\n",
    "\n",
    "q_thresh = 0.95\n",
    "\n",
    "for plot_i in range(x_ref.shape[0]) :\n",
    "    \n",
    "    print(\"Sequence \" + str(plot_i) + \":\")\n",
    "    \n",
    "    lor = predictor.predict(x=[x_ref[plot_i:plot_i+1], x_var[plot_i:plot_i+1]], batch_size=1)[0, 0]\n",
    "    lor_scrambled_fine = np.mean(predictor.predict(x=[sample_ref_fine[plot_i], sample_var_fine[plot_i]], batch_size=32)[:, 0])\n",
    "    \n",
    "    print(\" - Prediction (original) = \" + str(round(lor, 6))[:6])\n",
    "    print(\" - Prediction (scrambled) = \" + str(round(lor_scrambled_fine, 6))[:6])\n",
    "    \n",
    "    save_figs = False\n",
    "    if save_examples is not None and plot_i in save_examples :\n",
    "        save_figs = True\n",
    "    \n",
    "    score_clip = np.quantile(scores_fine[plot_i, 0, :, 0], q=q_thresh)\n",
    "    \n",
    "    plot_dna_logo(x_ref[plot_i, 0, :, :], sequence_template=sequence_template, figsize=(14, 0.65), plot_start=0, plot_end=205, plot_sequence_template=True, save_figs=save_figs, fig_name=model_name + \"_ix_\" + str(plot_i) + \"_ref\")\n",
    "    #plot_dna_logo(pwm_ref_fine[plot_i, 0, :, :], sequence_template=sequence_template, figsize=(14, 0.65), plot_start=0, plot_end=205, plot_sequence_template=True, save_figs=save_figs, fig_name=model_name + \"_ix_\" + str(plot_i) + \"_ref\" + \"_pwm\")\n",
    "    plot_dna_logo(pwm_ref_fine_no_bg[plot_i, 0, :, :], sequence_template=sequence_template, figsize=(14, 0.65), plot_start=0, plot_end=205, plot_sequence_template=True, save_figs=save_figs, fig_name=model_name + \"_ix_\" + str(plot_i) + \"_ref\" + \"_pwm\")\n",
    "    plot_dna_importance_scores(scores_fine[plot_i, 0, :, :].T, encoder.decode(x_ref[plot_i, 0, :, :]), figsize=(14, 0.65), score_clip=score_clip, sequence_template=sequence_template, plot_start=0, plot_end=205, save_figs=save_figs, fig_name=model_name + \"_ix_\" + str(plot_i) + \"_ref\" + \"_scores\")\n",
    "    \n",
    "    plot_dna_logo(x_var[plot_i, 0, :, :], sequence_template=sequence_template, figsize=(14, 0.65), plot_start=0, plot_end=205, plot_sequence_template=True, save_figs=save_figs, fig_name=model_name + \"_ix_\" + str(plot_i) + \"_var\")\n",
    "    #plot_dna_logo(pwm_var_fine[plot_i, 0, :, :], sequence_template=sequence_template, figsize=(14, 0.65), plot_start=0, plot_end=205, plot_sequence_template=True, save_figs=save_figs, fig_name=model_name + \"_ix_\" + str(plot_i) + \"_var\" + \"_pwm\")\n",
    "    plot_dna_logo(pwm_var_fine_no_bg[plot_i, 0, :, :], sequence_template=sequence_template, figsize=(14, 0.65), plot_start=0, plot_end=205, plot_sequence_template=True, save_figs=save_figs, fig_name=model_name + \"_ix_\" + str(plot_i) + \"_var\" + \"_pwm\")\n",
    "    plot_dna_importance_scores(scores_fine[plot_i, 0, :, :].T, encoder.decode(x_var[plot_i, 0, :, :]), figsize=(14, 0.65), score_clip=score_clip, sequence_template=sequence_template, plot_start=0, plot_end=205, save_figs=save_figs, fig_name=model_name + \"_ix_\" + str(plot_i) + \"_var\" + \"_scores\")\n"
   ]
  },
  {
   "cell_type": "code",
   "execution_count": null,
   "metadata": {},
   "outputs": [],
   "source": []
  }
 ],
 "metadata": {
  "kernelspec": {
   "display_name": "Environment (conda_tensorflow_p36)",
   "language": "python",
   "name": "conda_tensorflow_p36"
  },
  "language_info": {
   "codemirror_mode": {
    "name": "ipython",
    "version": 3
   },
   "file_extension": ".py",
   "mimetype": "text/x-python",
   "name": "python",
   "nbconvert_exporter": "python",
   "pygments_lexer": "ipython3",
   "version": "3.6.5"
  }
 },
 "nbformat": 4,
 "nbformat_minor": 2
}
