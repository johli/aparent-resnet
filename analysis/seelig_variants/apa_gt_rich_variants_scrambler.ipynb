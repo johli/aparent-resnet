{
 "cells": [
  {
   "cell_type": "code",
   "execution_count": 1,
   "metadata": {},
   "outputs": [
    {
     "name": "stderr",
     "output_type": "stream",
     "text": [
      "Using TensorFlow backend.\n"
     ]
    }
   ],
   "source": [
    "import keras\n",
    "from keras.models import Sequential, Model, load_model\n",
    "\n",
    "import os\n",
    "import pickle\n",
    "import numpy as np\n",
    "import pandas as pd\n",
    "\n",
    "import scipy.sparse as sp\n",
    "import scipy.io as spio\n",
    "\n",
    "import matplotlib.pyplot as plt\n",
    "\n",
    "from scrambler.models.scrambler_models_w_diff import *\n",
    "from scrambler.utils import OneHotEncoder, get_sequence_masks\n",
    "from scrambler.visualizations import plot_dna_logo, plot_dna_importance_scores\n"
   ]
  },
  {
   "cell_type": "code",
   "execution_count": 2,
   "metadata": {},
   "outputs": [],
   "source": [
    "#Variant data parameters\n",
    "\n",
    "isoform_pseudo_count = 1.\n",
    "proximal_start = 77\n",
    "proximal_end = 107#127\n"
   ]
  },
  {
   "cell_type": "code",
   "execution_count": 3,
   "metadata": {},
   "outputs": [
    {
     "name": "stderr",
     "output_type": "stream",
     "text": [
      "/home/ubuntu/anaconda3/envs/tensorflow_p36/lib/python3.6/site-packages/keras/engine/saving.py:292: UserWarning: No training configuration found in save file: the model was *not* compiled. Compile it manually.\n",
      "  warnings.warn('No training configuration found in save file: '\n"
     ]
    }
   ],
   "source": [
    "#Load APARENT Resnet\n",
    "\n",
    "model_name = 'aparent_all_libs_resnet_no_clinvar_wt_ep_5_var_batch_size_inference_mode_no_drop'\n",
    "\n",
    "save_dir = os.path.join(os.getcwd(), '../../../../autoscrambler/analysis/apa/saved_models')\n",
    "model_path = os.path.join(save_dir, model_name + '.h5')\n",
    "\n",
    "aparent_model = load_model(model_path)\n",
    "\n",
    "#Re-define model for variant lor prediction\n",
    "ref_input = Input(name=\"ref_input\", shape=(1, 205, 4))\n",
    "var_input = Input(name=\"var_input\", shape=(1, 205, 4))\n",
    "l_input = Input(name=\"l_input\", shape=(13,))\n",
    "\n",
    "ref_cut = aparent_model([ref_input, l_input])[1]\n",
    "var_cut = aparent_model([var_input, l_input])[1]\n",
    "\n",
    "def _lor(inp, iso_start=proximal_start, iso_end=proximal_end) :\n",
    "\n",
    "    cuts_ref, cuts_var = inp\n",
    "    \n",
    "    y_ref = K.sum(cuts_ref[:, iso_start:iso_end], axis=-1)[:, None]\n",
    "    y_var = K.sum(cuts_var[:, iso_start:iso_end], axis=-1)[:, None]\n",
    "    \n",
    "    y_ref = K.clip(y_ref, K.epsilon(), 1.0 - K.epsilon())\n",
    "    y_var = K.clip(y_var, K.epsilon(), 1.0 - K.epsilon())\n",
    "\n",
    "    lor = K.log(y_var / (1. - y_var)) - K.log(y_ref / (1. - y_ref))\n",
    "\n",
    "    return lor\n",
    "\n",
    "lor_pred = Lambda(_lor, name='lor')([ref_cut, var_cut])\n",
    "\n",
    "predictor = Model(\n",
    "    inputs=[ref_input, var_input, l_input],\n",
    "    outputs=[lor_pred]\n",
    ")\n",
    "\n",
    "predictor.trainable = False\n",
    "\n",
    "predictor.compile(\n",
    "    optimizer=keras.optimizers.SGD(lr=0.1),\n",
    "    loss='mean_squared_error'\n",
    ")\n"
   ]
  },
  {
   "cell_type": "code",
   "execution_count": 4,
   "metadata": {},
   "outputs": [
    {
     "name": "stdout",
     "output_type": "stream",
     "text": [
      "len(data_df) = 3\n"
     ]
    }
   ],
   "source": [
    "#Load GT-rich variant data\n",
    "\n",
    "data_df = pd.read_csv(\"apa_mpra_variants_dse_gt_rich_gain_w_cutsite.csv\", sep='\\t')\n",
    "\n",
    "data_df = data_df.query(\"delta_logodds_true > 0.5 and delta_logodds_pred > 0.5\")\n",
    "data_df = data_df.loc[data_df['gene'].isin([\"RB1.10\", \"MOCS2.2\", \"SMAD4.5\"])]\n",
    "\n",
    "data_df = data_df.sort_values(by='delta_logodds_pred', ascending=False)\n",
    "\n",
    "data_df = data_df.drop_duplicates(subset=['gene'], keep='first').copy().reset_index(drop=True)\n",
    "\n",
    "data_df['wt_seq'] = \"ACACGACGCTCTTCCGATCT\" + data_df['wt_seq'] + \"GGAGCAGATACTGGCTTAACT\"\n",
    "data_df['master_seq'] = \"ACACGACGCTCTTCCGATCT\" + data_df['master_seq'] + \"GGAGCAGATACTGGCTTAACT\"\n",
    "\n",
    "print(\"len(data_df) = \" + str(len(data_df)))\n"
   ]
  },
  {
   "cell_type": "code",
   "execution_count": 5,
   "metadata": {},
   "outputs": [
    {
     "data": {
      "text/html": [
       "<div>\n",
       "<style scoped>\n",
       "    .dataframe tbody tr th:only-of-type {\n",
       "        vertical-align: middle;\n",
       "    }\n",
       "\n",
       "    .dataframe tbody tr th {\n",
       "        vertical-align: top;\n",
       "    }\n",
       "\n",
       "    .dataframe thead th {\n",
       "        text-align: right;\n",
       "    }\n",
       "</style>\n",
       "<table border=\"1\" class=\"dataframe\">\n",
       "  <thead>\n",
       "    <tr style=\"text-align: right;\">\n",
       "      <th></th>\n",
       "      <th>gene</th>\n",
       "      <th>delta_logodds_true</th>\n",
       "      <th>delta_logodds_pred</th>\n",
       "      <th>clinvar_id</th>\n",
       "      <th>significance</th>\n",
       "    </tr>\n",
       "  </thead>\n",
       "  <tbody>\n",
       "    <tr>\n",
       "      <th>0</th>\n",
       "      <td>RB1.10</td>\n",
       "      <td>0.581111</td>\n",
       "      <td>0.927460</td>\n",
       "      <td>Missing</td>\n",
       "      <td>Missing</td>\n",
       "    </tr>\n",
       "    <tr>\n",
       "      <th>1</th>\n",
       "      <td>MOCS2.2</td>\n",
       "      <td>1.320972</td>\n",
       "      <td>0.688293</td>\n",
       "      <td>NM_002203.3(ITGA2):c.*3986A&gt;C</td>\n",
       "      <td>Benign</td>\n",
       "    </tr>\n",
       "    <tr>\n",
       "      <th>2</th>\n",
       "      <td>SMAD4.5</td>\n",
       "      <td>0.641447</td>\n",
       "      <td>0.553592</td>\n",
       "      <td>Missing</td>\n",
       "      <td>Missing</td>\n",
       "    </tr>\n",
       "  </tbody>\n",
       "</table>\n",
       "</div>"
      ],
      "text/plain": [
       "      gene  delta_logodds_true  delta_logodds_pred  \\\n",
       "0   RB1.10            0.581111            0.927460   \n",
       "1  MOCS2.2            1.320972            0.688293   \n",
       "2  SMAD4.5            0.641447            0.553592   \n",
       "\n",
       "                      clinvar_id significance  \n",
       "0                        Missing      Missing  \n",
       "1  NM_002203.3(ITGA2):c.*3986A>C       Benign  \n",
       "2                        Missing      Missing  "
      ]
     },
     "execution_count": 5,
     "metadata": {},
     "output_type": "execute_result"
    }
   ],
   "source": [
    "\n",
    "data_df[['gene', 'delta_logodds_true', 'delta_logodds_pred', 'clinvar_id', 'significance']]\n"
   ]
  },
  {
   "cell_type": "code",
   "execution_count": 6,
   "metadata": {
    "scrolled": true
   },
   "outputs": [
    {
     "name": "stdout",
     "output_type": "stream",
     "text": [
      "x_ref_sel.shape = (3, 1, 205, 4)\n",
      "x_ref_sel.shape = (3, 1, 205, 4)\n",
      "l_sel.shape = (3, 13)\n",
      "y_true_sel.shape = (3, 1)\n",
      "3/3 [==============================] - 2s 663ms/step\n"
     ]
    }
   ],
   "source": [
    "#Generate training and test set indexes\n",
    "\n",
    "#Load data matrices\n",
    "encoder = OneHotEncoder(seq_length=205, channel_map={'A' : 0, 'C' : 1, 'G' : 2, 'T' : 3})\n",
    "\n",
    "x_ref_sel = np.concatenate([encoder(row['wt_seq'])[None, None, ...] for _, row in data_df.iterrows()], axis=0)\n",
    "x_var_sel = np.concatenate([encoder(row['master_seq'])[None, None, ...] for _, row in data_df.iterrows()], axis=0)\n",
    "\n",
    "l_sel = np.zeros((x_ref_sel.shape[0], 13))\n",
    "l_sel[:, 11] = 1.\n",
    "\n",
    "b_sel = np.max(np.abs(x_ref_sel - x_var_sel), axis=-1, keepdims=True) * 50.\n",
    "\n",
    "y_true_sel = np.reshape(data_df['delta_logodds_true'].values, (len(data_df), 1))\n",
    "y_pred_sel = np.reshape(data_df['delta_logodds_pred'].values, (len(data_df), 1))\n",
    "\n",
    "print(\"x_ref_sel.shape = \" + str(x_ref_sel.shape))\n",
    "print(\"x_ref_sel.shape = \" + str(x_ref_sel.shape))\n",
    "print(\"l_sel.shape = \" + str(l_sel.shape))\n",
    "print(\"y_true_sel.shape = \" + str(y_true_sel.shape))\n",
    "\n",
    "#Overwrite with new resnet lor predictions\n",
    "\n",
    "y_pred_sel = predictor.predict(x=[x_ref_sel, x_var_sel, l_sel], batch_size=32, verbose=True)\n"
   ]
  },
  {
   "cell_type": "code",
   "execution_count": 7,
   "metadata": {},
   "outputs": [],
   "source": [
    "#Define sequence template and background\n",
    "\n",
    "sequence_template = 'ACACGACGCTCTTCCGATCT$$$$$$$$$$$$$$$$$$$$$$$$$$$$$$$$$$$$$$$$$$$$$$$$$$$$$$$$$$$$$$$$$$$$$$$$$$$$$$$$$$$$$$$$$$$$$$$$$$$$$$$$$$$$$$$$$$$$$$$$$$$$$$$$$$$$$$$$$$$$$$$$$$$$$$$$$$$$$$$$$$$$GGAGCAGATACTGGCTTAACT'\n",
    "\n",
    "pseudo_count = 1.0\n",
    "\n",
    "onehot_template = encoder(sequence_template)[None, ...]\n",
    "sequence_mask = get_sequence_masks([sequence_template])[0]\n",
    "\n",
    "x_mean = np.zeros((205, 4))\n",
    "\n",
    "#Set uniform background\n",
    "x_mean[:, :] = 0.25\n"
   ]
  },
  {
   "cell_type": "code",
   "execution_count": 8,
   "metadata": {},
   "outputs": [
    {
     "data": {
      "image/png": "[encoded data removed]",
      "text/plain": [
       "<Figure size 1008x46.8 with 1 Axes>"
      ]
     },
     "metadata": {},
     "output_type": "display_data"
    }
   ],
   "source": [
    "#Visualize background sequence distribution\n",
    "\n",
    "plot_dna_logo(np.copy(x_mean), sequence_template=sequence_template, figsize=(14, 0.65), logo_height=1.0, plot_start=0, plot_end=205)\n"
   ]
  },
  {
   "cell_type": "code",
   "execution_count": 9,
   "metadata": {},
   "outputs": [],
   "source": [
    "#Calculate biased, example-specific backgrounds\n",
    "\n",
    "pseudo_count = 1.0\n",
    "\n",
    "x_mean_sel = (x_ref_sel[:, 0, ...] + pseudo_count) / (1. + 4. * pseudo_count)\n",
    "\n",
    "#Lock background across CSE\n",
    "x_mean_sel[:, 70:76, :] = np.clip(x_ref_sel[:, 0, 70:76, :], 1e-7, 1. - 1e-7)\n",
    "\n",
    "group_sel = np.arange(x_mean_sel.shape[0])[:, None]\n"
   ]
  },
  {
   "cell_type": "code",
   "execution_count": 10,
   "metadata": {},
   "outputs": [],
   "source": [
    "#Run optimization with bias turned on across CSE, to reduce variance further\n",
    "\n",
    "cse_bias = np.zeros((1, 1, 205, 1))\n",
    "cse_bias[:, :, 70:76, :] = 50.\n"
   ]
  },
  {
   "cell_type": "code",
   "execution_count": 11,
   "metadata": {},
   "outputs": [
    {
     "name": "stderr",
     "output_type": "stream",
     "text": [
      "/home/ubuntu/anaconda3/envs/tensorflow_p36/lib/python3.6/site-packages/dask/dataframe/utils.py:14: FutureWarning: pandas.util.testing is deprecated. Use the functions in the public API at pandas.testing instead.\n",
      "  import pandas.util.testing as tm\n"
     ]
    },
    {
     "name": "stdout",
     "output_type": "stream",
     "text": [
      "\n",
      "WARNING: The TensorFlow contrib module will not be included in TensorFlow 2.0.\n",
      "For more information, please see:\n",
      "  * https://github.com/tensorflow/community/blob/master/rfcs/20180907-contrib-sunset.md\n",
      "  * https://github.com/tensorflow/addons\n",
      "If you depend on functionality not listed there, please file an issue.\n",
      "\n"
     ]
    }
   ],
   "source": [
    "#Build scrambler\n",
    "\n",
    "#Scrambler network configuration\n",
    "network_config = {\n",
    "    'n_groups' : 5,\n",
    "    'n_resblocks_per_group' : 4,\n",
    "    'n_channels' : 32,\n",
    "    'window_size' : 3,\n",
    "    'dilation_rates' : [1, 2, 4, 2, 1],\n",
    "    'drop_rate' : 0.0,\n",
    "    'norm_mode' : 'instance',\n",
    "    'mask_smoothing' : False,\n",
    "    'mask_smoothing_window_size' : 5,\n",
    "    'mask_smoothing_std' : 1.,\n",
    "    'mask_drop_scales' : [1, 5],\n",
    "    'mask_min_drop_rate' : 0.0,\n",
    "    'mask_max_drop_rate' : 0.5,\n",
    "    'label_input' : False\n",
    "}\n",
    "\n",
    "#Initialize scrambler\n",
    "scrambler = Scrambler(\n",
    "    n_inputs=2,\n",
    "    scrambler_mode='inclusion',\n",
    "    input_size_x=1,\n",
    "    input_size_y=205,\n",
    "    n_out_channels=4,\n",
    "    input_templates=[onehot_template for k in range(x_ref_sel.shape[0])],\n",
    "    input_backgrounds=[x_mean_sel[k, :, :] for k in range(x_ref_sel.shape[0])],\n",
    "    batch_size=1,\n",
    "    n_samples=128,\n",
    "    multi_input_mode='shared',\n",
    "    sample_mode='gumbel',\n",
    "    gumbel_temp=0.1,\n",
    "    zeropad_input=False,\n",
    "    mask_dropout=False,\n",
    "    network_config=network_config,\n",
    "    subset_size=None\n",
    ")\n"
   ]
  },
  {
   "cell_type": "code",
   "execution_count": 12,
   "metadata": {
    "scrolled": true
   },
   "outputs": [
    {
     "name": "stdout",
     "output_type": "stream",
     "text": [
      "Optimizing batch 0...\n",
      "Epoch 1/1\n",
      "100/100 [==============================] - 112s 1s/step - loss: 0.0236 - ft_nll_loss: 0.0232 - ft_entropy_loss: 3.7013e-04\n",
      "Epoch 1/1\n",
      "100/100 [==============================] - 103s 1s/step - loss: 0.0900 - ft_nll_loss: 0.0892 - ft_entropy_loss: 8.0988e-04\n",
      "Epoch 1/1\n",
      "100/100 [==============================] - 76s 758ms/step - loss: 0.0375 - ft_nll_loss: 0.0369 - ft_entropy_loss: 5.8766e-04\n",
      "Optimizing batch 0...\n",
      "Epoch 1/1\n",
      "300/300 [==============================] - 320s 1s/step - loss: 0.0812 - ft_nll_loss: 0.0170 - ft_entropy_loss: 0.0642\n",
      "Epoch 1/1\n",
      "300/300 [==============================] - 312s 1s/step - loss: 0.0948 - ft_nll_loss: 0.0273 - ft_entropy_loss: 0.0675\n",
      "Epoch 1/1\n",
      "300/300 [==============================] - 286s 955ms/step - loss: 0.0789 - ft_nll_loss: 0.0327 - ft_entropy_loss: 0.0462\n"
     ]
    }
   ],
   "source": [
    "#Round 1: Pre-training\n",
    "\n",
    "[pwm_ref_sel_pre, pwm_var_sel_pre], [sample_ref_sel_pre, sample_var_sel_pre], [scores_sel_pre, _], pretrain_histories = scrambler.optimize(\n",
    "    predictor,\n",
    "    [x_ref_sel, x_var_sel],\n",
    "    np.zeros((x_ref_sel.shape[0], 1)),\n",
    "    bias=[b_sel + cse_bias],\n",
    "    extra_input=[l_sel],\n",
    "    group=[group_sel, group_sel],\n",
    "    batch_size=1,\n",
    "    n_iters=100,\n",
    "    norm_mode='instance',\n",
    "    adam_lr=0.01,\n",
    "    adam_beta_1=0.5,\n",
    "    adam_beta_2=0.9,\n",
    "    nll_mode='reconstruction',\n",
    "    predictor_task='regression',\n",
    "    entropy_mode='target',\n",
    "    entropy_bits=0.5,\n",
    "    entropy_weight=1.,\n",
    "    subset_size=None,\n",
    "    cache_prefix_path='saved_models/apa_gt_vars',\n",
    "    load_from_cache=False,\n",
    ")\n",
    "\n",
    "#Round 2: Fine-tuning\n",
    "\n",
    "[pwm_ref_sel_fine, pwm_var_sel_fine], [sample_ref_sel_fine, sample_var_sel_fine], [scores_sel_fine, _], finetune_histories = scrambler.optimize(\n",
    "    predictor,\n",
    "    [x_ref_sel, x_var_sel],\n",
    "    np.zeros((x_ref_sel.shape[0], 1)),\n",
    "    bias=[b_sel + cse_bias],\n",
    "    extra_input=[l_sel],\n",
    "    group=[group_sel, group_sel],\n",
    "    batch_size=1,\n",
    "    n_iters=300,\n",
    "    norm_mode='instance',\n",
    "    adam_lr=0.01,\n",
    "    adam_beta_1=0.5,\n",
    "    adam_beta_2=0.9,\n",
    "    nll_mode='reconstruction',\n",
    "    predictor_task='regression',\n",
    "    entropy_mode='maximization',\n",
    "    entropy_bits=0.0,\n",
    "    entropy_weight=0.3,\n",
    "    subset_size=None,\n",
    "    cache_prefix_path='saved_models/apa_gt_vars',\n",
    "    load_from_cache=True,\n",
    ")\n"
   ]
  },
  {
   "cell_type": "code",
   "execution_count": 12,
   "metadata": {},
   "outputs": [],
   "source": [
    "#Cache interpretations\n",
    "\n",
    "save_suffix = '_per_example_no_drop_inference_mode_gt_vars'\n",
    "'''\n",
    "#Store interpretations\n",
    "pickle.dump({\n",
    "    'pwm_ref_sel_pre' : pwm_ref_sel_pre,\n",
    "    'pwm_var_sel_pre' : pwm_var_sel_pre,\n",
    "\n",
    "    'sample_ref_sel_pre' : sample_ref_sel_pre,\n",
    "    'sample_var_sel_pre' : sample_var_sel_pre,\n",
    "\n",
    "    'scores_sel_pre' : scores_sel_pre,\n",
    "    \n",
    "    'pwm_ref_sel_fine' : pwm_ref_sel_fine,\n",
    "    'pwm_var_sel_fine' : pwm_var_sel_fine,\n",
    "\n",
    "    'sample_ref_sel_fine' : sample_ref_sel_fine,\n",
    "    'sample_var_sel_fine' : sample_var_sel_fine,\n",
    "\n",
    "    'scores_sel_fine' : scores_sel_fine,\n",
    "}, open('apa_variants_mpra_interpretations_sel' + save_suffix + '.pickle', 'wb'))\n",
    "'''\n",
    "#Load interpretations\n",
    "cache_dict = pickle.load(open('apa_variants_mpra_interpretations_sel' + save_suffix + '.pickle', 'rb'))\n",
    "\n",
    "pwm_ref_sel_pre = cache_dict['pwm_ref_sel_pre']\n",
    "pwm_var_sel_pre = cache_dict['pwm_var_sel_pre']\n",
    "\n",
    "sample_ref_sel_pre = cache_dict['sample_ref_sel_pre']\n",
    "sample_var_sel_pre = cache_dict['sample_var_sel_pre']\n",
    "\n",
    "scores_sel_pre = cache_dict['scores_sel_pre']\n",
    "\n",
    "pwm_ref_sel_fine = cache_dict['pwm_ref_sel_fine']\n",
    "pwm_var_sel_fine = cache_dict['pwm_var_sel_fine']\n",
    "\n",
    "sample_ref_sel_fine = cache_dict['sample_ref_sel_fine']\n",
    "sample_var_sel_fine = cache_dict['sample_var_sel_fine']\n",
    "\n",
    "scores_sel_fine = cache_dict['scores_sel_fine']\n"
   ]
  },
  {
   "cell_type": "code",
   "execution_count": 14,
   "metadata": {},
   "outputs": [
    {
     "data": {
      "image/png": "[encoded data removed]",
      "text/plain": [
       "<Figure size 576x216 with 2 Axes>"
      ]
     },
     "metadata": {},
     "output_type": "display_data"
    }
   ],
   "source": [
    "\n",
    "def _rolling_average(x, window=1) :\n",
    "    x_avg = []\n",
    "    \n",
    "    for j in range(x.shape[0]) :\n",
    "        j_min = max(j - window + 1, 0)\n",
    "        x_avg.append(np.mean(x[j_min:j+1]))\n",
    "    \n",
    "    return np.array(x_avg)\n",
    "\n",
    "f, (ax1, ax2) = plt.subplots(1, 2, figsize=(2 * 4, 3))\n",
    "\n",
    "n_epochs_actual = len(pretrain_histories[0]['ft_nll']) + len(finetune_histories[0]['ft_nll'])\n",
    "\n",
    "n_epochs_pretrain = len(pretrain_histories[0]['ft_nll'])\n",
    "n_epochs_finetune = len(finetune_histories[0]['ft_nll'])\n",
    "\n",
    "nll_rolling_window = 5\n",
    "entropy_rolling_window = 1\n",
    "\n",
    "for i in range(len(pretrain_histories)) :\n",
    "    ax1.plot(np.arange(1, n_epochs_actual + 1), _rolling_average(np.concatenate([np.array(pretrain_histories[i]['ft_nll']), np.array(finetune_histories[i]['ft_nll'])], axis=0), window=nll_rolling_window), linewidth=3)\n",
    "\n",
    "ax1.axvline(x=n_epochs_pretrain, linewidth=2, color='red', linestyle='--')\n",
    "\n",
    "plt.sca(ax1)\n",
    "plt.xlabel(\"Epochs\", fontsize=14)\n",
    "plt.ylabel(\"NLL\", fontsize=14)\n",
    "plt.xlim(1, n_epochs_actual)\n",
    "plt.xticks([1, n_epochs_actual], [1, n_epochs_actual], fontsize=12)\n",
    "plt.yticks(fontsize=12)\n",
    "\n",
    "for i in range(len(pretrain_histories)) :\n",
    "    ax2.plot(np.arange(1, n_epochs_actual + 1), _rolling_average(np.concatenate([np.array(pretrain_histories[i]['ft_entropy']), np.array(finetune_histories[i]['ft_entropy'])], axis=0), window=entropy_rolling_window), linewidth=3)\n",
    "\n",
    "ax2.axvline(x=n_epochs_pretrain, linewidth=2, color='red', linestyle='--')\n",
    "\n",
    "plt.sca(ax2)\n",
    "plt.xlabel(\"Epochs\", fontsize=14)\n",
    "plt.ylabel(\"Entropy Loss\", fontsize=14)\n",
    "plt.xlim(1, n_epochs_actual)\n",
    "plt.xticks([1, n_epochs_actual], [1, n_epochs_actual], fontsize=12)\n",
    "plt.yticks(fontsize=12)\n",
    "\n",
    "plt.tight_layout()\n",
    "\n",
    "plt.show()\n"
   ]
  },
  {
   "cell_type": "code",
   "execution_count": 13,
   "metadata": {},
   "outputs": [],
   "source": [
    "#Mask out USE and DSE regions (do not consider CSE)\n",
    "sequence_mask_no_cse = np.copy(sequence_mask)\n",
    "sequence_mask_no_cse[70:76] = 0.\n",
    "\n",
    "#Subtract biases\n",
    "scores_sel_fine = scores_sel_fine - b_sel - cse_bias\n",
    "\n",
    "scores_sel_fine *= sequence_mask_no_cse[None, None, :, None]\n",
    "\n",
    "#Normalize to max score = 1\n",
    "scores_sel_fine /= np.max(scores_sel_fine, axis=(1, 2, 3), keepdims=True)\n"
   ]
  },
  {
   "cell_type": "code",
   "execution_count": 14,
   "metadata": {},
   "outputs": [],
   "source": [
    "#Cache scores\n",
    "save_name = 'apa_vars_gt_resnet_mpra_scrambler_shared'\n",
    "\n",
    "np.save(save_name + '_ref_scores', scores_sel_fine)\n",
    "np.save(save_name + '_var_scores', scores_sel_fine)\n",
    "np.save(save_name + '_scores', scores_sel_fine)\n",
    "\n",
    "#Load scores\n",
    "\n",
    "scores_sel_fine = np.load(save_name + '_scores.npy')\n"
   ]
  },
  {
   "cell_type": "code",
   "execution_count": 15,
   "metadata": {
    "scrolled": true
   },
   "outputs": [
    {
     "name": "stdout",
     "output_type": "stream",
     "text": [
      "Sequence 0:\n",
      "PAS ID RB1.10:\n",
      "ClinVar ID Missing:\n",
      "Significance Missing:\n",
      " - Prediction (original) = 0.9360\n",
      " - Prediction (scrambled) = 0.8825\n",
      " - Measured = 0.5811\n"
     ]
    },
    {
     "data": {
      "image/png": "[encoded data removed]",
      "text/plain": [
       "<Figure size 1008x46.8 with 1 Axes>"
      ]
     },
     "metadata": {},
     "output_type": "display_data"
    },
    {
     "data": {
      "image/png": "[encoded data removed]",
      "text/plain": [
       "<Figure size 1008x46.8 with 1 Axes>"
      ]
     },
     "metadata": {},
     "output_type": "display_data"
    },
    {
     "data": {
      "image/png": "[encoded data removed]",
      "text/plain": [
       "<Figure size 1008x46.8 with 1 Axes>"
      ]
     },
     "metadata": {},
     "output_type": "display_data"
    },
    {
     "data": {
      "image/png": "[encoded data removed]",
      "text/plain": [
       "<Figure size 1008x46.8 with 1 Axes>"
      ]
     },
     "metadata": {},
     "output_type": "display_data"
    },
    {
     "name": "stdout",
     "output_type": "stream",
     "text": [
      "Net Scores:\n"
     ]
    },
    {
     "data": {
      "image/png": "[encoded data removed]",
      "text/plain": [
       "<Figure size 1008x46.8 with 1 Axes>"
      ]
     },
     "metadata": {},
     "output_type": "display_data"
    },
    {
     "name": "stdout",
     "output_type": "stream",
     "text": [
      "Sequence 1:\n",
      "PAS ID MOCS2.2:\n",
      "ClinVar ID NM_002203.3(ITGA2):c.*3986A>C:\n",
      "Significance Benign:\n",
      " - Prediction (original) = 0.6842\n",
      " - Prediction (scrambled) = 0.5190\n",
      " - Measured = 1.3209\n"
     ]
    },
    {
     "data": {
      "image/png": "[encoded data removed]",
      "text/plain": [
       "<Figure size 1008x46.8 with 1 Axes>"
      ]
     },
     "metadata": {},
     "output_type": "display_data"
    },
    {
     "data": {
      "image/png": "[encoded data removed]",
      "text/plain": [
       "<Figure size 1008x46.8 with 1 Axes>"
      ]
     },
     "metadata": {},
     "output_type": "display_data"
    },
    {
     "data": {
      "image/png": "[encoded data removed]",
      "text/plain": [
       "<Figure size 1008x46.8 with 1 Axes>"
      ]
     },
     "metadata": {},
     "output_type": "display_data"
    },
    {
     "data": {
      "image/png": "[encoded data removed]",
      "text/plain": [
       "<Figure size 1008x46.8 with 1 Axes>"
      ]
     },
     "metadata": {},
     "output_type": "display_data"
    },
    {
     "name": "stdout",
     "output_type": "stream",
     "text": [
      "Net Scores:\n"
     ]
    },
    {
     "data": {
      "image/png": "[encoded data removed]",
      "text/plain": [
       "<Figure size 1008x46.8 with 1 Axes>"
      ]
     },
     "metadata": {},
     "output_type": "display_data"
    }
   ],
   "source": [
    "#Visualize a few reconstructed sequence patterns\n",
    "\n",
    "model_name = \"apa_vars_resnet_mpra_scrambler_shared_gt_vars\"\n",
    "\n",
    "plot_examples = [0, 1]\n",
    "save_examples = []#[0, 1]\n",
    "\n",
    "q_thresh = 1.0#0.95\n",
    "\n",
    "for plot_i in range(x_ref_sel.shape[0]) :\n",
    "    \n",
    "    if plot_i not in plot_examples :\n",
    "        continue\n",
    "    \n",
    "    print(\"Sequence \" + str(plot_i) + \":\")\n",
    "    print(\"PAS ID \" + data_df.iloc[plot_i]['gene'] + \":\")\n",
    "    print(\"ClinVar ID \" + data_df.iloc[plot_i]['clinvar_id'] + \":\")\n",
    "    print(\"Significance \" + data_df.iloc[plot_i]['significance'] + \":\")\n",
    "    \n",
    "    lor_sel = predictor.predict(x=[x_ref_sel[plot_i:plot_i+1], x_var_sel[plot_i:plot_i+1], l_sel[plot_i:plot_i+1]], batch_size=1)[0, 0]\n",
    "    lor_scrambled_sel_fine = np.mean(predictor.predict(x=[sample_ref_sel_fine[plot_i], sample_var_sel_fine[plot_i], np.tile(l_sel[plot_i:plot_i+1], (sample_ref_sel_fine.shape[1], 1))], batch_size=32)[:, 0])\n",
    "    \n",
    "    print(\" - Prediction (original) = \" + str(round(lor_sel, 6))[:6])\n",
    "    print(\" - Prediction (scrambled) = \" + str(round(lor_scrambled_sel_fine, 6))[:6])\n",
    "    \n",
    "    print(\" - Measured = \" + str(round(data_df.iloc[plot_i]['delta_logodds_true'], 6))[:6])\n",
    "    \n",
    "    save_figs = False\n",
    "    if save_examples is not None and plot_i in save_examples :\n",
    "        save_figs = True\n",
    "    \n",
    "    score_clip = np.quantile(scores_sel_fine[plot_i, 0, :, :], q=q_thresh)\n",
    "    \n",
    "    plot_dna_logo(x_ref_sel[plot_i, 0, :, :], sequence_template=sequence_template, figsize=(14, 0.65), plot_start=0, plot_end=205, plot_sequence_template=True, save_figs=save_figs, fig_name=model_name + \"_sel_ix_\" + str(plot_i) + \"_ref\")\n",
    "    plot_dna_logo(pwm_ref_sel_fine[plot_i, 0, :, :], sequence_template=sequence_template, figsize=(14, 0.65), plot_start=0, plot_end=205, plot_sequence_template=True, save_figs=save_figs, fig_name=model_name + \"_sel_ix_\" + str(plot_i) + \"_ref\" + \"_pwm\")\n",
    "    \n",
    "    plot_dna_logo(x_var_sel[plot_i, 0, :, :], sequence_template=sequence_template, figsize=(14, 0.65), plot_start=0, plot_end=205, plot_sequence_template=True, save_figs=save_figs, fig_name=model_name + \"_sel_ix_\" + str(plot_i) + \"_var\")\n",
    "    plot_dna_logo(pwm_var_sel_fine[plot_i, 0, :, :], sequence_template=sequence_template, figsize=(14, 0.65), plot_start=0, plot_end=205, plot_sequence_template=True, save_figs=save_figs, fig_name=model_name + \"_sel_ix_\" + str(plot_i) + \"_var\" + \"_pwm\")\n",
    "    \n",
    "    print(\"Net Scores:\")\n",
    "    plot_dna_importance_scores(scores_sel_fine[plot_i, 0, :, :].T, encoder.decode(x_ref_sel[plot_i, 0, :, :]), figsize=(14, 0.65), score_clip=score_clip, sequence_template=sequence_template, plot_start=0, plot_end=205, save_figs=save_figs, fig_name=model_name + \"_sel_ix_\" + str(plot_i) + \"_scores\")\n"
   ]
  },
  {
   "cell_type": "code",
   "execution_count": 15,
   "metadata": {},
   "outputs": [
    {
     "name": "stderr",
     "output_type": "stream",
     "text": [
      "/home/ubuntu/anaconda3/envs/tensorflow_p36/lib/python3.6/site-packages/keras/engine/saving.py:292: UserWarning: No training configuration found in save file: the model was *not* compiled. Compile it manually.\n",
      "  warnings.warn('No training configuration found in save file: '\n"
     ]
    }
   ],
   "source": [
    "#Load APARENT Resnet\n",
    "\n",
    "model_name = 'aparent_all_libs_resnet_no_clinvar_wt_ep_5_var_batch_size_inference_mode'\n",
    "\n",
    "save_dir = os.path.join(os.getcwd(), '../../../../autoscrambler/analysis/apa/saved_models')\n",
    "model_path = os.path.join(save_dir, model_name + '.h5')\n",
    "\n",
    "aparent_model = load_model(model_path)\n"
   ]
  },
  {
   "cell_type": "code",
   "execution_count": 16,
   "metadata": {},
   "outputs": [
    {
     "name": "stdout",
     "output_type": "stream",
     "text": [
      "x_mean.shape = (205, 4)\n"
     ]
    }
   ],
   "source": [
    "#Load human 3' UTR background distribution (from PolyaDB V3)\n",
    "\n",
    "x_mean = np.load(\"../../../../aparent-resnet/analysis/polyadb_v3_utr3_background.npy\")\n",
    "\n",
    "print(\"x_mean.shape = \" + str(x_mean.shape))\n"
   ]
  },
  {
   "cell_type": "code",
   "execution_count": 17,
   "metadata": {},
   "outputs": [
    {
     "data": {
      "image/png": "[encoded data removed]",
      "text/plain": [
       "<Figure size 576x288 with 1 Axes>"
      ]
     },
     "metadata": {},
     "output_type": "display_data"
    }
   ],
   "source": [
    "#Plot nt background frequencies across PAS\n",
    "\n",
    "f = plt.figure(figsize=(8, 4))\n",
    "\n",
    "l1 = plt.plot(np.arange(205), x_mean[:, 0], color='red', linewidth=2, label='A')\n",
    "l2 = plt.plot(np.arange(205), x_mean[:, 1], color='blue', linewidth=2, label='C')\n",
    "l3 = plt.plot(np.arange(205), x_mean[:, 2], color='orange', linewidth=2, label='G')\n",
    "l4 = plt.plot(np.arange(205), x_mean[:, 3], color='darkgreen', linewidth=2, label='T')\n",
    "\n",
    "plt.axvline(x=70, color='black', linewidth=2, linestyle='--', alpha=0.5)\n",
    "plt.axvline(x=76, color='black', linewidth=2, linestyle='--', alpha=0.5)\n",
    "\n",
    "plt.legend(handles=[l1[0], l2[0], l3[0], l4[0]], fontsize=12)\n",
    "\n",
    "plt.xticks([0, 70, 76, 146], ['-70', 'CSE', 'CSE', '+70'], fontsize=12, rotation=45)\n",
    "plt.yticks(fontsize=12)\n",
    "\n",
    "plt.xlabel(\"Position\", fontsize=12)\n",
    "plt.xlabel(\"Nt Frequency\", fontsize=12)\n",
    "\n",
    "plt.xlim(0, 205)\n",
    "plt.ylim(0, 1)\n",
    "\n",
    "plt.tight_layout()\n",
    "\n",
    "plt.show()\n"
   ]
  },
  {
   "cell_type": "code",
   "execution_count": 21,
   "metadata": {},
   "outputs": [
    {
     "name": "stdout",
     "output_type": "stream",
     "text": [
      "[ix = 0]NNNNNNNNNNNNNNNNNNNNNNNNNNNNNNNNNNNNNNNNNNNNNNNNNNNNNNNNNNNNNNNTTTTTNNNNNNNNNNNNNNNNNNNCAAAGTATGTCAGATNNNTTATTNNNNNNNNNNNNNNNNNNNNNNNNNNNNNNNNNNNNNNNNNNNNNNNNNNNNNNNNNNNNNNNNNNNNNNNNNNNNNNNNNNNNNNNNNNNNNNN\n",
      "86/86 [==============================] - 0s 4ms/step\n",
      "86/86 [==============================] - 0s 4ms/step\n",
      "len(library_df) = 86\n",
      "[ix = 1]NNNNNNNNNNNNNNNNNNNNNNNNNNNNNNNNNNNNNNNNNNNNNNNNNNNNNNNNNNNTTTTTNNNNNNNNNNNNNNNNNNNNNNNNNNNAACTTTTTGTACNNNNNTGCATTTATTNNNNNNNNNNNNNNNNNNNNNNNNNNNNNNNNNNNNNNNNNNNNNNNNNNNNNNNNNNNNNNNNNNNNNNNNNNNNNNNNNNNNNNN\n",
      "86/86 [==============================] - 0s 4ms/step\n",
      "86/86 [==============================] - 0s 4ms/step\n",
      "len(library_df) = 86\n"
     ]
    }
   ],
   "source": [
    "#Mask interpretations (CSEs)\n",
    "\n",
    "plot_examples = [0, 1]\n",
    "\n",
    "include_regions = [\n",
    "    [76, 94],\n",
    "    [76, 94],\n",
    "]\n",
    "\n",
    "for ix in plot_examples :\n",
    "\n",
    "    gene = data_df.iloc[ix]['gene'].split(\".\")[0]\n",
    "    gene_id = data_df.iloc[ix]['gene']\n",
    "    chrom = \"missing\"\n",
    "    strand = \".\"\n",
    "    var_position = -1\n",
    "    rel_var_position = np.argmax(b_sel[ix, 0, :, 0])\n",
    "    pas_pos = -1\n",
    "    snp_id = data_df.iloc[ix]['clinvar_id']\n",
    "    ref_nucleotide = \"?\"\n",
    "    var_nucleotide = \"?\"\n",
    "    rel_ref_nucleotide = data_df.iloc[ix]['wt_seq'][data_df.iloc[ix]['snv_pos']+20]\n",
    "    rel_var_nucleotide = data_df.iloc[ix]['master_seq'][data_df.iloc[ix]['snv_pos']+20]\n",
    "    data_source = 'gt'\n",
    "    experiment = 'interaction'\n",
    "\n",
    "    #Get hard mask\n",
    "    score_thresh = 0.1#0.2\n",
    "    mask = np.array(scores_sel_fine[ix, 0, :, 0] > score_thresh, dtype=np.int)\n",
    "\n",
    "    no_gaps = True\n",
    "    no_single_nt = True\n",
    "\n",
    "    if no_gaps :    \n",
    "        for j in range(mask.shape[0]) :\n",
    "            if (j-1 < 0 or mask[j-1] >= 1) and mask[j] <= 0 and (j+1 > mask.shape[0]-1 or mask[j+1] >= 1) :\n",
    "                mask[j] = 1\n",
    "    if no_single_nt :\n",
    "        for j in range(mask.shape[0]) :\n",
    "            if (j-1 < 0 or mask[j-1] <= 0) and mask[j] >= 1 and (j+1 > mask.shape[0]-1 or mask[j+1] <= 0) :\n",
    "                mask[j] = 0\n",
    "\n",
    "    #1. Ref sequence and variant sequence\n",
    "\n",
    "    ref_seq = encoder.decode(x_ref_sel[ix, 0, :, :])\n",
    "    var_seq = encoder.decode(x_var_sel[ix, 0, :, :])\n",
    "    \n",
    "    #Debug: print hard-masked region\n",
    "    print_str = \"[ix = \" + str(ix) + \"]\"\n",
    "    for j in range(mask.shape[0]) :\n",
    "        if mask[j] == 1 :\n",
    "            print_str += ref_seq[j]\n",
    "        else :\n",
    "            print_str += \"N\"\n",
    "    \n",
    "    print(print_str)\n",
    "\n",
    "    #2. Sample from reconstructive PWM (ref), induce mutation\n",
    "\n",
    "    n_samples = 10\n",
    "\n",
    "    bases = ['A', 'C', 'G', 'T']\n",
    "\n",
    "    mask_pwm_ref_samples = []\n",
    "    mask_pwm_var_samples = []\n",
    "\n",
    "    for sample_ix in range(n_samples) :\n",
    "\n",
    "        ref_sample = \"\"\n",
    "        for j in range(len(ref_seq)) :\n",
    "            ref_sample += np.random.choice(bases, p=pwm_ref_sel_fine[ix, 0, j, :] / np.sum(pwm_ref_sel_fine[ix, 0, j, :], axis=-1))\n",
    "\n",
    "        ref_sample = ref_sample[:rel_var_position] + ref_seq[rel_var_position] + ref_sample[rel_var_position+1:]\n",
    "        var_sample = ref_sample[:rel_var_position] + rel_var_nucleotide + ref_sample[rel_var_position+1:]\n",
    "\n",
    "        mask_pwm_ref_samples.append(ref_sample)\n",
    "        mask_pwm_var_samples.append(var_sample)\n",
    "\n",
    "    #3. Delete region specified by importance mask (ref), induce mutation\n",
    "\n",
    "    n_samples = 10\n",
    "\n",
    "    bases = ['A', 'C', 'G', 'T']\n",
    "\n",
    "    mask_delete_ref_samples = []\n",
    "    mask_delete_var_samples = []\n",
    "\n",
    "    for sample_ix in range(n_samples) :\n",
    "\n",
    "        ref_sample = ref_seq[:]\n",
    "\n",
    "        #Delete nucleotides specified by importance mask\n",
    "        for j in range(len(ref_seq)) :\n",
    "            if mask[j] >= 1 :\n",
    "                ref_sample = ref_sample[:j] + np.random.choice(bases) + ref_sample[j+1:]\n",
    "\n",
    "        ref_sample = ref_sample[:rel_var_position] + ref_seq[rel_var_position] + ref_sample[rel_var_position+1:]\n",
    "        var_sample = ref_sample[:rel_var_position] + rel_var_nucleotide + ref_sample[rel_var_position+1:]\n",
    "\n",
    "        mask_delete_ref_samples.append(ref_sample)\n",
    "        mask_delete_var_samples.append(var_sample)\n",
    "\n",
    "    #4. Impose mask on dinuc-shuffled background (ref), induce mutation\n",
    "\n",
    "    import random\n",
    "\n",
    "    n_samples = 10\n",
    "\n",
    "    bases = ['A', 'C', 'G', 'T']\n",
    "\n",
    "    mask_dinuc_ref_samples = []\n",
    "    mask_dinuc_var_samples = []\n",
    "\n",
    "    for sample_ix in range(n_samples) :\n",
    "\n",
    "        ref_sample = \"\"\n",
    "\n",
    "        seq_parts = [(ref_seq + \"T\")[j:j+2] for j in range(0, len((ref_seq + \"T\")) - 1, 2)]\n",
    "        random.shuffle(seq_parts)\n",
    "\n",
    "        ref_sample = (\"\".join(seq_parts))[:205]\n",
    "\n",
    "        #Insert fixed sequence region (CSE)\n",
    "        ref_sample = ref_sample[:70] + ref_seq[70:76] + ref_sample[76:]\n",
    "\n",
    "        #Insert fixed nucleotides from importance mask\n",
    "        for j in range(len(ref_seq)) :\n",
    "            if mask[j] >= 1 :\n",
    "                ref_sample = ref_sample[:j] + ref_seq[j] + ref_sample[j+1:]\n",
    "\n",
    "        ref_sample = ref_sample[:rel_var_position] + ref_seq[rel_var_position] + ref_sample[rel_var_position+1:]\n",
    "        var_sample = ref_sample[:rel_var_position] + rel_var_nucleotide + ref_sample[rel_var_position+1:]\n",
    "\n",
    "        mask_dinuc_ref_samples.append(ref_sample)\n",
    "        mask_dinuc_var_samples.append(var_sample)\n",
    "\n",
    "    #5. Null dinuc-shuffled background (ref), induce mutation\n",
    "\n",
    "    import random\n",
    "\n",
    "    n_samples = 10\n",
    "\n",
    "    bases = ['A', 'C', 'G', 'T']\n",
    "\n",
    "    null_dinuc_ref_samples = []\n",
    "    null_dinuc_var_samples = []\n",
    "\n",
    "    for sample_ix in range(n_samples) :\n",
    "\n",
    "        ref_sample = \"\"\n",
    "\n",
    "        seq_parts = [(ref_seq + \"T\")[j:j+2] for j in range(0, len((ref_seq + \"T\")) - 1, 2)]\n",
    "        random.shuffle(seq_parts)\n",
    "\n",
    "        ref_sample = (\"\".join(seq_parts))[:205]\n",
    "\n",
    "        #Insert fixed sequence region (CSE)\n",
    "        ref_sample = ref_sample[:70] + ref_seq[70:76] + ref_sample[76:]\n",
    "\n",
    "        ref_sample = ref_sample[:rel_var_position] + ref_seq[rel_var_position] + ref_sample[rel_var_position+1:]\n",
    "        var_sample = ref_sample[:rel_var_position] + rel_var_nucleotide + ref_sample[rel_var_position+1:]\n",
    "\n",
    "        null_dinuc_ref_samples.append(ref_sample)\n",
    "        null_dinuc_var_samples.append(var_sample)\n",
    "\n",
    "    #6. Impose mask on polyadb background (ref), induce mutation\n",
    "\n",
    "    n_samples = 10\n",
    "\n",
    "    bases = ['A', 'C', 'G', 'T']\n",
    "\n",
    "    mask_polyadb_ref_samples = []\n",
    "    mask_polyadb_var_samples = []\n",
    "\n",
    "    for sample_ix in range(n_samples) :\n",
    "\n",
    "        ref_sample = \"\"\n",
    "        for j in range(len(ref_seq)) :\n",
    "            ref_sample += np.random.choice(bases, p=x_mean[j, :] / np.sum(x_mean[j, :], axis=-1))\n",
    "\n",
    "        #Insert fixed sequence region (CSE)\n",
    "        ref_sample = ref_sample[:70] + ref_seq[70:76] + ref_sample[76:]\n",
    "\n",
    "        #Insert fixed nucleotides from importance mask\n",
    "        for j in range(len(ref_seq)) :\n",
    "            if mask[j] >= 1 :\n",
    "                ref_sample = ref_sample[:j] + ref_seq[j] + ref_sample[j+1:]\n",
    "\n",
    "        ref_sample = ref_sample[:rel_var_position] + ref_seq[rel_var_position] + ref_sample[rel_var_position+1:]\n",
    "        var_sample = ref_sample[:rel_var_position] + rel_var_nucleotide + ref_sample[rel_var_position+1:]\n",
    "\n",
    "        mask_polyadb_ref_samples.append(ref_sample)\n",
    "        mask_polyadb_var_samples.append(var_sample)\n",
    "\n",
    "    #7. Impose mask on polyadb background (ref), induce mutation\n",
    "\n",
    "    n_samples = 10\n",
    "\n",
    "    bases = ['A', 'C', 'G', 'T']\n",
    "\n",
    "    null_polyadb_ref_samples = []\n",
    "    null_polyadb_var_samples = []\n",
    "\n",
    "    for sample_ix in range(n_samples) :\n",
    "\n",
    "        ref_sample = \"\"\n",
    "        for j in range(len(ref_seq)) :\n",
    "            ref_sample += np.random.choice(bases, p=x_mean[j, :] / np.sum(x_mean[j, :], axis=-1))\n",
    "\n",
    "        #Insert fixed sequence region (CSE)\n",
    "        ref_sample = ref_sample[:70] + ref_seq[70:76] + ref_sample[76:]\n",
    "\n",
    "        ref_sample = ref_sample[:rel_var_position] + ref_seq[rel_var_position] + ref_sample[rel_var_position+1:]\n",
    "        var_sample = ref_sample[:rel_var_position] + rel_var_nucleotide + ref_sample[rel_var_position+1:]\n",
    "\n",
    "        null_polyadb_ref_samples.append(ref_sample)\n",
    "        null_polyadb_var_samples.append(var_sample)\n",
    "\n",
    "    #8. Impose mask on unif background (ref), induce mutation\n",
    "\n",
    "    n_samples = 10\n",
    "\n",
    "    bases = ['A', 'C', 'G', 'T']\n",
    "\n",
    "    mask_unif_ref_samples = []\n",
    "    mask_unif_var_samples = []\n",
    "\n",
    "    for sample_ix in range(n_samples) :\n",
    "\n",
    "        ref_sample = \"\"\n",
    "        for j in range(len(ref_seq)) :\n",
    "            ref_sample += np.random.choice(bases)\n",
    "\n",
    "        #Insert fixed sequence region (CSE)\n",
    "        ref_sample = ref_sample[:70] + ref_seq[70:76] + ref_sample[76:]\n",
    "\n",
    "        #Insert fixed nucleotides from importance mask\n",
    "        for j in range(len(ref_seq)) :\n",
    "            if mask[j] >= 1 :\n",
    "                ref_sample = ref_sample[:j] + ref_seq[j] + ref_sample[j+1:]\n",
    "\n",
    "        ref_sample = ref_sample[:rel_var_position] + ref_seq[rel_var_position] + ref_sample[rel_var_position+1:]\n",
    "        var_sample = ref_sample[:rel_var_position] + rel_var_nucleotide + ref_sample[rel_var_position+1:]\n",
    "\n",
    "        mask_unif_ref_samples.append(ref_sample)\n",
    "        mask_unif_var_samples.append(var_sample)\n",
    "\n",
    "    #9. Impose mask on unif background (ref), induce mutation\n",
    "\n",
    "    n_samples = 10\n",
    "\n",
    "    bases = ['A', 'C', 'G', 'T']\n",
    "\n",
    "    null_unif_ref_samples = []\n",
    "    null_unif_var_samples = []\n",
    "\n",
    "    for sample_ix in range(n_samples) :\n",
    "\n",
    "        ref_sample = \"\"\n",
    "        for j in range(len(ref_seq)) :\n",
    "            ref_sample += np.random.choice(bases)\n",
    "\n",
    "        #Insert fixed sequence region (CSE)\n",
    "        ref_sample = ref_sample[:70] + ref_seq[70:76] + ref_sample[76:]\n",
    "\n",
    "        ref_sample = ref_sample[:rel_var_position] + ref_seq[rel_var_position] + ref_sample[rel_var_position+1:]\n",
    "        var_sample = ref_sample[:rel_var_position] + rel_var_nucleotide + ref_sample[rel_var_position+1:]\n",
    "\n",
    "        null_unif_ref_samples.append(ref_sample)\n",
    "        null_unif_var_samples.append(var_sample)\n",
    "\n",
    "    #10. Delete region specified by importance mask (ref), induce mutation (exclude partial mask region)\n",
    "\n",
    "    #mask_no_use = np.copy(mask)\n",
    "    #mask_no_use[exclude_regions[ix][0]:exclude_regions[ix][1]] = 0.\n",
    "    mask_no_use = np.zeros(mask.shape)\n",
    "    mask_no_use[include_regions[ix][0]:include_regions[ix][1]] = mask[include_regions[ix][0]:include_regions[ix][1]]\n",
    "    \n",
    "    n_samples = 5\n",
    "\n",
    "    bases = ['C', 'G'] #'A', 'T'\n",
    "\n",
    "    mask_no_use_delete_ref_samples = []\n",
    "    mask_no_use_delete_var_samples = []\n",
    "\n",
    "    for sample_ix in range(n_samples) :\n",
    "\n",
    "        ref_sample = ref_seq[:]\n",
    "\n",
    "        #Delete nucleotides specified by importance mask\n",
    "        for j in range(len(ref_seq)) :\n",
    "            if mask_no_use[j] >= 1 :\n",
    "                ref_sample = ref_sample[:j] + np.random.choice(bases) + ref_sample[j+1:]\n",
    "\n",
    "        ref_sample = ref_sample[:rel_var_position] + ref_seq[rel_var_position] + ref_sample[rel_var_position+1:]\n",
    "        var_sample = ref_sample[:rel_var_position] + rel_var_nucleotide + ref_sample[rel_var_position+1:]\n",
    "\n",
    "        mask_no_use_delete_ref_samples.append(ref_sample)\n",
    "        mask_no_use_delete_var_samples.append(var_sample)\n",
    "\n",
    "    #Compile variant sequence library\n",
    "\n",
    "    library_df = pd.DataFrame({\n",
    "        'gene'      : [gene] + [gene] * len(mask_pwm_ref_samples) + [gene] * len(mask_delete_ref_samples) + [gene] * len(mask_dinuc_ref_samples) + [gene] * len(null_dinuc_ref_samples) + [gene] * len(mask_polyadb_ref_samples) + [gene] * len(null_polyadb_ref_samples) + [gene] * len(mask_unif_ref_samples) + [gene] * len(null_unif_ref_samples) + [gene] * len(mask_no_use_delete_ref_samples),\n",
    "        'gene_id'   : [gene_id] + [gene_id] * len(mask_pwm_ref_samples) + [gene_id] * len(mask_delete_ref_samples) + [gene_id] * len(mask_dinuc_ref_samples) + [gene_id] * len(null_dinuc_ref_samples) + [gene_id] * len(mask_polyadb_ref_samples) + [gene_id] * len(null_polyadb_ref_samples) + [gene_id] * len(mask_unif_ref_samples) + [gene_id] * len(null_unif_ref_samples) + [gene_id] * len(mask_no_use_delete_ref_samples),\n",
    "\n",
    "        'chrom'     : [chrom] + [chrom] * len(mask_pwm_ref_samples) + [chrom] * len(mask_delete_ref_samples) + [chrom] * len(mask_dinuc_ref_samples) + [chrom] * len(null_dinuc_ref_samples) + [chrom] * len(mask_polyadb_ref_samples) + [chrom] * len(null_polyadb_ref_samples) + [chrom] * len(mask_unif_ref_samples) + [chrom] * len(null_unif_ref_samples) + [chrom] * len(mask_no_use_delete_ref_samples),\n",
    "        'strand'    : [strand] + [strand] * len(mask_pwm_ref_samples) + [strand] * len(mask_delete_ref_samples) + [strand] * len(mask_dinuc_ref_samples) + [strand] * len(null_dinuc_ref_samples) + [strand] * len(mask_polyadb_ref_samples) + [strand] * len(null_polyadb_ref_samples) + [strand] * len(mask_unif_ref_samples) + [strand] * len(null_unif_ref_samples) + [strand] * len(mask_no_use_delete_ref_samples),\n",
    "        'snp_id'    : [snp_id] + [snp_id] * len(mask_pwm_ref_samples) + [snp_id] * len(mask_delete_ref_samples) + [snp_id] * len(mask_dinuc_ref_samples) + [snp_id] * len(null_dinuc_ref_samples) + [snp_id] * len(mask_polyadb_ref_samples) + [snp_id] * len(null_polyadb_ref_samples) + [snp_id] * len(mask_unif_ref_samples) + [snp_id] * len(null_unif_ref_samples) + [snp_id] * len(mask_no_use_delete_ref_samples),\n",
    "\n",
    "        'data_source' : [data_source] + [data_source] * len(mask_pwm_ref_samples) + [data_source] * len(mask_delete_ref_samples) + [data_source] * len(mask_dinuc_ref_samples) + [data_source] * len(null_dinuc_ref_samples) + [data_source] * len(mask_polyadb_ref_samples) + [data_source] * len(null_polyadb_ref_samples) + [data_source] * len(mask_unif_ref_samples) + [data_source] * len(null_unif_ref_samples) + [data_source] * len(mask_no_use_delete_ref_samples),\n",
    "        'experiment'  : [experiment + \"_variant\"] + [experiment + \"_mask_pwm\"] * len(mask_pwm_ref_samples) + [experiment + \"_mask_delete\"] * len(mask_delete_ref_samples) + [experiment + \"_mask_dinuc\"] * len(mask_dinuc_ref_samples) + [experiment + \"_null_dinuc\"] * len(null_dinuc_ref_samples) + [experiment + \"_mask_polyadb\"] * len(mask_polyadb_ref_samples) + [experiment + \"_null_polyadb\"] * len(null_polyadb_ref_samples) + [experiment + \"_mask_unif\"] * len(mask_unif_ref_samples) + [experiment + \"_null_unif\"] * len(null_unif_ref_samples) + [experiment + \"_mask_delete_no_use\"] * len(mask_no_use_delete_ref_samples),\n",
    "\n",
    "        'pas_pos'           : [pas_pos] + [pas_pos] * len(mask_pwm_ref_samples) + [pas_pos] * len(mask_delete_ref_samples) + [pas_pos] * len(mask_dinuc_ref_samples) + [pas_pos] * len(null_dinuc_ref_samples) + [pas_pos] * len(mask_polyadb_ref_samples) + [pas_pos] * len(null_polyadb_ref_samples) + [pas_pos] * len(mask_unif_ref_samples) + [pas_pos] * len(null_unif_ref_samples) + [pas_pos] * len(mask_no_use_delete_ref_samples),\n",
    "        'pas_pos_hg38'      : [-1] + [-1] * len(mask_pwm_ref_samples) + [-1] * len(mask_delete_ref_samples) + [-1] * len(mask_dinuc_ref_samples) + [-1] * len(null_dinuc_ref_samples) + [-1] * len(mask_polyadb_ref_samples) + [-1] * len(null_polyadb_ref_samples) + [-1] * len(mask_unif_ref_samples) + [-1] * len(null_unif_ref_samples) + [-1] * len(mask_no_use_delete_ref_samples),\n",
    "        'var_position'      : [var_position] + [var_position] * len(mask_pwm_ref_samples) + [var_position] * len(mask_delete_ref_samples) + [var_position] * len(mask_dinuc_ref_samples) + [var_position] * len(null_dinuc_ref_samples) + [var_position] * len(mask_polyadb_ref_samples) + [var_position] * len(null_polyadb_ref_samples) + [var_position] * len(mask_unif_ref_samples) + [var_position] * len(null_unif_ref_samples) + [var_position] * len(mask_no_use_delete_ref_samples),\n",
    "        'var_position_hg38' : [-1] + [-1] * len(mask_pwm_ref_samples) + [-1] * len(mask_delete_ref_samples) + [-1] * len(mask_dinuc_ref_samples) + [-1] * len(null_dinuc_ref_samples) + [-1] * len(mask_polyadb_ref_samples) + [-1] * len(null_polyadb_ref_samples) + [-1] * len(mask_unif_ref_samples) + [-1] * len(null_unif_ref_samples) + [-1] * len(mask_no_use_delete_ref_samples),\n",
    "        'rel_var_position'  : [rel_var_position] + [rel_var_position] * len(mask_pwm_ref_samples) + [rel_var_position] * len(mask_delete_ref_samples) + [rel_var_position] * len(mask_dinuc_ref_samples) + [rel_var_position] * len(null_dinuc_ref_samples) + [rel_var_position] * len(mask_polyadb_ref_samples) + [rel_var_position] * len(null_polyadb_ref_samples) + [rel_var_position] * len(mask_unif_ref_samples) + [rel_var_position] * len(null_unif_ref_samples) + [rel_var_position] * len(mask_no_use_delete_ref_samples),\n",
    "        'ref_nucleotide'    : [ref_nucleotide] + [ref_nucleotide] * len(mask_pwm_ref_samples) + [ref_nucleotide] * len(mask_delete_ref_samples) + [ref_nucleotide] * len(mask_dinuc_ref_samples) + [ref_nucleotide] * len(null_dinuc_ref_samples) + [ref_nucleotide] * len(mask_polyadb_ref_samples) + [ref_nucleotide] * len(null_polyadb_ref_samples) + [ref_nucleotide] * len(mask_unif_ref_samples) + [ref_nucleotide] * len(null_unif_ref_samples) + [ref_nucleotide] * len(mask_no_use_delete_ref_samples),\n",
    "        'var_nucleotide'    : [var_nucleotide] + [var_nucleotide] * len(mask_pwm_ref_samples) + [var_nucleotide] * len(mask_delete_ref_samples) + [var_nucleotide] * len(mask_dinuc_ref_samples) + [var_nucleotide] * len(null_dinuc_ref_samples) + [var_nucleotide] * len(mask_polyadb_ref_samples) + [var_nucleotide] * len(null_polyadb_ref_samples) + [var_nucleotide] * len(mask_unif_ref_samples) + [var_nucleotide] * len(null_unif_ref_samples) + [var_nucleotide] * len(mask_no_use_delete_ref_samples),\n",
    "\n",
    "        'ref_seq'      : [ref_seq] + mask_pwm_ref_samples + mask_delete_ref_samples + mask_dinuc_ref_samples + null_dinuc_ref_samples + mask_polyadb_ref_samples + null_polyadb_ref_samples + mask_unif_ref_samples + null_unif_ref_samples + mask_no_use_delete_ref_samples,\n",
    "        'var_seq'      : [var_seq] + mask_pwm_var_samples + mask_delete_var_samples + mask_dinuc_var_samples + null_dinuc_var_samples + mask_polyadb_var_samples + null_polyadb_var_samples + mask_unif_var_samples + null_unif_var_samples + mask_no_use_delete_var_samples,\n",
    "    })\n",
    "\n",
    "    #Make variant predictions with APARENT2\n",
    "\n",
    "    encoder = OneHotEncoder(seq_length=205, channel_map={'A' : 0, 'C' : 1, 'G' : 2, 'T' : 3})\n",
    "\n",
    "    x_ref = np.concatenate([encoder(row['ref_seq'])[None, None, ...] for _, row in library_df.iterrows()], axis=0)\n",
    "    x_var = np.concatenate([encoder(row['var_seq'])[None, None, ...] for _, row in library_df.iterrows()], axis=0)\n",
    "\n",
    "    l_fake = np.zeros((len(library_df), 13))\n",
    "    l_fake[:, 11] = 1.\n",
    "\n",
    "    _, ref_cut_pred = aparent_model.predict(x=[x_ref, l_fake], batch_size=32, verbose=True)\n",
    "    _, var_cut_pred = aparent_model.predict(x=[x_var, l_fake], batch_size=32, verbose=True)\n",
    "\n",
    "    #Calculate isoform logits\n",
    "\n",
    "    isoform_start = 77\n",
    "    isoform_end = 127\n",
    "\n",
    "    ref_iso_pred = np.sum(ref_cut_pred[:, isoform_start:isoform_end], axis=1)\n",
    "    var_iso_pred = np.sum(var_cut_pred[:, isoform_start:isoform_end], axis=1)\n",
    "\n",
    "    delta_logodds_77_127 = np.log(var_iso_pred / (1. - var_iso_pred)) - np.log(ref_iso_pred / (1. - ref_iso_pred))\n",
    "\n",
    "    isoform_start = 0\n",
    "    isoform_end = 205\n",
    "\n",
    "    ref_iso_pred = np.sum(ref_cut_pred[:, isoform_start:isoform_end], axis=1)\n",
    "    var_iso_pred = np.sum(var_cut_pred[:, isoform_start:isoform_end], axis=1)\n",
    "\n",
    "    delta_logodds_0_205 = np.log(var_iso_pred / (1. - var_iso_pred)) - np.log(ref_iso_pred / (1. - ref_iso_pred))\n",
    "\n",
    "    library_df['delta_logodds_77_127'] = delta_logodds_77_127\n",
    "    library_df['delta_logodds_0_205'] = delta_logodds_0_205\n",
    "\n",
    "    #Store dataframe\n",
    "\n",
    "    print(\"len(library_df) = \" + str(len(library_df)))\n",
    "\n",
    "    library_df.to_csv(gene + \"_pos_\" + str(rel_var_position) + \"_gt_rich_mask_library_20220521.csv\", sep='\\t', index=False)\n"
   ]
  },
  {
   "cell_type": "code",
   "execution_count": null,
   "metadata": {},
   "outputs": [],
   "source": []
  }
 ],
 "metadata": {
  "kernelspec": {
   "display_name": "Environment (conda_tensorflow_p36)",
   "language": "python",
   "name": "conda_tensorflow_p36"
  },
  "language_info": {
   "codemirror_mode": {
    "name": "ipython",
    "version": 3
   },
   "file_extension": ".py",
   "mimetype": "text/x-python",
   "name": "python",
   "nbconvert_exporter": "python",
   "pygments_lexer": "ipython3",
   "version": "3.6.5"
  }
 },
 "nbformat": 4,
 "nbformat_minor": 2
}
