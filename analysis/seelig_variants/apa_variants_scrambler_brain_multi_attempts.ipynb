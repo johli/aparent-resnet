{
 "cells": [
  {
   "cell_type": "code",
   "execution_count": 1,
   "metadata": {},
   "outputs": [
    {
     "name": "stderr",
     "output_type": "stream",
     "text": [
      "Using TensorFlow backend.\n"
     ]
    }
   ],
   "source": [
    "import keras\n",
    "from keras.models import Sequential, Model, load_model\n",
    "\n",
    "import os\n",
    "import pickle\n",
    "import numpy as np\n",
    "import pandas as pd\n",
    "\n",
    "import scipy.sparse as sp\n",
    "import scipy.io as spio\n",
    "\n",
    "import matplotlib.pyplot as plt\n",
    "\n",
    "from scrambler.models.scrambler_models_w_diff import *\n",
    "from scrambler.utils import OneHotEncoder, get_sequence_masks\n",
    "from scrambler.visualizations import plot_dna_logo, plot_dna_importance_scores\n"
   ]
  },
  {
   "cell_type": "code",
   "execution_count": 2,
   "metadata": {},
   "outputs": [
    {
     "name": "stdout",
     "output_type": "stream",
     "text": [
      "Loading model 0...\n",
      "Loading model 1...\n",
      "Loading model 2...\n",
      "Loading model 3...\n",
      "Loading model 4...\n",
      "Loading model 5...\n",
      "Loading model 6...\n",
      "Loading model 7...\n",
      "Loading model 8...\n",
      "Loading model 9...\n"
     ]
    }
   ],
   "source": [
    "#Load tissue-specific model\n",
    "\n",
    "import keras\n",
    "import keras.backend as K\n",
    "from keras.layers import Reshape, Concatenate, Lambda, Conv2D, BatchNormalization, Dense, Activation\n",
    "\n",
    "def load_pas_network(n_cell_types=1) :\n",
    "\n",
    "    conv_1 = Conv2D(16, (1, 8), padding='valid', activation='linear', name='pasnet_conv2d_1')\n",
    "    batchnorm_1 = BatchNormalization(axis=-1, name='pasnet_batchnorm_1')\n",
    "    relu_1 = Activation('relu')\n",
    "\n",
    "    conv_2 = Conv2D(16, (1, 8), padding='valid', activation='linear', name='pasnet_conv2d_2')\n",
    "    batchnorm_2 = BatchNormalization(axis=-1, name='pasnet_batchnorm_2')\n",
    "    relu_2 = Activation('relu')\n",
    "\n",
    "    max_pool_3 = Lambda(lambda x: K.mean(x, axis=(1, 2)))\n",
    "\n",
    "    final_dense = Dense(n_cell_types, activation='linear', kernel_initializer='zeros', bias_initializer='zeros', name='pasnet_dense_2')\n",
    "\n",
    "    def _net_func(sequence_input) :\n",
    "        \n",
    "        relu_1_out = relu_1(batchnorm_1(conv_1(sequence_input), training=False))\n",
    "        relu_2_out = relu_2(batchnorm_2(conv_2(relu_1_out), training=False))\n",
    "\n",
    "        max_pool_3_out = max_pool_3(relu_2_out)\n",
    "\n",
    "        final_dense_out = final_dense(max_pool_3_out)\n",
    "        \n",
    "        return final_dense_out\n",
    "\n",
    "    return _net_func\n",
    "\n",
    "model_name = \"human_convnet_16_16_no_dense_linear_leslie_hek293_brain_all_cuts_ensemble\"\n",
    "\n",
    "tissue_type = 'Brain_Frontal_Cortex_BA9'\n",
    "\n",
    "n_bootstraps = 10\n",
    "\n",
    "save_dir = '../../../../aparent/saved_models'\n",
    "\n",
    "pas_models = []\n",
    "\n",
    "for bootstrap_ix in range(n_bootstraps) :\n",
    "    \n",
    "    print(\"Loading model \" + str(bootstrap_ix) + \"...\")\n",
    "    \n",
    "    pas_net = load_pas_network(\n",
    "        n_cell_types=2\n",
    "    )\n",
    "    \n",
    "    pas_input = Input(shape=(1, 205, 4), name='pas_input')\n",
    "    \n",
    "    pas_model = Model([pas_input], [pas_net(pas_input)])\n",
    "    \n",
    "    model_path = os.path.join(save_dir, model_name + '_' + str(bootstrap_ix) + '_pas_model' + '.h5')\n",
    "    pas_model.load_weights(model_path, by_name=True)\n",
    "    \n",
    "    pas_models.append(pas_model)\n",
    "\n",
    "ref_input = Input(name=\"ref_input\", shape=(1, 205, 4))\n",
    "var_input = Input(name=\"var_input\", shape=(1, 205, 4))\n",
    "\n",
    "ref_scores = Concatenate(axis=1)([Reshape((1, 2))(pas_models[bootstrap_ix](ref_input)) for bootstrap_ix in range(n_bootstraps)])\n",
    "var_scores = Concatenate(axis=1)([Reshape((1, 2))(pas_models[bootstrap_ix](var_input)) for bootstrap_ix in range(n_bootstraps)])\n",
    "\n",
    "mean_ref_scores = Lambda(lambda x: K.mean(x, axis=1))(ref_scores)\n",
    "mean_var_scores = Lambda(lambda x: K.mean(x, axis=1))(var_scores)\n",
    "\n",
    "dd_score = Lambda(lambda x: ((x[1][:, 1] - x[1][:, 0]) - (x[0][:, 1] - x[0][:, 0]))[:, None] )([mean_ref_scores, mean_var_scores])\n",
    "#dd_score = Lambda(lambda x: (x[:, 1] - x[:, 0])[:, None] )(mean_var_scores)\n",
    "\n",
    "predictor = Model([ref_input, var_input], [dd_score])\n",
    "\n",
    "predictor.compile(\n",
    "    optimizer=keras.optimizers.Adam(lr=0.001, beta_1=0.9, beta_2=0.999),\n",
    "    loss='mean_squared_error'\n",
    ")\n"
   ]
  },
  {
   "cell_type": "code",
   "execution_count": 3,
   "metadata": {
    "scrolled": true
   },
   "outputs": [
    {
     "name": "stdout",
     "output_type": "stream",
     "text": [
      "__________________________________________________________________________________________________\n",
      "Layer (type)                    Output Shape         Param #     Connected to                     \n",
      "==================================================================================================\n",
      "ref_input (InputLayer)          (None, 1, 205, 4)    0                                            \n",
      "__________________________________________________________________________________________________\n",
      "var_input (InputLayer)          (None, 1, 205, 4)    0                                            \n",
      "__________________________________________________________________________________________________\n",
      "model_1 (Model)                 (None, 2)            2754        ref_input[0][0]                  \n",
      "                                                                 var_input[0][0]                  \n",
      "__________________________________________________________________________________________________\n",
      "model_2 (Model)                 (None, 2)            2754        ref_input[0][0]                  \n",
      "                                                                 var_input[0][0]                  \n",
      "__________________________________________________________________________________________________\n",
      "model_3 (Model)                 (None, 2)            2754        ref_input[0][0]                  \n",
      "                                                                 var_input[0][0]                  \n",
      "__________________________________________________________________________________________________\n",
      "model_4 (Model)                 (None, 2)            2754        ref_input[0][0]                  \n",
      "                                                                 var_input[0][0]                  \n",
      "__________________________________________________________________________________________________\n",
      "model_5 (Model)                 (None, 2)            2754        ref_input[0][0]                  \n",
      "                                                                 var_input[0][0]                  \n",
      "__________________________________________________________________________________________________\n",
      "model_6 (Model)                 (None, 2)            2754        ref_input[0][0]                  \n",
      "                                                                 var_input[0][0]                  \n",
      "__________________________________________________________________________________________________\n",
      "model_7 (Model)                 (None, 2)            2754        ref_input[0][0]                  \n",
      "                                                                 var_input[0][0]                  \n",
      "__________________________________________________________________________________________________\n",
      "model_8 (Model)                 (None, 2)            2754        ref_input[0][0]                  \n",
      "                                                                 var_input[0][0]                  \n",
      "__________________________________________________________________________________________________\n",
      "model_9 (Model)                 (None, 2)            2754        ref_input[0][0]                  \n",
      "                                                                 var_input[0][0]                  \n",
      "__________________________________________________________________________________________________\n",
      "model_10 (Model)                (None, 2)            2754        ref_input[0][0]                  \n",
      "                                                                 var_input[0][0]                  \n",
      "__________________________________________________________________________________________________\n",
      "reshape_1 (Reshape)             (None, 1, 2)         0           model_1[1][0]                    \n",
      "__________________________________________________________________________________________________\n",
      "reshape_2 (Reshape)             (None, 1, 2)         0           model_2[1][0]                    \n",
      "__________________________________________________________________________________________________\n",
      "reshape_3 (Reshape)             (None, 1, 2)         0           model_3[1][0]                    \n",
      "__________________________________________________________________________________________________\n",
      "reshape_4 (Reshape)             (None, 1, 2)         0           model_4[1][0]                    \n",
      "__________________________________________________________________________________________________\n",
      "reshape_5 (Reshape)             (None, 1, 2)         0           model_5[1][0]                    \n",
      "__________________________________________________________________________________________________\n",
      "reshape_6 (Reshape)             (None, 1, 2)         0           model_6[1][0]                    \n",
      "__________________________________________________________________________________________________\n",
      "reshape_7 (Reshape)             (None, 1, 2)         0           model_7[1][0]                    \n",
      "__________________________________________________________________________________________________\n",
      "reshape_8 (Reshape)             (None, 1, 2)         0           model_8[1][0]                    \n",
      "__________________________________________________________________________________________________\n",
      "reshape_9 (Reshape)             (None, 1, 2)         0           model_9[1][0]                    \n",
      "__________________________________________________________________________________________________\n",
      "reshape_10 (Reshape)            (None, 1, 2)         0           model_10[1][0]                   \n",
      "__________________________________________________________________________________________________\n",
      "reshape_11 (Reshape)            (None, 1, 2)         0           model_1[2][0]                    \n",
      "__________________________________________________________________________________________________\n",
      "reshape_12 (Reshape)            (None, 1, 2)         0           model_2[2][0]                    \n",
      "__________________________________________________________________________________________________\n",
      "reshape_13 (Reshape)            (None, 1, 2)         0           model_3[2][0]                    \n",
      "__________________________________________________________________________________________________\n",
      "reshape_14 (Reshape)            (None, 1, 2)         0           model_4[2][0]                    \n",
      "__________________________________________________________________________________________________\n",
      "reshape_15 (Reshape)            (None, 1, 2)         0           model_5[2][0]                    \n",
      "__________________________________________________________________________________________________\n",
      "reshape_16 (Reshape)            (None, 1, 2)         0           model_6[2][0]                    \n",
      "__________________________________________________________________________________________________\n",
      "reshape_17 (Reshape)            (None, 1, 2)         0           model_7[2][0]                    \n",
      "__________________________________________________________________________________________________\n",
      "reshape_18 (Reshape)            (None, 1, 2)         0           model_8[2][0]                    \n",
      "__________________________________________________________________________________________________\n",
      "reshape_19 (Reshape)            (None, 1, 2)         0           model_9[2][0]                    \n",
      "__________________________________________________________________________________________________\n",
      "reshape_20 (Reshape)            (None, 1, 2)         0           model_10[2][0]                   \n",
      "__________________________________________________________________________________________________\n",
      "concatenate_1 (Concatenate)     (None, 10, 2)        0           reshape_1[0][0]                  \n",
      "                                                                 reshape_2[0][0]                  \n",
      "                                                                 reshape_3[0][0]                  \n",
      "                                                                 reshape_4[0][0]                  \n",
      "                                                                 reshape_5[0][0]                  \n",
      "                                                                 reshape_6[0][0]                  \n",
      "                                                                 reshape_7[0][0]                  \n",
      "                                                                 reshape_8[0][0]                  \n",
      "                                                                 reshape_9[0][0]                  \n",
      "                                                                 reshape_10[0][0]                 \n",
      "__________________________________________________________________________________________________\n",
      "concatenate_2 (Concatenate)     (None, 10, 2)        0           reshape_11[0][0]                 \n",
      "                                                                 reshape_12[0][0]                 \n",
      "                                                                 reshape_13[0][0]                 \n",
      "                                                                 reshape_14[0][0]                 \n",
      "                                                                 reshape_15[0][0]                 \n",
      "                                                                 reshape_16[0][0]                 \n",
      "                                                                 reshape_17[0][0]                 \n",
      "                                                                 reshape_18[0][0]                 \n",
      "                                                                 reshape_19[0][0]                 \n",
      "                                                                 reshape_20[0][0]                 \n",
      "__________________________________________________________________________________________________\n",
      "lambda_11 (Lambda)              (None, 2)            0           concatenate_1[0][0]              \n",
      "__________________________________________________________________________________________________\n",
      "lambda_12 (Lambda)              (None, 2)            0           concatenate_2[0][0]              \n",
      "__________________________________________________________________________________________________\n",
      "lambda_13 (Lambda)              (None, 1)            0           lambda_11[0][0]                  \n",
      "                                                                 lambda_12[0][0]                  \n",
      "==================================================================================================\n",
      "Total params: 27,540\n",
      "Trainable params: 26,900\n",
      "Non-trainable params: 640\n",
      "__________________________________________________________________________________________________\n",
      "None\n"
     ]
    }
   ],
   "source": [
    "\n",
    "print(predictor.summary())\n"
   ]
  },
  {
   "cell_type": "code",
   "execution_count": 4,
   "metadata": {},
   "outputs": [
    {
     "data": {
      "text/html": [
       "<div>\n",
       "<style scoped>\n",
       "    .dataframe tbody tr th:only-of-type {\n",
       "        vertical-align: middle;\n",
       "    }\n",
       "\n",
       "    .dataframe tbody tr th {\n",
       "        vertical-align: top;\n",
       "    }\n",
       "\n",
       "    .dataframe thead th {\n",
       "        text-align: right;\n",
       "    }\n",
       "</style>\n",
       "<table border=\"1\" class=\"dataframe\">\n",
       "  <thead>\n",
       "    <tr style=\"text-align: right;\">\n",
       "      <th></th>\n",
       "      <th>snp_id</th>\n",
       "      <th>gene</th>\n",
       "      <th>snp_pos</th>\n",
       "      <th>effect_size</th>\n",
       "    </tr>\n",
       "  </thead>\n",
       "  <tbody>\n",
       "    <tr>\n",
       "      <th>0</th>\n",
       "      <td>chr15_40328292_A_G</td>\n",
       "      <td>SRP14</td>\n",
       "      <td>82</td>\n",
       "      <td>0.030866</td>\n",
       "    </tr>\n",
       "    <tr>\n",
       "      <th>1</th>\n",
       "      <td>chr5_125878908_C_A</td>\n",
       "      <td>ALDH7A1</td>\n",
       "      <td>103</td>\n",
       "      <td>0.050960</td>\n",
       "    </tr>\n",
       "  </tbody>\n",
       "</table>\n",
       "</div>"
      ],
      "text/plain": [
       "               snp_id     gene  snp_pos  effect_size\n",
       "0  chr15_40328292_A_G    SRP14       82     0.030866\n",
       "1  chr5_125878908_C_A  ALDH7A1      103     0.050960"
      ]
     },
     "execution_count": 4,
     "metadata": {},
     "output_type": "execute_result"
    }
   ],
   "source": [
    "#Load variant sequence selection\n",
    "\n",
    "snp_pred_df = pd.read_csv(\"../../../../autoscrambler/analysis/apa/aparent_all_libs_resnet_no_clinvar_wt_ep_5_predictions_pred_df.csv\", sep='\\t')\n",
    "snp_pred_df = snp_pred_df.query(\"tissue_type == '\" + tissue_type + \"'\").copy().reset_index(drop=True)\n",
    "\n",
    "snp_pred_df['snp_pos'] = snp_pred_df['rel_snp_pos'] - 105\n",
    "snp_pred_df['cut_to_snp'] = np.abs(snp_pred_df['snp_pos'] - 100)\n",
    "snp_pred_df = snp_pred_df.sort_values(by='cut_to_snp', ascending=True).drop_duplicates(subset=['snp_id'], keep='first')\n",
    "\n",
    "snp_pred_df = snp_pred_df.sort_values(by='snp_id').copy().reset_index(drop=True)\n",
    "\n",
    "snp_ids = [\n",
    "    'chr15_40328292_A_G',\n",
    "    'chr5_125878908_C_A',\n",
    "]\n",
    "\n",
    "df = snp_pred_df.set_index('snp_id').loc[snp_ids].reset_index()\n",
    "\n",
    "df[['snp_id', 'gene', 'snp_pos', 'effect_size']]\n"
   ]
  },
  {
   "cell_type": "code",
   "execution_count": 5,
   "metadata": {},
   "outputs": [],
   "source": [
    "#Generate data feature matrices\n",
    "\n",
    "#Load data matrices\n",
    "encoder = OneHotEncoder(seq_length=205, channel_map={'A' : 0, 'C' : 1, 'G' : 2, 'T' : 3})\n",
    "\n",
    "x_ref = np.concatenate([encoder(row['wide_seq_ext'][105:105+205])[None, None, ...] for _, row in df.iterrows()], axis=0)\n",
    "x_var = np.concatenate([encoder(row['wide_seq_ext_var'][105:105+205])[None, None, ...] for _, row in df.iterrows()], axis=0)\n",
    "\n",
    "b = np.max(x_ref - x_var, axis=-1)[..., None] * 50.\n"
   ]
  },
  {
   "cell_type": "code",
   "execution_count": 6,
   "metadata": {},
   "outputs": [],
   "source": [
    "#Up-sample each example to interpret\n",
    "\n",
    "n_attempts = 64\n",
    "\n",
    "x_ref = np.repeat(x_ref, n_attempts, axis=0)\n",
    "x_var = np.repeat(x_var, n_attempts, axis=0)\n",
    "b = np.repeat(b, n_attempts, axis=0)\n"
   ]
  },
  {
   "cell_type": "code",
   "execution_count": 7,
   "metadata": {},
   "outputs": [],
   "source": [
    "#Define sequence template and background\n",
    "\n",
    "sequence_template = '$' * 205\n",
    "\n",
    "onehot_template = encoder(sequence_template)[None, ...]\n",
    "sequence_mask = get_sequence_masks([sequence_template])[0]\n"
   ]
  },
  {
   "cell_type": "code",
   "execution_count": 8,
   "metadata": {},
   "outputs": [],
   "source": [
    "#Calculate biased, example-specific backgrounds\n",
    "\n",
    "pseudo_count = 100.0\n",
    "\n",
    "x_mean = np.ones((x_ref.shape[0], 205, 4)) * 0.25#(x_ref[:, 0, ...] + pseudo_count) / (1. + 4. * pseudo_count)\n",
    "\n",
    "group = np.arange(x_mean.shape[0])[:, None]\n"
   ]
  },
  {
   "cell_type": "code",
   "execution_count": 9,
   "metadata": {},
   "outputs": [],
   "source": [
    "#Run optimization with bias turned on across CSE, to reduce variance further\n",
    "\n",
    "cse_bias = np.zeros((1, 1, 205, 1))\n",
    "cse_bias[:, :, 70:76, :] = 50.\n"
   ]
  },
  {
   "cell_type": "code",
   "execution_count": 10,
   "metadata": {},
   "outputs": [
    {
     "name": "stderr",
     "output_type": "stream",
     "text": [
      "/home/ubuntu/anaconda3/envs/tensorflow_p36/lib/python3.6/site-packages/dask/dataframe/utils.py:14: FutureWarning: pandas.util.testing is deprecated. Use the functions in the public API at pandas.testing instead.\n",
      "  import pandas.util.testing as tm\n"
     ]
    },
    {
     "name": "stdout",
     "output_type": "stream",
     "text": [
      "\n",
      "WARNING: The TensorFlow contrib module will not be included in TensorFlow 2.0.\n",
      "For more information, please see:\n",
      "  * https://github.com/tensorflow/community/blob/master/rfcs/20180907-contrib-sunset.md\n",
      "  * https://github.com/tensorflow/addons\n",
      "If you depend on functionality not listed there, please file an issue.\n",
      "\n"
     ]
    }
   ],
   "source": [
    "#Build scrambler\n",
    "\n",
    "#Scrambler network configuration\n",
    "network_config = {\n",
    "    'n_groups' : 1,\n",
    "    'n_resblocks_per_group' : 1,\n",
    "    'n_channels' : 16,\n",
    "    'window_size' : 3,\n",
    "    'dilation_rates' : [1],\n",
    "    'drop_rate' : 0.0,\n",
    "    'norm_mode' : 'instance',\n",
    "    'mask_smoothing' : False,\n",
    "    'mask_smoothing_window_size' : 5,\n",
    "    'mask_smoothing_std' : 1.,\n",
    "    'mask_drop_scales' : [1, 5],\n",
    "    'mask_min_drop_rate' : 0.0,\n",
    "    'mask_max_drop_rate' : 0.5,\n",
    "    'label_input' : False\n",
    "}\n",
    "\n",
    "#Initialize scrambler\n",
    "scrambler = Scrambler(\n",
    "    n_inputs=2,\n",
    "    scrambler_mode='inclusion',\n",
    "    input_size_x=1,\n",
    "    input_size_y=205,\n",
    "    n_out_channels=4,\n",
    "    input_templates=[onehot_template for k in range(x_ref.shape[0])],\n",
    "    input_backgrounds=[x_mean[k, :, :] for k in range(x_ref.shape[0])],\n",
    "    batch_size=8,\n",
    "    n_samples=32,\n",
    "    multi_input_mode='shared',\n",
    "    sample_mode='gumbel',\n",
    "    gumbel_temp=0.1,\n",
    "    zeropad_input=False,\n",
    "    mask_dropout=False,\n",
    "    network_config=network_config,\n",
    "    subset_size=None\n",
    ")\n"
   ]
  },
  {
   "cell_type": "code",
   "execution_count": 11,
   "metadata": {
    "scrolled": true
   },
   "outputs": [
    {
     "name": "stdout",
     "output_type": "stream",
     "text": [
      "Optimizing batch 0...\n",
      "Epoch 1/1\n",
      "100/100 [==============================] - 7s 66ms/step - loss: 0.0029 - ft_nll_loss: 0.0023 - ft_entropy_loss: 6.1880e-04\n",
      "Epoch 1/1\n",
      "100/100 [==============================] - 3s 26ms/step - loss: 0.0035 - ft_nll_loss: 0.0029 - ft_entropy_loss: 5.7074e-04\n",
      "Epoch 1/1\n",
      "100/100 [==============================] - 3s 26ms/step - loss: 0.0032 - ft_nll_loss: 0.0026 - ft_entropy_loss: 5.9533e-04\n",
      "Epoch 1/1\n",
      "100/100 [==============================] - 3s 26ms/step - loss: 0.0029 - ft_nll_loss: 0.0023 - ft_entropy_loss: 5.9838e-04\n",
      "Epoch 1/1\n",
      "100/100 [==============================] - 3s 26ms/step - loss: 0.0028 - ft_nll_loss: 0.0022 - ft_entropy_loss: 6.0910e-04\n",
      "Epoch 1/1\n",
      "100/100 [==============================] - 3s 26ms/step - loss: 0.0034 - ft_nll_loss: 0.0029 - ft_entropy_loss: 5.7065e-04\n",
      "Epoch 1/1\n",
      "100/100 [==============================] - 3s 26ms/step - loss: 0.0033 - ft_nll_loss: 0.0027 - ft_entropy_loss: 6.5823e-04\n",
      "Epoch 1/1\n",
      "100/100 [==============================] - 3s 26ms/step - loss: 0.0039 - ft_nll_loss: 0.0034 - ft_entropy_loss: 5.0926e-04\n",
      "Epoch 1/1\n",
      "100/100 [==============================] - 3s 26ms/step - loss: 0.0028 - ft_nll_loss: 0.0020 - ft_entropy_loss: 7.7465e-04\n",
      "Epoch 1/1\n",
      "100/100 [==============================] - 3s 26ms/step - loss: 0.0033 - ft_nll_loss: 0.0027 - ft_entropy_loss: 6.3225e-04\n",
      "Epoch 1/1\n",
      "100/100 [==============================] - 3s 26ms/step - loss: 0.0033 - ft_nll_loss: 0.0027 - ft_entropy_loss: 5.7447e-04\n",
      "Epoch 1/1\n",
      "100/100 [==============================] - 3s 26ms/step - loss: 0.0032 - ft_nll_loss: 0.0026 - ft_entropy_loss: 6.1417e-04\n",
      "Epoch 1/1\n",
      "100/100 [==============================] - 3s 26ms/step - loss: 0.0033 - ft_nll_loss: 0.0027 - ft_entropy_loss: 6.3880e-04\n",
      "Epoch 1/1\n",
      "100/100 [==============================] - 3s 26ms/step - loss: 0.0029 - ft_nll_loss: 0.0023 - ft_entropy_loss: 6.2461e-04\n",
      "Epoch 1/1\n",
      "100/100 [==============================] - 3s 26ms/step - loss: 0.0030 - ft_nll_loss: 0.0024 - ft_entropy_loss: 6.1719e-04\n",
      "Epoch 1/1\n",
      "100/100 [==============================] - 3s 26ms/step - loss: 0.0035 - ft_nll_loss: 0.0029 - ft_entropy_loss: 6.1020e-04\n",
      "Optimizing batch 0...\n",
      "Epoch 1/1\n",
      "300/300 [==============================] - 11s 35ms/step - loss: 0.1492 - ft_nll_loss: 0.0015 - ft_entropy_loss: 0.1476\n",
      "Epoch 1/1\n",
      "300/300 [==============================] - 8s 26ms/step - loss: 0.1496 - ft_nll_loss: 0.0017 - ft_entropy_loss: 0.1479\n",
      "Epoch 1/1\n",
      "300/300 [==============================] - 8s 26ms/step - loss: 0.1484 - ft_nll_loss: 0.0018 - ft_entropy_loss: 0.1466\n",
      "Epoch 1/1\n",
      "300/300 [==============================] - 8s 27ms/step - loss: 0.1464 - ft_nll_loss: 0.0016 - ft_entropy_loss: 0.1447\n",
      "Epoch 1/1\n",
      "300/300 [==============================] - 8s 27ms/step - loss: 0.1478 - ft_nll_loss: 0.0019 - ft_entropy_loss: 0.1458\n",
      "Epoch 1/1\n",
      "300/300 [==============================] - 8s 27ms/step - loss: 0.1475 - ft_nll_loss: 0.0022 - ft_entropy_loss: 0.1453\n",
      "Epoch 1/1\n",
      "300/300 [==============================] - 8s 27ms/step - loss: 0.1502 - ft_nll_loss: 0.0015 - ft_entropy_loss: 0.1487\n",
      "Epoch 1/1\n",
      "300/300 [==============================] - 8s 26ms/step - loss: 0.1483 - ft_nll_loss: 0.0019 - ft_entropy_loss: 0.1463\n",
      "Epoch 1/1\n",
      "300/300 [==============================] - 8s 27ms/step - loss: 0.1574 - ft_nll_loss: 0.0017 - ft_entropy_loss: 0.1557\n",
      "Epoch 1/1\n",
      "300/300 [==============================] - 8s 27ms/step - loss: 0.1571 - ft_nll_loss: 0.0022 - ft_entropy_loss: 0.1549\n",
      "Epoch 1/1\n",
      "300/300 [==============================] - 8s 26ms/step - loss: 0.1546 - ft_nll_loss: 0.0022 - ft_entropy_loss: 0.1524\n",
      "Epoch 1/1\n",
      "300/300 [==============================] - 8s 27ms/step - loss: 0.1544 - ft_nll_loss: 0.0023 - ft_entropy_loss: 0.1520\n",
      "Epoch 1/1\n",
      "300/300 [==============================] - 8s 26ms/step - loss: 0.1568 - ft_nll_loss: 0.0024 - ft_entropy_loss: 0.1544\n",
      "Epoch 1/1\n",
      "300/300 [==============================] - 8s 27ms/step - loss: 0.1581 - ft_nll_loss: 0.0025 - ft_entropy_loss: 0.1556\n",
      "Epoch 1/1\n",
      "300/300 [==============================] - 8s 27ms/step - loss: 0.1515 - ft_nll_loss: 0.0021 - ft_entropy_loss: 0.1494\n",
      "Epoch 1/1\n",
      "300/300 [==============================] - 8s 27ms/step - loss: 0.1562 - ft_nll_loss: 0.0025 - ft_entropy_loss: 0.1537\n"
     ]
    }
   ],
   "source": [
    "#Round 1: Pre-training\n",
    "\n",
    "[pwm_ref_pre, pwm_var_pre], [sample_ref_pre, sample_var_pre], [scores_pre, _], pretrain_histories = scrambler.optimize(\n",
    "    predictor,\n",
    "    [x_ref, x_var],\n",
    "    np.zeros((x_ref.shape[0], 1)),\n",
    "    bias=[b + np.tile(cse_bias, (x_ref.shape[0], 1, 1, 1))],\n",
    "    group=[group, group],\n",
    "    batch_size=8,\n",
    "    n_iters=100,\n",
    "    norm_mode='instance',\n",
    "    adam_lr=0.01,\n",
    "    adam_beta_1=0.5,\n",
    "    adam_beta_2=0.9,\n",
    "    nll_mode='reconstruction',\n",
    "    predictor_task='regression',\n",
    "    entropy_mode='target',\n",
    "    entropy_bits=0.5,\n",
    "    entropy_weight=1.,\n",
    "    subset_size=None,\n",
    "    cache_prefix_path='saved_models/apa_vars_gtex',\n",
    "    load_from_cache=False,\n",
    ")\n",
    "\n",
    "#Round 2: Fine-tuning\n",
    "\n",
    "[pwm_ref_fine, pwm_var_fine], [sample_ref_fine, sample_var_fine], [scores_fine, _], finetune_histories = scrambler.optimize(\n",
    "    predictor,\n",
    "    [x_ref, x_var],\n",
    "    np.zeros((x_ref.shape[0], 1)),\n",
    "    bias=[b + np.tile(cse_bias, (x_ref.shape[0], 1, 1, 1))],\n",
    "    group=[group, group],\n",
    "    batch_size=8,\n",
    "    n_iters=300,\n",
    "    norm_mode='instance',\n",
    "    adam_lr=0.01,\n",
    "    adam_beta_1=0.5,\n",
    "    adam_beta_2=0.9,\n",
    "    nll_mode='reconstruction',\n",
    "    predictor_task='regression',\n",
    "    entropy_mode='maximization',\n",
    "    entropy_bits=0.0,\n",
    "    entropy_weight=0.1,\n",
    "    subset_size=None,\n",
    "    cache_prefix_path='saved_models/apa_vars_gtex',\n",
    "    load_from_cache=True,\n",
    ")\n"
   ]
  },
  {
   "cell_type": "code",
   "execution_count": 12,
   "metadata": {},
   "outputs": [],
   "source": [
    "#Aggregate across repeated attempts\n",
    "\n",
    "x_ref = np.reshape(x_ref, (x_ref.shape[0] // n_attempts, n_attempts, 1, x_ref.shape[2], 4))[:, 0, ...]\n",
    "x_var = np.reshape(x_var, (x_var.shape[0] // n_attempts, n_attempts, 1, x_var.shape[2], 4))[:, 0, ...]\n",
    "\n",
    "b = np.reshape(b, (b.shape[0] // n_attempts, n_attempts, 1, b.shape[2], 1))[:, 0, ...]\n",
    "\n",
    "pwm_ref_pre = np.mean(np.reshape(pwm_ref_pre, (pwm_ref_pre.shape[0] // n_attempts, n_attempts, 1, pwm_ref_pre.shape[2], 4)), axis=1)\n",
    "pwm_var_pre = np.mean(np.reshape(pwm_var_pre, (pwm_var_pre.shape[0] // n_attempts, n_attempts, 1, pwm_var_pre.shape[2], 4)), axis=1)\n",
    "\n",
    "sample_ref_pre = np.mean(np.reshape(sample_ref_pre, (sample_ref_pre.shape[0] // n_attempts, n_attempts, sample_ref_pre.shape[1], 1, sample_ref_pre.shape[3], 4)), axis=1)\n",
    "sample_var_pre = np.mean(np.reshape(sample_var_pre, (sample_var_pre.shape[0] // n_attempts, n_attempts, sample_var_pre.shape[1], 1, sample_var_pre.shape[3], 4)), axis=1)\n",
    "\n",
    "scores_pre = np.mean(np.reshape(scores_pre, (scores_pre.shape[0] // n_attempts, n_attempts, 1, scores_pre.shape[2], 1)), axis=1)\n",
    "\n",
    "pwm_ref_fine = np.mean(np.reshape(pwm_ref_fine, (pwm_ref_fine.shape[0] // n_attempts, n_attempts, 1, pwm_ref_fine.shape[2], 4)), axis=1)\n",
    "pwm_var_fine = np.mean(np.reshape(pwm_var_fine, (pwm_var_fine.shape[0] // n_attempts, n_attempts, 1, pwm_var_fine.shape[2], 4)), axis=1)\n",
    "\n",
    "sample_ref_fine = np.mean(np.reshape(sample_ref_fine, (sample_ref_fine.shape[0] // n_attempts, n_attempts, sample_ref_fine.shape[1], 1, sample_ref_fine.shape[3], 4)), axis=1)\n",
    "sample_var_fine = np.mean(np.reshape(sample_var_fine, (sample_var_fine.shape[0] // n_attempts, n_attempts, sample_var_fine.shape[1], 1, sample_var_fine.shape[3], 4)), axis=1)\n",
    "\n",
    "scores_fine = np.mean(np.reshape(scores_fine, (scores_fine.shape[0] // n_attempts, n_attempts, 1, scores_fine.shape[2], 1)), axis=1)\n"
   ]
  },
  {
   "cell_type": "code",
   "execution_count": 13,
   "metadata": {},
   "outputs": [],
   "source": [
    "#Cache interpretations\n",
    "\n",
    "save_suffix = '_per_example_inference_mode_brain_multi_attempt'\n",
    "'''\n",
    "#Store interpretations\n",
    "pickle.dump({\n",
    "    'pwm_ref_pre' : pwm_ref_pre,\n",
    "    'pwm_var_pre' : pwm_var_pre,\n",
    "\n",
    "    'sample_ref_pre' : sample_ref_pre,\n",
    "    'sample_var_pre' : sample_var_pre,\n",
    "    \n",
    "    'scores_pre' : scores_pre,\n",
    "    \n",
    "    'pwm_ref_fine' : pwm_ref_fine,\n",
    "    'pwm_var_fine' : pwm_var_fine,\n",
    "\n",
    "    'sample_ref_fine' : sample_ref_fine,\n",
    "    'sample_var_fine' : sample_var_fine,\n",
    "\n",
    "    'scores_fine' : scores_fine,\n",
    "}, open('apaiants_gtex_interpretations' + save_suffix + '.pickle', 'wb'))\n",
    "'''\n",
    "\n",
    "#Load interpretations\n",
    "cache_dict = pickle.load(open('apaiants_gtex_interpretations' + save_suffix + '.pickle', 'rb'))\n",
    "\n",
    "pwm_ref_pre = cache_dict['pwm_ref_pre']\n",
    "pwm_var_pre = cache_dict['pwm_var_pre']\n",
    "\n",
    "sample_ref_pre = cache_dict['sample_ref_pre']\n",
    "sample_var_pre = cache_dict['sample_var_pre']\n",
    "\n",
    "scores_pre = cache_dict['scores_pre']\n",
    "\n",
    "pwm_ref_fine = cache_dict['pwm_ref_fine']\n",
    "pwm_var_fine = cache_dict['pwm_var_fine']\n",
    "\n",
    "sample_ref_fine = cache_dict['sample_ref_fine']\n",
    "sample_var_fine = cache_dict['sample_var_fine']\n",
    "\n",
    "scores_fine = cache_dict['scores_fine']\n"
   ]
  },
  {
   "cell_type": "code",
   "execution_count": 14,
   "metadata": {},
   "outputs": [
    {
     "data": {
      "image/png": "[encoded data removed]",
      "text/plain": [
       "<Figure size 576x216 with 2 Axes>"
      ]
     },
     "metadata": {},
     "output_type": "display_data"
    }
   ],
   "source": [
    "\n",
    "def _rolling_average(x, window=1) :\n",
    "    x_avg = []\n",
    "    \n",
    "    for j in range(x.shape[0]) :\n",
    "        j_min = max(j - window + 1, 0)\n",
    "        x_avg.append(np.mean(x[j_min:j+1]))\n",
    "    \n",
    "    return np.array(x_avg)\n",
    "\n",
    "f, (ax1, ax2) = plt.subplots(1, 2, figsize=(2 * 4, 3))\n",
    "\n",
    "n_epochs_actual = len(pretrain_histories[0]['ft_nll']) + len(finetune_histories[0]['ft_nll'])\n",
    "\n",
    "n_epochs_pretrain = len(pretrain_histories[0]['ft_nll'])\n",
    "n_epochs_finetune = len(finetune_histories[0]['ft_nll'])\n",
    "\n",
    "nll_rolling_window = 5\n",
    "entropy_rolling_window = 1\n",
    "\n",
    "for i in range(len(pretrain_histories)) :\n",
    "    ax1.plot(np.arange(1, n_epochs_actual + 1), _rolling_average(np.concatenate([np.array(pretrain_histories[i]['ft_nll']), np.array(finetune_histories[i]['ft_nll'])], axis=0), window=nll_rolling_window), linewidth=3)\n",
    "\n",
    "ax1.axvline(x=n_epochs_pretrain, linewidth=2, color='red', linestyle='--')\n",
    "\n",
    "plt.sca(ax1)\n",
    "plt.xlabel(\"Epochs\", fontsize=14)\n",
    "plt.ylabel(\"NLL\", fontsize=14)\n",
    "plt.xlim(1, n_epochs_actual)\n",
    "plt.xticks([1, n_epochs_actual], [1, n_epochs_actual], fontsize=12)\n",
    "plt.yticks(fontsize=12)\n",
    "\n",
    "for i in range(len(pretrain_histories)) :\n",
    "    ax2.plot(np.arange(1, n_epochs_actual + 1), _rolling_average(np.concatenate([np.array(pretrain_histories[i]['ft_entropy']), np.array(finetune_histories[i]['ft_entropy'])], axis=0), window=entropy_rolling_window), linewidth=3)\n",
    "\n",
    "ax2.axvline(x=n_epochs_pretrain, linewidth=2, color='red', linestyle='--')\n",
    "\n",
    "plt.sca(ax2)\n",
    "plt.xlabel(\"Epochs\", fontsize=14)\n",
    "plt.ylabel(\"Entropy Loss\", fontsize=14)\n",
    "plt.xlim(1, n_epochs_actual)\n",
    "plt.xticks([1, n_epochs_actual], [1, n_epochs_actual], fontsize=12)\n",
    "plt.yticks(fontsize=12)\n",
    "\n",
    "plt.tight_layout()\n",
    "\n",
    "plt.show()\n"
   ]
  },
  {
   "cell_type": "code",
   "execution_count": 15,
   "metadata": {
    "scrolled": false
   },
   "outputs": [
    {
     "name": "stdout",
     "output_type": "stream",
     "text": [
      "Sequence 0:\n",
      " - Prediction (original) = 0.1450\n",
      " - Prediction (scrambled) = 0.1351\n"
     ]
    },
    {
     "data": {
      "image/png": "[encoded data removed]",
      "text/plain": [
       "<Figure size 1008x46.8 with 1 Axes>"
      ]
     },
     "metadata": {},
     "output_type": "display_data"
    },
    {
     "data": {
      "image/png": "[encoded data removed]",
      "text/plain": [
       "<Figure size 1008x46.8 with 1 Axes>"
      ]
     },
     "metadata": {},
     "output_type": "display_data"
    },
    {
     "data": {
      "image/png": "[encoded data removed]",
      "text/plain": [
       "<Figure size 1008x46.8 with 1 Axes>"
      ]
     },
     "metadata": {},
     "output_type": "display_data"
    },
    {
     "data": {
      "image/png": "[encoded data removed]",
      "text/plain": [
       "<Figure size 1008x46.8 with 1 Axes>"
      ]
     },
     "metadata": {},
     "output_type": "display_data"
    },
    {
     "data": {
      "image/png": "[encoded data removed]",
      "text/plain": [
       "<Figure size 1008x46.8 with 1 Axes>"
      ]
     },
     "metadata": {},
     "output_type": "display_data"
    },
    {
     "data": {
      "image/png": "[encoded data removed]",
      "text/plain": [
       "<Figure size 1008x46.8 with 1 Axes>"
      ]
     },
     "metadata": {},
     "output_type": "display_data"
    },
    {
     "data": {
      "image/png": "[encoded data removed]",
      "text/plain": [
       "<Figure size 1008x46.8 with 1 Axes>"
      ]
     },
     "metadata": {},
     "output_type": "display_data"
    },
    {
     "data": {
      "image/png": "[encoded data removed]",
      "text/plain": [
       "<Figure size 1008x46.8 with 1 Axes>"
      ]
     },
     "metadata": {},
     "output_type": "display_data"
    },
    {
     "name": "stdout",
     "output_type": "stream",
     "text": [
      "Sequence 1:\n",
      " - Prediction (original) = -0.129\n",
      " - Prediction (scrambled) = -0.128\n"
     ]
    },
    {
     "data": {
      "image/png": "[encoded data removed]",
      "text/plain": [
       "<Figure size 1008x46.8 with 1 Axes>"
      ]
     },
     "metadata": {},
     "output_type": "display_data"
    },
    {
     "data": {
      "image/png": "[encoded data removed]",
      "text/plain": [
       "<Figure size 1008x46.8 with 1 Axes>"
      ]
     },
     "metadata": {},
     "output_type": "display_data"
    },
    {
     "data": {
      "image/png": "[encoded data removed]",
      "text/plain": [
       "<Figure size 1008x46.8 with 1 Axes>"
      ]
     },
     "metadata": {},
     "output_type": "display_data"
    },
    {
     "data": {
      "image/png": "[encoded data removed]",
      "text/plain": [
       "<Figure size 1008x46.8 with 1 Axes>"
      ]
     },
     "metadata": {},
     "output_type": "display_data"
    },
    {
     "data": {
      "image/png": "[encoded data removed]",
      "text/plain": [
       "<Figure size 1008x46.8 with 1 Axes>"
      ]
     },
     "metadata": {},
     "output_type": "display_data"
    },
    {
     "data": {
      "image/png": "[encoded data removed]",
      "text/plain": [
       "<Figure size 1008x46.8 with 1 Axes>"
      ]
     },
     "metadata": {},
     "output_type": "display_data"
    },
    {
     "data": {
      "image/png": "[encoded data removed]",
      "text/plain": [
       "<Figure size 1008x46.8 with 1 Axes>"
      ]
     },
     "metadata": {},
     "output_type": "display_data"
    },
    {
     "data": {
      "image/png": "[encoded data removed]",
      "text/plain": [
       "<Figure size 1008x46.8 with 1 Axes>"
      ]
     },
     "metadata": {},
     "output_type": "display_data"
    }
   ],
   "source": [
    "#Visualize a few reconstructed sequence patterns\n",
    "\n",
    "model_name = \"apa_vars_resnet_gtex_finetuned_brain_multi_attempt\"\n",
    "\n",
    "pwm_ref_fine_no_bg = (2. * x_ref - 1.) * scores_fine * sequence_mask[None, None, :, None]\n",
    "pwm_ref_fine_no_bg = np.exp(pwm_ref_fine_no_bg) / np.sum(np.exp(pwm_ref_fine_no_bg), axis=-1)[..., None]\n",
    "\n",
    "pwm_var_fine_no_bg = (2. * x_var - 1.) * scores_fine * sequence_mask[None, None, :, None]\n",
    "pwm_var_fine_no_bg = np.exp(pwm_var_fine_no_bg) / np.sum(np.exp(pwm_var_fine_no_bg), axis=-1)[..., None]\n",
    "\n",
    "save_examples = [0, 1]\n",
    "\n",
    "q_thresh = 0.95\n",
    "\n",
    "for plot_i in range(x_ref.shape[0]) :\n",
    "    \n",
    "    print(\"Sequence \" + str(plot_i) + \":\")\n",
    "    \n",
    "    lor = predictor.predict(x=[x_ref[plot_i:plot_i+1], x_var[plot_i:plot_i+1]], batch_size=1)[0, 0]\n",
    "    lor_scrambled_fine = np.mean(predictor.predict(x=[sample_ref_fine[plot_i], sample_var_fine[plot_i]], batch_size=32)[:, 0])\n",
    "    \n",
    "    print(\" - Prediction (original) = \" + str(round(lor, 6))[:6])\n",
    "    print(\" - Prediction (scrambled) = \" + str(round(lor_scrambled_fine, 6))[:6])\n",
    "    \n",
    "    save_figs = False\n",
    "    if save_examples is not None and plot_i in save_examples :\n",
    "        save_figs = True\n",
    "    \n",
    "    score_clip = np.quantile(scores_fine[plot_i, 0, :, 0], q=q_thresh)\n",
    "    \n",
    "    plot_dna_logo(x_ref[plot_i, 0, :, :], sequence_template=sequence_template, figsize=(14, 0.65), plot_start=0, plot_end=205, plot_sequence_template=True, save_figs=save_figs, fig_name=model_name + \"_ix_\" + str(plot_i) + \"_ref\")\n",
    "    plot_dna_logo(pwm_ref_fine[plot_i, 0, :, :], sequence_template=sequence_template, figsize=(14, 0.65), plot_start=0, plot_end=205, plot_sequence_template=True, save_figs=save_figs, fig_name=model_name + \"_ix_\" + str(plot_i) + \"_ref\" + \"_pwm\")\n",
    "    plot_dna_logo(pwm_ref_fine_no_bg[plot_i, 0, :, :], sequence_template=sequence_template, figsize=(14, 0.65), plot_start=0, plot_end=205, plot_sequence_template=True, save_figs=save_figs, fig_name=model_name + \"_ix_\" + str(plot_i) + \"_ref\" + \"_pwm\")\n",
    "    plot_dna_importance_scores(scores_fine[plot_i, 0, :, :].T, encoder.decode(x_ref[plot_i, 0, :, :]), figsize=(14, 0.65), score_clip=score_clip, sequence_template=sequence_template, plot_start=0, plot_end=205, save_figs=save_figs, fig_name=model_name + \"_ix_\" + str(plot_i) + \"_ref\" + \"_scores\")\n",
    "    \n",
    "    plot_dna_logo(x_var[plot_i, 0, :, :], sequence_template=sequence_template, figsize=(14, 0.65), plot_start=0, plot_end=205, plot_sequence_template=True, save_figs=save_figs, fig_name=model_name + \"_ix_\" + str(plot_i) + \"_var\")\n",
    "    plot_dna_logo(pwm_var_fine[plot_i, 0, :, :], sequence_template=sequence_template, figsize=(14, 0.65), plot_start=0, plot_end=205, plot_sequence_template=True, save_figs=save_figs, fig_name=model_name + \"_ix_\" + str(plot_i) + \"_var\" + \"_pwm\")\n",
    "    plot_dna_logo(pwm_var_fine_no_bg[plot_i, 0, :, :], sequence_template=sequence_template, figsize=(14, 0.65), plot_start=0, plot_end=205, plot_sequence_template=True, save_figs=save_figs, fig_name=model_name + \"_ix_\" + str(plot_i) + \"_var\" + \"_pwm\")\n",
    "    plot_dna_importance_scores(scores_fine[plot_i, 0, :, :].T, encoder.decode(x_var[plot_i, 0, :, :]), figsize=(14, 0.65), score_clip=score_clip, sequence_template=sequence_template, plot_start=0, plot_end=205, save_figs=save_figs, fig_name=model_name + \"_ix_\" + str(plot_i) + \"_var\" + \"_scores\")\n"
   ]
  },
  {
   "cell_type": "code",
   "execution_count": null,
   "metadata": {},
   "outputs": [],
   "source": []
  }
 ],
 "metadata": {
  "kernelspec": {
   "display_name": "Environment (conda_tensorflow_p36)",
   "language": "python",
   "name": "conda_tensorflow_p36"
  },
  "language_info": {
   "codemirror_mode": {
    "name": "ipython",
    "version": 3
   },
   "file_extension": ".py",
   "mimetype": "text/x-python",
   "name": "python",
   "nbconvert_exporter": "python",
   "pygments_lexer": "ipython3",
   "version": "3.6.5"
  }
 },
 "nbformat": 4,
 "nbformat_minor": 2
}
