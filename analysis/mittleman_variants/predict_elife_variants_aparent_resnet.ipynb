{
 "cells": [
  {
   "cell_type": "code",
   "execution_count": 1,
   "metadata": {},
   "outputs": [
    {
     "name": "stderr",
     "output_type": "stream",
     "text": [
      "Using TensorFlow backend.\n"
     ]
    }
   ],
   "source": [
    "from __future__ import print_function\n",
    "import keras\n",
    "from keras.models import Sequential, Model, load_model\n",
    "from keras import backend as K\n",
    "\n",
    "import tensorflow as tf\n",
    "\n",
    "import os\n",
    "import pandas as pd\n",
    "\n",
    "import numpy as np\n",
    "\n",
    "import matplotlib.pyplot as plt\n",
    "import matplotlib.cm as cm\n",
    "\n",
    "import aparent.visualization as vis\n",
    "\n",
    "from aparent.predictor import *\n",
    "\n",
    "import urllib\n",
    "import urllib.request\n",
    "import pickle\n",
    "from time import sleep\n"
   ]
  },
  {
   "cell_type": "code",
   "execution_count": 2,
   "metadata": {},
   "outputs": [
    {
     "name": "stdout",
     "output_type": "stream",
     "text": [
      "spearman r = 0.696\n",
      "p-value = 0.0\n",
      "n = 58\n"
     ]
    },
    {
     "data": {
      "image/png": "[encoded data removed]",
      "text/plain": [
       "<Figure size 288x288 with 1 Axes>"
      ]
     },
     "metadata": {},
     "output_type": "display_data"
    }
   ],
   "source": [
    "from scipy.stats import pearsonr, spearmanr\n",
    "from sklearn.metrics import average_precision_score\n",
    "import random\n",
    "\n",
    "save_figs = True\n",
    "\n",
    "snp_pred_df = pd.read_csv(\"predictions/apa_elife_data/aparent_all_libs_resnet_no_clinvar_wt_ep_5_predictions_pred_df.csv\", sep='\\t')\n",
    "snp_pred_df['snp_pos'] = snp_pred_df['rel_snp_pos'] - 105\n",
    "\n",
    "from scipy.stats import spearmanr, pearsonr\n",
    "\n",
    "filtered_df = snp_pred_df.query(\"snp_pos >= 20 and snp_pos < 126 and pas != -1 and p_value < 0.05\").copy().reset_index(drop=True)\n",
    "\n",
    "r_val, p_val = spearmanr(filtered_df['delta_isoform_logodds'], filtered_df['slope'])\n",
    "\n",
    "print(\"spearman r = \" + str(round(r_val, 3)))\n",
    "print(\"p-value = \" + str(round(p_val, 8)))\n",
    "\n",
    "print(\"n = \" + str(len(filtered_df)))\n",
    "\n",
    "x_min = -1.\n",
    "x_max = 1.\n",
    "keep_index = (filtered_df['delta_isoform_logodds'].values > x_min) & (filtered_df['delta_isoform_logodds'].values <= x_max)\n",
    "\n",
    "m, b = np.polyfit(filtered_df['delta_isoform_logodds'].values[keep_index], filtered_df['slope'].values[keep_index], 1)\n",
    "\n",
    "f = plt.figure(figsize=(4, 4))\n",
    "\n",
    "plt.scatter(filtered_df['delta_isoform_logodds'].values[keep_index], filtered_df['slope'][keep_index], color='black', s=25, alpha=0.9)\n",
    "plt.plot([x_min, x_max], [x_min * m + b, x_max * m + b], linewidth=2, color='green', linestyle='--')\n",
    "\n",
    "plt.xlim(-1., 1.)\n",
    "plt.ylim(-1.75, 1.75)\n",
    "\n",
    "plt.xticks(fontsize=12)\n",
    "plt.yticks(fontsize=12)\n",
    "\n",
    "plt.xlabel(\"Predicted LOR\", fontsize=12)\n",
    "plt.ylabel(\"QTL Effect Size\", fontsize=12)\n",
    "\n",
    "plt.title(\"r = \" + str(round(r_val, 2)) + \", n = \" + str(len(filtered_df)), fontsize=12)\n",
    "\n",
    "plt.tight_layout()\n",
    "\n",
    "if save_figs :\n",
    "    plt.savefig(\"elife_apaqtl_pred_aparent_resnet_scatter.png\", dpi=150, transparent=True)\n",
    "    plt.savefig(\"elife_apaqtl_pred_aparent_resnet_scatter.eps\")\n",
    "\n",
    "plt.show()\n"
   ]
  },
  {
   "cell_type": "code",
   "execution_count": null,
   "metadata": {},
   "outputs": [],
   "source": []
  }
 ],
 "metadata": {
  "kernelspec": {
   "display_name": "Python [conda env:tensorflow]",
   "language": "python",
   "name": "conda-env-tensorflow-py"
  },
  "language_info": {
   "codemirror_mode": {
    "name": "ipython",
    "version": 3
   },
   "file_extension": ".py",
   "mimetype": "text/x-python",
   "name": "python",
   "nbconvert_exporter": "python",
   "pygments_lexer": "ipython3",
   "version": "3.6.8"
  }
 },
 "nbformat": 4,
 "nbformat_minor": 2
}
