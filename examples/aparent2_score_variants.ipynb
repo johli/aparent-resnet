{
 "cells": [
  {
   "cell_type": "code",
   "execution_count": 1,
   "metadata": {
    "scrolled": true
   },
   "outputs": [
    {
     "name": "stderr",
     "output_type": "stream",
     "text": [
      "Using TensorFlow backend.\n"
     ]
    }
   ],
   "source": [
    "from __future__ import print_function\n",
    "import keras\n",
    "from keras.models import Sequential, Model, load_model\n",
    "\n",
    "import tensorflow as tf\n",
    "\n",
    "import pandas as pd\n",
    "\n",
    "import os\n",
    "import pickle\n",
    "import numpy as np\n",
    "\n",
    "#Function to one-hot encode sequences\n",
    "def one_hot_encode(seq) :\n",
    "    \n",
    "    one_hot = np.zeros((len(seq), 4))\n",
    "    \n",
    "    for j in range(len(seq)) :\n",
    "        if seq[j] == 'A' :\n",
    "            one_hot[j, 0] = 1.\n",
    "        elif seq[j] == 'C' :\n",
    "            one_hot[j, 1] = 1.\n",
    "        elif seq[j] == 'G' :\n",
    "            one_hot[j, 2] = 1.\n",
    "        elif seq[j] == 'T' :\n",
    "            one_hot[j, 3] = 1.\n",
    "        elif seq[j] == 'N' :\n",
    "            one_hot[j, :] = 0.25\n",
    "    \n",
    "    return one_hot\n"
   ]
  },
  {
   "cell_type": "code",
   "execution_count": 2,
   "metadata": {},
   "outputs": [],
   "source": [
    "#Example variation data\n",
    "\n",
    "### Format:\n",
    "# ref_seq : PAS sequence, 205bp; core hexamer (e.g. AATAAA) should start at position 70 (0-index)\n",
    "# var_seq : Mutated PAS sequence, 205bp; core hexamer (e.g. AATAAA) should start at position 70 (0-index)\n",
    "\n",
    "genes = [\n",
    "    'PTEN',\n",
    "    'TP53',\n",
    "    'F2'\n",
    "]\n",
    "\n",
    "ref_seqs = [\n",
    "    \"AGTAGTTTCTGATCCCAGATGGTAATGTGTAGGTTCAAGGGTATTGTGTGTAGCAAGTGAAGATTGCAGAAATAAAACTTCAGTTCATGCTTGAAATTTAAGTATTGTTGTGATGCCAGAATTGCTGCTCACCGTTTTTAGGTTTCAGGTCCTCTGACACCTTTTGGTATCGTTAATTTTACTGATTTGTGTAGAATGTCAGTTG\",\n",
    "    \"CATTTTCACCCCACCCTTCCCCTCCTTCTCCCTTTTTATATCCCATTTTTATATCGATCTCTTATTTTACAATAAAACTTTGCTGCCACCTGTGTGTCTGAGGGGTGAACGCCAGTGCAGGCTACTGGGGTCAGCAGGTGCAGGGGTGAGTGAGGAGGTGCTGGGAAGCAGCCACCTGAGTCTGCAATGAGTGTGGGCTGGGGGG\",\n",
    "    \"CTCATATTCTGGGCTCCTGGAACCAATCCCGTGAAAGAATTATTTTTGTGTTTCTAAAACTATGGTTCCCGATAAAAGTGACTCTCAGCGAGCCTCAATGCTCCCAGTGCTATTCATGGGCAGCTCTCTGGGCTCAGGAAGAGCCAGTAATACTACTGGATAAAGAAGACTTAAGAATCCACCACCTGGTGCACGCTGGTAGTCC\",\n",
    "]\n",
    "\n",
    "var_seqs = [\n",
    "    \"AGTAGTTTCTGATCCCAGATGGTAATGTGTAGGTTCAAGGGTATTGTGTGTAGCAAGTGAAGATTGCAGAAATAAAACTTCAGTTCATGCTTGAAATTTTAGTATTGTTGTGATGCCAGAATTGCTGCTCACCGTTTTTAGGTTTCAGGTCCTCTGACACCTTTTGGTATCGTTAATTTTACTGATTTGTGTAGAATGTCAGTTG\",\n",
    "    \"CATTTTCACCCCACCCTTCCCCTCCTTCTCCCTTTTTATATCCCATTTTTATATCGATCTCTTATTTTACAATAAAACTTTGCTGCCACCTGTGTGTCTGAGTGGTGAACGCCAGTGCAGGCTACTGGGGTCAGCAGGTGCAGGGGTGAGTGAGGAGGTGCTGGGAAGCAGCCACCTGAGTCTGCAATGAGTGTGGGCTGGGGGG\",\n",
    "    \"CTCATATTCTGGGCTCCTGGAACCAATCCCGTGAAAGAATTATTTTTGTGTTTCTAAAACTATGGTTCCCGATAGAAGTGACTCTCAGCGAGCCTCAATGCTCCCAGTGCTATTCATGGGCAGCTCTCTGGGCTCAGGAAGAGCCAGTAATACTACTGGATAAAGAAGACTTAAGAATCCACCACCTGGTGCACGCTGGTAGTCC\",\n",
    "]\n",
    "\n",
    "df = pd.DataFrame({\n",
    "    'gene' : genes,\n",
    "    'ref_seq' : ref_seqs,\n",
    "    'var_seq' : var_seqs,\n",
    "})\n"
   ]
  },
  {
   "cell_type": "code",
   "execution_count": 3,
   "metadata": {},
   "outputs": [],
   "source": [
    "#Create data features\n",
    "\n",
    "ref_onehots = np.concatenate([one_hot_encode(row['ref_seq'])[None, None, :, :] for _, row in df.iterrows()], axis=0)\n",
    "var_onehots = np.concatenate([one_hot_encode(row['var_seq'])[None, None, :, :] for _, row in df.iterrows()], axis=0)\n",
    "\n",
    "#Always set this one-hot variable to 11 (training sub-library bias)\n",
    "lib = np.zeros((len(df), 13))\n",
    "lib[:, 11] = 1.\n"
   ]
  },
  {
   "cell_type": "code",
   "execution_count": 4,
   "metadata": {},
   "outputs": [
    {
     "name": "stdout",
     "output_type": "stream",
     "text": [
      "WARNING:tensorflow:From /home/jlinder2/anaconda3/envs/tensorflow/lib/python3.6/site-packages/tensorflow/python/framework/op_def_library.py:263: colocate_with (from tensorflow.python.framework.ops) is deprecated and will be removed in a future version.\n",
      "Instructions for updating:\n",
      "Colocations handled automatically by placer.\n"
     ]
    },
    {
     "name": "stderr",
     "output_type": "stream",
     "text": [
      "/home/jlinder2/anaconda3/envs/tensorflow/lib/python3.6/site-packages/keras/engine/saving.py:292: UserWarning: No training configuration found in save file: the model was *not* compiled. Compile it manually.\n",
      "  warnings.warn('No training configuration found in save file: '\n"
     ]
    }
   ],
   "source": [
    "#Load APARENT2 model\n",
    "\n",
    "model_name = 'aparent_all_libs_resnet_no_clinvar_wt_ep_5_var_batch_size_inference_mode_no_drop'\n",
    "\n",
    "save_dir = os.path.join(os.getcwd(), '../saved_models')\n",
    "model_path = os.path.join(save_dir, model_name + '.h5')\n",
    "\n",
    "aparent_model = load_model(model_path)\n"
   ]
  },
  {
   "cell_type": "code",
   "execution_count": 5,
   "metadata": {
    "scrolled": true
   },
   "outputs": [
    {
     "name": "stdout",
     "output_type": "stream",
     "text": [
      "3/3 [==============================] - 1s 258ms/step\n",
      "3/3 [==============================] - 0s 11ms/step\n"
     ]
    }
   ],
   "source": [
    "#Predict\n",
    "\n",
    "_, ref_cut_pred = aparent_model.predict(x=[ref_onehots, lib], batch_size=32, verbose=True)\n",
    "_, var_cut_pred = aparent_model.predict(x=[var_onehots, lib], batch_size=32, verbose=True)\n",
    "\n",
    "#Calculate isoform log odds ratios (cleavage downstream of core hexamer)\n",
    "isoform_start = 77\n",
    "isoform_end = 127\n",
    "\n",
    "ref_iso_pred_narrow = np.sum(ref_cut_pred[:, isoform_start:isoform_end], axis=1)\n",
    "var_iso_pred_narrow = np.sum(var_cut_pred[:, isoform_start:isoform_end], axis=1)\n",
    "\n",
    "delta_logodds_narrow = np.log(var_iso_pred_narrow / (1. - var_iso_pred_narrow)) - np.log(ref_iso_pred_narrow / (1. - ref_iso_pred_narrow))\n",
    "\n",
    "#Calculate isoform log odds ratios (cleavage anywhere in sequence)\n",
    "isoform_start = 0\n",
    "isoform_end = 205\n",
    "\n",
    "ref_iso_pred = np.sum(ref_cut_pred[:, isoform_start:isoform_end], axis=1)\n",
    "var_iso_pred = np.sum(var_cut_pred[:, isoform_start:isoform_end], axis=1)\n",
    "\n",
    "delta_logodds = np.log(var_iso_pred / (1. - var_iso_pred)) - np.log(ref_iso_pred / (1. - ref_iso_pred))\n"
   ]
  },
  {
   "cell_type": "code",
   "execution_count": 6,
   "metadata": {},
   "outputs": [],
   "source": [
    "#Copy the dataframe and append effect sizes\n",
    "\n",
    "pred_df = df.copy().reset_index(drop=True)\n",
    "\n",
    "pred_df['delta_logodds_narrow'] = delta_logodds_narrow\n",
    "pred_df['delta_logodds'] = delta_logodds\n"
   ]
  },
  {
   "cell_type": "code",
   "execution_count": 7,
   "metadata": {},
   "outputs": [
    {
     "name": "stdout",
     "output_type": "stream",
     "text": [
      "   gene                                            ref_seq  \\\n",
      "0  PTEN  AGTAGTTTCTGATCCCAGATGGTAATGTGTAGGTTCAAGGGTATTG...   \n",
      "1  TP53  CATTTTCACCCCACCCTTCCCCTCCTTCTCCCTTTTTATATCCCAT...   \n",
      "2    F2  CTCATATTCTGGGCTCCTGGAACCAATCCCGTGAAAGAATTATTTT...   \n",
      "\n",
      "                                             var_seq  delta_logodds_narrow  \\\n",
      "0  AGTAGTTTCTGATCCCAGATGGTAATGTGTAGGTTCAAGGGTATTG...              0.299790   \n",
      "1  CATTTTCACCCCACCCTTCCCCTCCTTCTCCCTTTTTATATCCCAT...              1.122925   \n",
      "2  CTCATATTCTGGGCTCCTGGAACCAATCCCGTGAAAGAATTATTTT...             -3.744810   \n",
      "\n",
      "   delta_logodds  \n",
      "0       0.180913  \n",
      "1       1.108848  \n",
      "2      -1.107177  \n"
     ]
    }
   ],
   "source": [
    "\n",
    "print(pred_df)\n"
   ]
  },
  {
   "cell_type": "code",
   "execution_count": null,
   "metadata": {},
   "outputs": [],
   "source": []
  }
 ],
 "metadata": {
  "kernelspec": {
   "display_name": "Python [conda env:tensorflow]",
   "language": "python",
   "name": "conda-env-tensorflow-py"
  },
  "language_info": {
   "codemirror_mode": {
    "name": "ipython",
    "version": 3
   },
   "file_extension": ".py",
   "mimetype": "text/x-python",
   "name": "python",
   "nbconvert_exporter": "python",
   "pygments_lexer": "ipython3",
   "version": "3.6.8"
  }
 },
 "nbformat": 4,
 "nbformat_minor": 2
}
